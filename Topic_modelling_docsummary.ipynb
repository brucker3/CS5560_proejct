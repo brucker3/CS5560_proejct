{
  "nbformat": 4,
  "nbformat_minor": 0,
  "metadata": {
    "colab": {
      "name": "Topic modelling docsummary.ipynb",
      "provenance": [],
      "include_colab_link": true
    },
    "kernelspec": {
      "display_name": "Python 3",
      "name": "python3"
    }
  },
  "cells": [
    {
      "cell_type": "markdown",
      "metadata": {
        "id": "view-in-github",
        "colab_type": "text"
      },
      "source": [
        "<a href=\"https://colab.research.google.com/github/brucker3/CS5560_proejct/blob/main/Topic_modelling_docsummary.ipynb\" target=\"_parent\"><img src=\"https://colab.research.google.com/assets/colab-badge.svg\" alt=\"Open In Colab\"/></a>"
      ]
    },
    {
      "cell_type": "code",
      "metadata": {
        "colab": {
          "base_uri": "https://localhost:8080/"
        },
        "id": "wSYPerL2Tk84",
        "outputId": "29b1ceb5-515c-42fc-8180-de03b1edb3a6"
      },
      "source": [
        "!pip install -U pyLDAvis\n",
        "!pip install -U gensim"
      ],
      "execution_count": 1,
      "outputs": [
        {
          "output_type": "stream",
          "text": [
            "Requirement already up-to-date: pyLDAvis in /usr/local/lib/python3.7/dist-packages (3.3.1)\n",
            "Requirement already satisfied, skipping upgrade: numexpr in /usr/local/lib/python3.7/dist-packages (from pyLDAvis) (2.7.3)\n",
            "Requirement already satisfied, skipping upgrade: gensim in /usr/local/lib/python3.7/dist-packages (from pyLDAvis) (4.0.1)\n",
            "Requirement already satisfied, skipping upgrade: numpy>=1.20.0 in /usr/local/lib/python3.7/dist-packages (from pyLDAvis) (1.20.3)\n",
            "Requirement already satisfied, skipping upgrade: setuptools in /usr/local/lib/python3.7/dist-packages (from pyLDAvis) (56.1.0)\n",
            "Requirement already satisfied, skipping upgrade: funcy in /usr/local/lib/python3.7/dist-packages (from pyLDAvis) (1.16)\n",
            "Requirement already satisfied, skipping upgrade: pandas>=1.2.0 in /usr/local/lib/python3.7/dist-packages (from pyLDAvis) (1.2.4)\n",
            "Requirement already satisfied, skipping upgrade: sklearn in /usr/local/lib/python3.7/dist-packages (from pyLDAvis) (0.0)\n",
            "Requirement already satisfied, skipping upgrade: future in /usr/local/lib/python3.7/dist-packages (from pyLDAvis) (0.16.0)\n",
            "Requirement already satisfied, skipping upgrade: joblib in /usr/local/lib/python3.7/dist-packages (from pyLDAvis) (1.0.1)\n",
            "Requirement already satisfied, skipping upgrade: jinja2 in /usr/local/lib/python3.7/dist-packages (from pyLDAvis) (2.11.3)\n",
            "Requirement already satisfied, skipping upgrade: scikit-learn in /usr/local/lib/python3.7/dist-packages (from pyLDAvis) (0.22.2.post1)\n",
            "Requirement already satisfied, skipping upgrade: scipy in /usr/local/lib/python3.7/dist-packages (from pyLDAvis) (1.4.1)\n",
            "Requirement already satisfied, skipping upgrade: smart-open>=1.8.1 in /usr/local/lib/python3.7/dist-packages (from gensim->pyLDAvis) (5.0.0)\n",
            "Requirement already satisfied, skipping upgrade: python-dateutil>=2.7.3 in /usr/local/lib/python3.7/dist-packages (from pandas>=1.2.0->pyLDAvis) (2.8.1)\n",
            "Requirement already satisfied, skipping upgrade: pytz>=2017.3 in /usr/local/lib/python3.7/dist-packages (from pandas>=1.2.0->pyLDAvis) (2018.9)\n",
            "Requirement already satisfied, skipping upgrade: MarkupSafe>=0.23 in /usr/local/lib/python3.7/dist-packages (from jinja2->pyLDAvis) (1.1.1)\n",
            "Requirement already satisfied, skipping upgrade: six>=1.5 in /usr/local/lib/python3.7/dist-packages (from python-dateutil>=2.7.3->pandas>=1.2.0->pyLDAvis) (1.15.0)\n",
            "Requirement already up-to-date: gensim in /usr/local/lib/python3.7/dist-packages (4.0.1)\n",
            "Requirement already satisfied, skipping upgrade: scipy>=0.18.1 in /usr/local/lib/python3.7/dist-packages (from gensim) (1.4.1)\n",
            "Requirement already satisfied, skipping upgrade: numpy>=1.11.3 in /usr/local/lib/python3.7/dist-packages (from gensim) (1.20.3)\n",
            "Requirement already satisfied, skipping upgrade: smart-open>=1.8.1 in /usr/local/lib/python3.7/dist-packages (from gensim) (5.0.0)\n"
          ],
          "name": "stdout"
        }
      ]
    },
    {
      "cell_type": "code",
      "metadata": {
        "colab": {
          "base_uri": "https://localhost:8080/"
        },
        "id": "nTl1a2SXTvtU",
        "outputId": "5541bd18-8338-40a6-ff6e-fcd62e426bdb"
      },
      "source": [
        "import re\n",
        "import string\n",
        "import nltk\n",
        "nltk.download('stopwords')\n",
        "nltk.download('punkt')\n",
        "from gensim import corpora, models, similarities\n",
        "from nltk.corpus import stopwords\n",
        "from nltk.stem.porter import PorterStemmer\n",
        "import pandas as pd\n",
        "import numpy as np\n",
        "import time\n",
        "import gensim\n",
        "import pyLDAvis\n",
        "import pyLDAvis.gensim_models as gensimvis\n",
        "from gensim.models import CoherenceModel"
      ],
      "execution_count": 2,
      "outputs": [
        {
          "output_type": "stream",
          "text": [
            "[nltk_data] Downloading package stopwords to /root/nltk_data...\n",
            "[nltk_data]   Package stopwords is already up-to-date!\n",
            "[nltk_data] Downloading package punkt to /root/nltk_data...\n",
            "[nltk_data]   Package punkt is already up-to-date!\n"
          ],
          "name": "stdout"
        },
        {
          "output_type": "stream",
          "text": [
            "/usr/local/lib/python3.7/dist-packages/gensim/similarities/__init__.py:15: UserWarning: The gensim.similarities.levenshtein submodule is disabled, because the optional Levenshtein package <https://pypi.org/project/python-Levenshtein/> is unavailable. Install Levenhstein (e.g. `pip install python-Levenshtein`) to suppress this warning.\n",
            "  warnings.warn(msg)\n",
            "/usr/local/lib/python3.7/dist-packages/past/types/oldstr.py:5: DeprecationWarning: Using or importing the ABCs from 'collections' instead of from 'collections.abc' is deprecated since Python 3.3,and in 3.9 it will stop working\n",
            "  from collections import Iterable\n",
            "/usr/local/lib/python3.7/dist-packages/past/builtins/misc.py:4: DeprecationWarning: Using or importing the ABCs from 'collections' instead of from 'collections.abc' is deprecated since Python 3.3,and in 3.9 it will stop working\n",
            "  from collections import Mapping\n",
            "/usr/local/lib/python3.7/dist-packages/sklearn/decomposition/_lda.py:29: DeprecationWarning: `np.float` is a deprecated alias for the builtin `float`. To silence this warning, use `float` by itself. Doing this will not modify any behavior and is safe. If you specifically wanted the numpy scalar type, use `np.float64` here.\n",
            "Deprecated in NumPy 1.20; for more details and guidance: https://numpy.org/devdocs/release/1.20.0-notes.html#deprecations\n",
            "  EPS = np.finfo(np.float).eps\n"
          ],
          "name": "stderr"
        }
      ]
    },
    {
      "cell_type": "code",
      "metadata": {
        "colab": {
          "base_uri": "https://localhost:8080/"
        },
        "id": "Xx-6g4rtTyVZ",
        "outputId": "978003ae-367f-42aa-fa1b-615bbebe58a5"
      },
      "source": [
        "#read the csv file with amazon reviews\n",
        "# with open('/content/SpanishArticle.txt', 'r') as f:\n",
        "#     text = f.readlines()\n",
        "with open('./docsummary.txt', 'r') as f:\n",
        "    meta = f.readlines()\n",
        "\n",
        "text = meta[0].split('.')\n",
        "reviews_df = pd.DataFrame(text, columns=['text'])\n",
        "# reviews_df=pd.read_csv('/content/SpanishArticle.txt',error_bad_lines=False)\n",
        "print(reviews_df.head(6))\n",
        "print(\"----------\")\n",
        "print(reviews_df.dtypes)\n",
        "print(\"----------\")\n",
        "print(reviews_df.shape)\n"
      ],
      "execution_count": 3,
      "outputs": [
        {
          "output_type": "stream",
          "text": [
            "                                                text\n",
            "0  Often, 85% amino acid sequence similarity is u...\n",
            "1   Similarly, the T cell repertoire can be asses...\n",
            "2   Nevertheless, bulk sequencing of receptors fr...\n",
            "3   This has been most evident in the clinical di...\n",
            "4   Furthermore, sequencing can be used to track ...\n",
            "5   For example, influenza vaccine responses are ...\n",
            "----------\n",
            "text    object\n",
            "dtype: object\n",
            "----------\n",
            "(50, 1)\n"
          ],
          "name": "stdout"
        }
      ]
    },
    {
      "cell_type": "code",
      "metadata": {
        "id": "M_jKRFb4T2Qg"
      },
      "source": [
        "def initial_clean(text):\n",
        "    \"\"\"\n",
        "    Function to clean text-remove punctuations, lowercase text etc.\n",
        "    \"\"\"\n",
        "    text = re.sub(\"[^a-zA-Z ]\", \"\", text)\n",
        "    text = text.lower()  # lower case text\n",
        "    text = nltk.word_tokenize(text)\n",
        "    return (text)"
      ],
      "execution_count": 4,
      "outputs": []
    },
    {
      "cell_type": "code",
      "metadata": {
        "id": "F-vIQDzFT4Se"
      },
      "source": [
        "stop_words = stopwords.words('english')\n",
        "# adding some more stop words that doesn't convey much meaning in terms of reviews feel free to extend or reduce this list\n",
        "stop_words.extend(['news', 'say','use', 'not', 'would', 'say', 'could', '_', 'be', 'know', \n",
        "                   'good', 'go', 'get', 'do','took','time','year',\n",
        "                 'done', 'try', 'many', 'some','nice', 'thank', 'think', 'see', 'rather',\n",
        "                  'easy', 'easily', 'lot', 'lack', 'make', 'want', 'seem', 'run', 'need', \n",
        "                   'even', 'right', 'line','even', 'also', 'may', 'take', 'come',\n",
        "                   'new','said', 'like','people'])"
      ],
      "execution_count": 5,
      "outputs": []
    },
    {
      "cell_type": "code",
      "metadata": {
        "id": "KPXyKkSST5HX"
      },
      "source": [
        "def remove_stop_words(text):\n",
        "     return [word for word in text if word not in stop_words]"
      ],
      "execution_count": 6,
      "outputs": []
    },
    {
      "cell_type": "code",
      "metadata": {
        "id": "zzuMRDFZT7j2"
      },
      "source": [
        "stemmer = PorterStemmer()\n",
        "def stem_words(text):\n",
        "    \"\"\"\n",
        "    Function to stem words\n",
        "    \"\"\"\n",
        "    try:\n",
        "        text = [stemmer.stem(word) for word in text]\n",
        "        text = [word for word in text if len(word) > 1] # no single letter words\n",
        "    except IndexError:\n",
        "        pass\n",
        "\n",
        "    return text"
      ],
      "execution_count": 7,
      "outputs": []
    },
    {
      "cell_type": "code",
      "metadata": {
        "id": "NOxxvIhWT_Qw",
        "colab": {
          "base_uri": "https://localhost:8080/"
        },
        "outputId": "7dc35eff-b019-4f40-c6ce-26aee04c27ab"
      },
      "source": [
        "def apply_all(text):\n",
        "    \"\"\"\n",
        "    This function applies all the functions above into one\n",
        "    \"\"\"\n",
        "    return stem_words(remove_stop_words(initial_clean(text)))\n",
        "\n",
        "print(apply_all)"
      ],
      "execution_count": 8,
      "outputs": [
        {
          "output_type": "stream",
          "text": [
            "<function apply_all at 0x7f6e1df213b0>\n"
          ],
          "name": "stdout"
        }
      ]
    },
    {
      "cell_type": "code",
      "metadata": {
        "colab": {
          "base_uri": "https://localhost:8080/"
        },
        "id": "OlNodPZkUA0H",
        "outputId": "cbbc8503-5022-4d28-a098-1b3c7466036a"
      },
      "source": [
        "t1 = time.time()\n",
        "reviews_df['tokenized_reviews'] = reviews_df['text'].apply(apply_all)\n",
        "t2 = time.time()\n",
        "print(\"Time to clean and tokenize\", len(reviews_df), \"reviews:\", (t2-t1)/60, \"min\") #Time to clean and tokenize 3209 reviews: 0.21254388093948365 min\n",
        "\n",
        "print('\\n')\n",
        "print(\"reviews with their respective tokenize version:\" )\n",
        "print(reviews_df.head(5))"
      ],
      "execution_count": 9,
      "outputs": [
        {
          "output_type": "stream",
          "text": [
            "Time to clean and tokenize 50 reviews: 0.001107168197631836 min\n",
            "\n",
            "\n",
            "reviews with their respective tokenize version:\n",
            "                                                text                                  tokenized_reviews\n",
            "0  Often, 85% amino acid sequence similarity is u...  [often, amino, acid, sequenc, similar, use, si...\n",
            "1   Similarly, the T cell repertoire can be asses...  [similarli, cell, repertoir, assess, sequenc, ...\n",
            "2   Nevertheless, bulk sequencing of receptors fr...  [nevertheless, bulk, sequenc, receptor, cell, ...\n",
            "3   This has been most evident in the clinical di...             [evid, clinic, diagnosi, cell, cancer]\n",
            "4   Furthermore, sequencing can be used to track ...  [furthermor, sequenc, use, track, expans, neoa...\n"
          ],
          "name": "stdout"
        }
      ]
    },
    {
      "cell_type": "code",
      "metadata": {
        "colab": {
          "base_uri": "https://localhost:8080/"
        },
        "id": "9KXMcXWKUDU0",
        "outputId": "c512de1a-3799-4a68-c479-9f353f3c4fcf"
      },
      "source": [
        "#LDA\n",
        "#Create a Gensim dictionary from the tokenized data\n",
        "tokenized = reviews_df['tokenized_reviews']\n",
        "#Creating term dictionary of corpus, where each unique term is assigned an index.\n",
        "dictionary = corpora.Dictionary(tokenized)\n",
        "#Filter terms which occurs in less than 1 review and more than 80% of the reviews.\n",
        "dictionary.filter_extremes(no_below=1, no_above=0.8)\n",
        "#convert the dictionary to a bag of words corpus\n",
        "corpus = [dictionary.doc2bow(tokens) for tokens in tokenized]\n",
        "print(corpus[:1])\n",
        "\n",
        "print([[(dictionary[id], freq) for id, freq in cp] for cp in corpus[:1]])"
      ],
      "execution_count": 10,
      "outputs": [
        {
          "output_type": "stream",
          "text": [
            "[[(0, 1), (1, 1), (2, 1), (3, 1), (4, 1), (5, 1), (6, 1), (7, 1), (8, 1)]]\n",
            "[[('acid', 1), ('amino', 1), ('criterion', 1), ('inclus', 1), ('often', 1), ('sequenc', 1), ('similar', 1), ('simpl', 1), ('use', 1)]]\n"
          ],
          "name": "stdout"
        }
      ]
    },
    {
      "cell_type": "code",
      "metadata": {
        "colab": {
          "base_uri": "https://localhost:8080/"
        },
        "id": "8TTm1AaXUFai",
        "outputId": "55ef4dc2-c3d3-4e56-a5ec-ad26e20d6548"
      },
      "source": [
        "#LDA with num_topics=10, alpha=0.05, eta=0.61, num_words=5 \n",
        "ldamodel = gensim.models.ldamodel.LdaModel(corpus, num_topics = 5, id2word=dictionary, passes=7, alpha=0.05, eta=0.61)\n",
        "\n",
        "#saving the model\n",
        "ldamodel.save('model_combined.gensim')\n",
        "topics = ldamodel.print_topics(num_words=5)\n",
        "print('\\n')\n",
        "print(\"Now printing the topics and their composition\")\n",
        "print(\"This output shows the Topic-Words matrix for the 10 topics created and the 5 words within each topic\")\n",
        "for topic in topics:\n",
        "   print(topic)\n"
      ],
      "execution_count": 11,
      "outputs": [
        {
          "output_type": "stream",
          "text": [
            "\n",
            "\n",
            "Now printing the topics and their composition\n",
            "This output shows the Topic-Words matrix for the 10 topics created and the 5 words within each topic\n",
            "(0, '0.010*\"provid\" + 0.010*\"level\" + 0.010*\"converg\" + 0.010*\"evid\" + 0.010*\"specif\"')\n",
            "(1, '0.031*\"cell\" + 0.027*\"sequenc\" + 0.019*\"clone\" + 0.015*\"tcr\" + 0.015*\"bcr\"')\n",
            "(2, '0.023*\"cell\" + 0.023*\"sequenc\" + 0.018*\"repertoir\" + 0.018*\"immun\" + 0.018*\"group\"')\n",
            "(3, '0.044*\"et\" + 0.044*\"al\" + 0.021*\"studi\" + 0.014*\"vaccin\" + 0.014*\"converg\"')\n",
            "(4, '0.032*\"sequenc\" + 0.015*\"popul\" + 0.015*\"immun\" + 0.015*\"repertoir\" + 0.015*\"vaccin\"')\n"
          ],
          "name": "stdout"
        }
      ]
    },
    {
      "cell_type": "code",
      "metadata": {
        "colab": {
          "base_uri": "https://localhost:8080/"
        },
        "id": "4Cycg_KNUfBm",
        "outputId": "817dd96c-1d94-4212-c569-34bb44834c56"
      },
      "source": [
        "# Compute Coherence Score for num_topics=10, alpha=0.05, eta=0.61, num_words=5\n",
        "coherence_model_lda = CoherenceModel(model=ldamodel, texts=tokenized, dictionary=dictionary, coherence='c_v')\n",
        "coherence_lda = coherence_model_lda.get_coherence()\n",
        "print('\\nCoherence Score: ', coherence_lda)"
      ],
      "execution_count": 12,
      "outputs": [
        {
          "output_type": "stream",
          "text": [
            "\n",
            "Coherence Score:  0.41323931943899017\n"
          ],
          "name": "stdout"
        }
      ]
    },
    {
      "cell_type": "code",
      "metadata": {
        "colab": {
          "base_uri": "https://localhost:8080/"
        },
        "id": "WWZ8imhkUhY9",
        "outputId": "908a4218-3c29-48bd-98dd-0e2f4b14490b"
      },
      "source": [
        "#finding the similarity of the first sentence with topics for num_topics=10, alpha=0.05, eta=0.61, num_words=5\n",
        "print('\\n')\n",
        "print(\"first line is:\")\n",
        "print(reviews_df.text[0])\n",
        "get_document_topics = ldamodel.get_document_topics(corpus[0])\n",
        "print('\\n')\n",
        "print(\"The similarity of this line with the topics and respective similarity score are \")\n",
        "print(get_document_topics)"
      ],
      "execution_count": 13,
      "outputs": [
        {
          "output_type": "stream",
          "text": [
            "\n",
            "\n",
            "first line is:\n",
            "Often, 85% amino acid sequence similarity is used as a simple inclusion criterion\n",
            "\n",
            "\n",
            "The similarity of this line with the topics and respective similarity score are \n",
            "[(4, 0.97837794)]\n"
          ],
          "name": "stdout"
        }
      ]
    },
    {
      "cell_type": "code",
      "metadata": {
        "colab": {
          "base_uri": "https://localhost:8080/",
          "height": 881
        },
        "id": "GfRuWtYxUkmA",
        "outputId": "c19b82e4-2b1e-477d-8b15-0ac7e93bb01d"
      },
      "source": [
        "#visualizing topics for alpha=0.05, eta=0.61\n",
        "lda_viz = gensim.models.ldamodel.LdaModel.load('/content/model_combined.gensim')\n",
        "lda_display = pyLDAvis.gensim_models.prepare(lda_viz, corpus, dictionary, sort_topics=True)\n",
        "pyLDAvis.display(lda_display)\n"
      ],
      "execution_count": 14,
      "outputs": [
        {
          "output_type": "execute_result",
          "data": {
            "text/html": [
              "\n",
              "<link rel=\"stylesheet\" type=\"text/css\" href=\"https://cdn.jsdelivr.net/gh/bmabey/pyLDAvis@3.3.1/pyLDAvis/js/ldavis.v1.0.0.css\">\n",
              "\n",
              "\n",
              "<div id=\"ldavis_el5801401109237750566684405689\"></div>\n",
              "<script type=\"text/javascript\">\n",
              "\n",
              "var ldavis_el5801401109237750566684405689_data = {\"mdsDat\": {\"x\": [0.0674445315981196, -0.03517199874768945, -0.012742675057891893, -0.01923355006809753, -0.00029630772444074594], \"y\": [0.008391473654023488, 0.0395391224847006, -0.025692791201107748, -0.02591332067331462, 0.003675515735698284], \"topics\": [1, 2, 3, 4, 5], \"cluster\": [1, 1, 1, 1, 1], \"Freq\": [28.908393089099256, 25.459789246039254, 23.435156737656477, 14.94942607920993, 7.247234847995086]}, \"tinfo\": {\"Term\": [\"et\", \"al\", \"group\", \"repertoir\", \"studi\", \"immun\", \"sequenc\", \"cell\", \"provid\", \"evid\", \"clonal\", \"enrich\", \"epitop\", \"draw\", \"level\", \"expand\", \"popul\", \"bulk\", \"track\", \"possibl\", \"structur\", \"besid\", \"demonstr\", \"later\", \"least\", \"must\", \"focu\", \"pathogen\", \"pattern\", \"forward\", \"et\", \"al\", \"studi\", \"show\", \"respons\", \"antigen\", \"exampl\", \"singl\", \"technolog\", \"effect\", \"critic\", \"current\", \"former\", \"exist\", \"feasibl\", \"design\", \"obviou\", \"emerson\", \"illustr\", \"select\", \"small\", \"cost\", \"appli\", \"parameswaran\", \"frequenc\", \"manivel\", \"impact\", \"volum\", \"bacteri\", \"public\", \"bind\", \"tcr\", \"vaccin\", \"converg\", \"context\", \"bcr\", \"cell\", \"sequenc\", \"therefor\", \"clone\", \"immun\", \"approach\", \"predict\", \"identif\", \"limit\", \"express\", \"cancer\", \"importantli\", \"yfd\", \"clone\", \"provid\", \"evid\", \"chain\", \"valid\", \"neoantigen\", \"therebi\", \"beta\", \"treatment\", \"droplet\", \"establish\", \"light\", \"sort\", \"facilit\", \"interest\", \"furthermor\", \"success\", \"thousand\", \"highli\", \"like\", \"memori\", \"recov\", \"enabl\", \"function\", \"recombinantli\", \"preserv\", \"cell\", \"expand\", \"tcr\", \"bcr\", \"sequenc\", \"inform\", \"howev\", \"individu\", \"vaccin\", \"repertoir\", \"track\", \"singl\", \"possibl\", \"popul\", \"bulk\", \"describ\", \"far\", \"often\", \"base\", \"proof\", \"without\", \"differ\", \"inclus\", \"captur\", \"nevertheless\", \"vitro\", \"groupspecif\", \"fact\", \"criterion\", \"biolog\", \"readout\", \"adult\", \"elderli\", \"flu\", \"trial\", \"summar\", \"driven\", \"acid\", \"simpl\", \"person\", \"newborn\", \"reduc\", \"variabl\", \"repertoir\", \"sequenc\", \"immun\", \"vaccin\", \"converg\", \"context\", \"individu\", \"cell\", \"bcr\", \"antigen\", \"heavi\", \"chain\", \"receptor\", \"expand\", \"identifi\", \"identif\", \"valid\", \"group\", \"epitop\", \"draw\", \"includ\", \"breadth\", \"measur\", \"paramet\", \"presenc\", \"number\", \"determin\", \"import\", \"neutral\", \"field\", \"scientif\", \"significantli\", \"comput\", \"pure\", \"control\", \"yield\", \"repetit\", \"tenth\", \"nonimmun\", \"blood\", \"uniqu\", \"clonal\", \"enrich\", \"pathogenspecif\", \"repertoir\", \"identifi\", \"compar\", \"immun\", \"individu\", \"cell\", \"sequenc\", \"assess\", \"protect\", \"motif\", \"limit\", \"infecti\", \"converg\", \"diseas\", \"far\", \"context\", \"structur\", \"demonstr\", \"besid\", \"later\", \"least\", \"pattern\", \"focu\", \"must\", \"pathogen\", \"day\", \"forward\", \"go\", \"clonal\", \"enrich\", \"level\", \"track\", \"possibl\", \"predict\", \"evid\", \"provid\", \"sever\", \"expand\", \"specif\", \"bind\", \"field\", \"scientif\", \"import\", \"neutral\", \"determin\", \"breadth\", \"studi\", \"immun\", \"converg\", \"cell\", \"sequenc\", \"acid\"], \"Freq\": [6.0, 6.0, 2.0, 3.0, 4.0, 4.0, 9.0, 7.0, 2.0, 2.0, 1.0, 1.0, 1.0, 1.0, 1.0, 2.0, 2.0, 2.0, 1.0, 1.0, 1.0, 1.0, 1.0, 1.0, 1.0, 1.0, 1.0, 1.0, 1.0, 1.0, 5.418170412683199, 5.418169958222311, 2.6215283172794983, 1.228597402934794, 1.2285976301652377, 1.2285976301652377, 1.228597402934794, 1.2285976301652377, 1.2285971757043501, 0.7578667587715464, 0.7578667019639355, 0.7578667019639355, 0.7578667019639355, 0.7578666451563245, 0.7578666451563245, 0.7578666451563245, 0.7578666451563245, 0.7578665883487136, 0.7578665883487136, 0.7578665883487136, 0.7578665883487136, 0.7578665883487136, 0.7578665315411026, 0.7578665315411026, 0.7578665315411026, 0.7578665315411026, 0.7578664747334917, 0.7578664747334917, 0.7578664179258807, 0.7578664179258807, 1.2285975165500158, 1.699329467288315, 1.7063331640268145, 1.699329467288315, 1.228597402934794, 1.2285975165500158, 1.2353304682147392, 1.2395476380210404, 0.7624191502900489, 0.7648882930998834, 0.7655962295475116, 0.7578667019639355, 0.7578666451563245, 0.7578666451563245, 0.7578666451563245, 1.1527380657714092, 1.1527379657098251, 1.152737765586657, 1.1404970318876892, 2.0294824680992893, 1.1527379657098251, 1.1502478331293677, 1.1527379657098251, 1.152737765586657, 0.7110724876611184, 0.7110724876611184, 0.7110724376303263, 0.7110724376303263, 0.7110724376303263, 0.7110724376303263, 0.7110724376303263, 0.7110724376303263, 0.7110723875995344, 0.7110723875995344, 0.7110723375687423, 0.7110723375687423, 0.7110723375687423, 0.7110723375687423, 0.7110723375687423, 0.7110723375687423, 0.7110723375687423, 0.7110723375687423, 0.7110723375687423, 0.7110723375687423, 0.7110722875379503, 3.354752520646971, 1.1456980329029995, 1.5944041942204121, 1.5944041942204121, 2.9128707594843584, 1.152737765586657, 1.151065636455739, 1.1505698313068133, 1.1442953696179055, 0.7141721954115567, 0.7110723875995344, 0.7110723875995344, 0.7110723875995344, 1.5217850075305333, 1.5217845470084757, 1.1002349975621644, 1.1002348133533413, 1.1002351817709872, 0.6786857704812931, 0.6786857704812931, 0.6786857704812931, 0.6786857704812931, 0.6786857244290874, 0.6786857244290874, 0.6786857244290874, 0.6786857244290874, 0.6786857244290874, 0.6786856783768817, 0.6786856323246758, 0.6786856323246758, 0.6786856323246758, 0.6786856323246758, 0.6786856323246758, 0.6786856323246758, 0.6786856323246758, 0.6786856323246758, 0.6786856323246758, 0.6786855862724701, 0.6786855862724701, 0.6786855862724701, 0.6786855862724701, 0.6786855862724701, 0.6786855862724701, 1.5217850075305333, 3.207983757942248, 1.5217850075305333, 1.5217847312172987, 1.5217847312172987, 1.1002348133533413, 1.1002347212489298, 1.5217847312172987, 1.1002348133533413, 0.6786858165334989, 0.6786857704812931, 0.6786857244290874, 0.6786857244290874, 0.6786857244290874, 0.6786857244290874, 0.6786857244290874, 0.6786857244290874, 1.1418589822784435, 0.8330451514992722, 0.8271308611090908, 0.5138688273223273, 0.5138687685683746, 0.5138687685683746, 0.5138687685683746, 0.5138687685683746, 0.5138687685683746, 0.5138687098144219, 0.5138686510604691, 0.5138686510604691, 0.5138685335525637, 0.5138685335525637, 0.5122905786439675, 0.5119072678563263, 0.5118067398431972, 0.5117376451947813, 0.5116726633230566, 0.5115089160567851, 0.5114131471138275, 0.5110614459527575, 0.5110440547827481, 0.5108075701229908, 0.5138688273223273, 0.5117298309190675, 0.8346483706075442, 1.1499820687677336, 0.5115800670935468, 0.5114627354499356, 1.148454701012442, 0.8292711500993108, 1.4713986224085, 1.4686946479957432, 0.5138687098144219, 0.5138686510604691, 0.5154481335718363, 0.5138688273223273, 0.5138687685683746, 0.5154896726164198, 0.5138687685683746, 0.5138686510604691, 0.5138685923065164, 0.2994694364706998, 0.29946940798775395, 0.29946940798775395, 0.29946937950480806, 0.29946937950480806, 0.29946935102186223, 0.29946935102186223, 0.29946935102186223, 0.29946935102186223, 0.29946932253891634, 0.29946932253891634, 0.2994692655730246, 0.2994694364706998, 0.29946935102186223, 0.2994694649536457, 0.29946940798775395, 0.29946940798775395, 0.2994694364706998, 0.2994694649536457, 0.2994694649536457, 0.29946932253891634, 0.29946940798775395, 0.2994694649536457, 0.2994694364706998, 0.11346485540489581, 0.11346485540489581, 0.11346485540489581, 0.11346485540489581, 0.11346485540489581, 0.11346485540489581, 0.2994694364706998, 0.29946940798775395, 0.2994694649536457, 0.29946935102186223, 0.2994692655730246, 0.11346485540489581], \"Total\": [6.0, 6.0, 2.0, 3.0, 4.0, 4.0, 9.0, 7.0, 2.0, 2.0, 1.0, 1.0, 1.0, 1.0, 1.0, 2.0, 2.0, 2.0, 1.0, 1.0, 1.0, 1.0, 1.0, 1.0, 1.0, 1.0, 1.0, 1.0, 1.0, 1.0, 6.288081949976716, 6.288081613023734, 4.076860624080931, 2.0633232369621908, 2.484863158466916, 2.4848634347801504, 2.4848630233408837, 2.5049789360829378, 2.5049784315912578, 1.5925925927989433, 1.5925925359913324, 1.5925925359913324, 1.5925925359913324, 1.5925924791837216, 1.5925924791837216, 1.5925924791837216, 1.5925924791837216, 1.5925924223761105, 1.5925924223761105, 1.5925924223761105, 1.5925924223761105, 1.5925924223761105, 1.5925923655684995, 1.5925923655684995, 1.5925923655684995, 1.5925923655684995, 1.5925923087608886, 1.5925923087608886, 1.5925922519532778, 1.5925922519532778, 2.670867764074115, 3.859042579826893, 4.681928206932673, 4.7449022929302105, 3.225582579708779, 4.231399596495951, 7.882735693509371, 9.128566069016415, 1.9132286619958057, 3.7812194658960308, 4.444338578656593, 1.912794151780079, 1.7785970602495256, 2.0141323576668255, 1.911763089538763, 2.0051939489515647, 2.0051938488899803, 2.005193648766812, 2.0059983568648634, 3.7812194658960308, 2.19119845843873, 2.1905074306449626, 2.4267337273730845, 2.4267335272499166, 1.5635283708412737, 1.5635283708412737, 1.5635283208104815, 1.5635283208104815, 1.5635283208104815, 1.5635283208104815, 1.5635283208104815, 1.5635283208104815, 1.5635282707796896, 1.5635282707796896, 1.5635282207488976, 1.5635282207488976, 1.5635282207488976, 1.5635282207488976, 1.5635282207488976, 1.5635282207488976, 1.5635282207488976, 1.5635282207488976, 1.5635282207488976, 1.5635282207488976, 1.5635281707181055, 7.882735693509371, 2.6132008431155413, 3.859042579826893, 4.231399596495951, 9.128566069016415, 2.8974530018246174, 2.896989028156243, 3.4885637277569828, 4.681928206932673, 3.786551091976709, 1.7495328233625478, 2.5049789360829378, 1.7495328233625478, 2.386511960473937, 2.3865114999518795, 1.964961950505568, 2.2841322003899283, 2.4356816445858924, 1.5434127234246968, 1.5434127234246968, 1.5434127234246968, 1.5434127234246968, 1.543412677372491, 1.543412677372491, 1.543412677372491, 1.543412677372491, 1.543412677372491, 1.5434126313202852, 1.5434125852680796, 1.5434125852680796, 1.5434125852680796, 1.5434125852680796, 1.5434125852680796, 1.5434125852680796, 1.5434125852680796, 1.5434125852680796, 1.5434125852680796, 1.5434125392158737, 1.5434125392158737, 1.5434125392158737, 1.5434125392158737, 1.5434125392158737, 1.5434125392158737, 3.786551091976709, 9.128566069016415, 4.444338578656593, 4.681928206932673, 4.7449022929302105, 3.225582579708779, 3.4885637277569828, 7.882735693509371, 4.231399596495951, 2.4848634347801504, 1.9850681452842072, 2.4267337273730845, 1.9850679491396255, 2.6132008431155413, 1.8634610263565379, 2.0141323576668255, 2.4267335272499166, 2.0833727644246354, 1.7602197334213732, 1.763027371174216, 1.4410434092444284, 1.4410433504904758, 1.4410433504904758, 1.4410433504904758, 1.4410433504904758, 1.4410433504904758, 1.441043291736523, 1.4410432329825702, 1.4410432329825702, 1.4410431154746648, 1.4410431154746648, 1.4416486544222307, 1.4417958951685736, 1.4418343276802825, 1.441860866890814, 1.4420857051262492, 1.4421634186103103, 1.4422088449843626, 1.4421202184441824, 1.4423841967966045, 1.44249591438815, 1.6270479903102324, 1.6278683548831434, 2.671979362073262, 3.786551091976709, 1.8634610263565379, 1.8635061026209985, 4.444338578656593, 3.4885637277569828, 7.882735693509371, 9.128566069016415, 1.8826987135960336, 1.8826983046265366, 2.3036324326228836, 1.911763089538763, 1.9117629739771993, 4.7449022929302105, 2.3333025546362585, 2.2841322003899283, 3.225582579708779, 1.307877379955191, 1.3078773514722453, 1.3078773514722453, 1.3078773229892993, 1.3078773229892993, 1.3078772945063535, 1.3078772945063535, 1.3078772945063535, 1.3078772945063535, 1.3078772660234077, 1.3078772660234077, 1.307877209057516, 1.6270479903102324, 1.6278683548831434, 1.7294172408690351, 1.7495328233625478, 1.7495328233625478, 1.7785970602495256, 2.1905074306449626, 2.19119845843873, 2.2196966898435875, 2.6132008431155413, 2.6417922862152694, 2.670867764074115, 1.4410431154746648, 1.4410431154746648, 1.4410432329825702, 1.4410432329825702, 1.441043291736523, 1.4410433504904758, 4.076860624080931, 4.444338578656593, 4.7449022929302105, 7.882735693509371, 9.128566069016415, 1.5434125392158737], \"Category\": [\"Default\", \"Default\", \"Default\", \"Default\", \"Default\", \"Default\", \"Default\", \"Default\", \"Default\", \"Default\", \"Default\", \"Default\", \"Default\", \"Default\", \"Default\", \"Default\", \"Default\", \"Default\", \"Default\", \"Default\", \"Default\", \"Default\", \"Default\", \"Default\", \"Default\", \"Default\", \"Default\", \"Default\", \"Default\", \"Default\", \"Topic1\", \"Topic1\", \"Topic1\", \"Topic1\", \"Topic1\", \"Topic1\", \"Topic1\", \"Topic1\", \"Topic1\", \"Topic1\", \"Topic1\", \"Topic1\", \"Topic1\", \"Topic1\", \"Topic1\", \"Topic1\", \"Topic1\", \"Topic1\", \"Topic1\", \"Topic1\", \"Topic1\", \"Topic1\", \"Topic1\", \"Topic1\", \"Topic1\", \"Topic1\", \"Topic1\", \"Topic1\", \"Topic1\", \"Topic1\", \"Topic1\", \"Topic1\", \"Topic1\", \"Topic1\", \"Topic1\", \"Topic1\", \"Topic1\", \"Topic1\", \"Topic1\", \"Topic1\", \"Topic1\", \"Topic1\", \"Topic1\", \"Topic1\", \"Topic1\", \"Topic2\", \"Topic2\", \"Topic2\", \"Topic2\", \"Topic2\", \"Topic2\", \"Topic2\", \"Topic2\", \"Topic2\", \"Topic2\", \"Topic2\", \"Topic2\", \"Topic2\", \"Topic2\", \"Topic2\", \"Topic2\", \"Topic2\", \"Topic2\", \"Topic2\", \"Topic2\", \"Topic2\", \"Topic2\", \"Topic2\", \"Topic2\", \"Topic2\", \"Topic2\", \"Topic2\", \"Topic2\", \"Topic2\", \"Topic2\", \"Topic2\", \"Topic2\", \"Topic2\", \"Topic2\", \"Topic2\", \"Topic2\", \"Topic2\", \"Topic2\", \"Topic2\", \"Topic2\", \"Topic2\", \"Topic2\", \"Topic2\", \"Topic3\", \"Topic3\", \"Topic3\", \"Topic3\", \"Topic3\", \"Topic3\", \"Topic3\", \"Topic3\", \"Topic3\", \"Topic3\", \"Topic3\", \"Topic3\", \"Topic3\", \"Topic3\", \"Topic3\", \"Topic3\", \"Topic3\", \"Topic3\", \"Topic3\", \"Topic3\", \"Topic3\", \"Topic3\", \"Topic3\", \"Topic3\", \"Topic3\", \"Topic3\", \"Topic3\", \"Topic3\", \"Topic3\", \"Topic3\", \"Topic3\", \"Topic3\", \"Topic3\", \"Topic3\", \"Topic3\", \"Topic3\", \"Topic3\", \"Topic3\", \"Topic3\", \"Topic3\", \"Topic3\", \"Topic3\", \"Topic3\", \"Topic3\", \"Topic3\", \"Topic3\", \"Topic3\", \"Topic4\", \"Topic4\", \"Topic4\", \"Topic4\", \"Topic4\", \"Topic4\", \"Topic4\", \"Topic4\", \"Topic4\", \"Topic4\", \"Topic4\", \"Topic4\", \"Topic4\", \"Topic4\", \"Topic4\", \"Topic4\", \"Topic4\", \"Topic4\", \"Topic4\", \"Topic4\", \"Topic4\", \"Topic4\", \"Topic4\", \"Topic4\", \"Topic4\", \"Topic4\", \"Topic4\", \"Topic4\", \"Topic4\", \"Topic4\", \"Topic4\", \"Topic4\", \"Topic4\", \"Topic4\", \"Topic4\", \"Topic4\", \"Topic4\", \"Topic4\", \"Topic4\", \"Topic4\", \"Topic4\", \"Topic4\", \"Topic4\", \"Topic5\", \"Topic5\", \"Topic5\", \"Topic5\", \"Topic5\", \"Topic5\", \"Topic5\", \"Topic5\", \"Topic5\", \"Topic5\", \"Topic5\", \"Topic5\", \"Topic5\", \"Topic5\", \"Topic5\", \"Topic5\", \"Topic5\", \"Topic5\", \"Topic5\", \"Topic5\", \"Topic5\", \"Topic5\", \"Topic5\", \"Topic5\", \"Topic5\", \"Topic5\", \"Topic5\", \"Topic5\", \"Topic5\", \"Topic5\", \"Topic5\", \"Topic5\", \"Topic5\", \"Topic5\", \"Topic5\", \"Topic5\"], \"logprob\": [30.0, 29.0, 28.0, 27.0, 26.0, 25.0, 24.0, 23.0, 22.0, 21.0, 20.0, 19.0, 18.0, 17.0, 16.0, 15.0, 14.0, 13.0, 12.0, 11.0, 10.0, 9.0, 8.0, 7.0, 6.0, 5.0, 4.0, 3.0, 2.0, 1.0, -3.1142, -3.1142, -3.8402, -4.5981, -4.5981, -4.5981, -4.5981, -4.5981, -4.5981, -5.0812, -5.0812, -5.0812, -5.0812, -5.0812, -5.0812, -5.0812, -5.0812, -5.0812, -5.0812, -5.0812, -5.0812, -5.0812, -5.0812, -5.0812, -5.0812, -5.0812, -5.0812, -5.0812, -5.0812, -5.0812, -4.5981, -4.2737, -4.2696, -4.2737, -4.5981, -4.5981, -4.5926, -4.5892, -5.0752, -5.072, -5.0711, -5.0812, -5.0812, -5.0812, -5.0812, -4.5348, -4.5348, -4.5348, -4.5455, -3.9692, -4.5348, -4.537, -4.5348, -4.5348, -5.0179, -5.0179, -5.0179, -5.0179, -5.0179, -5.0179, -5.0179, -5.0179, -5.0179, -5.0179, -5.0179, -5.0179, -5.0179, -5.0179, -5.0179, -5.0179, -5.0179, -5.0179, -5.0179, -5.0179, -5.0179, -3.4666, -4.5409, -4.2104, -4.2104, -3.6078, -4.5348, -4.5362, -4.5367, -4.5421, -5.0136, -5.0179, -5.0179, -5.0179, -4.1742, -4.1742, -4.4985, -4.4985, -4.4985, -4.9817, -4.9817, -4.9817, -4.9817, -4.9817, -4.9817, -4.9817, -4.9817, -4.9817, -4.9817, -4.9817, -4.9817, -4.9817, -4.9817, -4.9817, -4.9817, -4.9817, -4.9817, -4.9817, -4.9817, -4.9817, -4.9817, -4.9817, -4.9817, -4.9817, -4.1742, -3.4284, -4.1742, -4.1742, -4.1742, -4.4985, -4.4985, -4.1742, -4.4985, -4.9817, -4.9817, -4.9817, -4.9817, -4.9817, -4.9817, -4.9817, -4.9817, -4.0119, -4.3272, -4.3343, -4.8103, -4.8103, -4.8103, -4.8103, -4.8103, -4.8103, -4.8103, -4.8103, -4.8103, -4.8103, -4.8103, -4.8134, -4.8141, -4.8143, -4.8145, -4.8146, -4.8149, -4.8151, -4.8158, -4.8158, -4.8163, -4.8103, -4.8145, -4.3253, -4.0048, -4.8148, -4.815, -4.0061, -4.3317, -3.7583, -3.7601, -4.8103, -4.8103, -4.8072, -4.8103, -4.8103, -4.8071, -4.8103, -4.8103, -4.8103, -4.6262, -4.6262, -4.6262, -4.6262, -4.6262, -4.6262, -4.6262, -4.6262, -4.6262, -4.6262, -4.6262, -4.6262, -4.6262, -4.6262, -4.6262, -4.6262, -4.6262, -4.6262, -4.6262, -4.6262, -4.6262, -4.6262, -4.6262, -4.6262, -5.5967, -5.5967, -5.5967, -5.5967, -5.5967, -5.5967, -4.6262, -4.6262, -4.6262, -4.6262, -4.6262, -5.5967], \"loglift\": [30.0, 29.0, 28.0, 27.0, 26.0, 25.0, 24.0, 23.0, 22.0, 21.0, 20.0, 19.0, 18.0, 17.0, 16.0, 15.0, 14.0, 13.0, 12.0, 11.0, 10.0, 9.0, 8.0, 7.0, 6.0, 5.0, 4.0, 3.0, 2.0, 1.0, 1.0921, 1.0921, 0.7995, 0.7226, 0.5367, 0.5367, 0.5367, 0.5286, 0.5286, 0.4984, 0.4984, 0.4984, 0.4984, 0.4984, 0.4984, 0.4984, 0.4984, 0.4984, 0.4984, 0.4984, 0.4984, 0.4984, 0.4984, 0.4984, 0.4984, 0.4984, 0.4984, 0.4984, 0.4984, 0.4984, 0.4645, 0.4209, 0.2317, 0.2142, 0.2758, 0.0044, -0.6123, -0.7556, 0.321, -0.357, -0.5177, 0.3152, 0.388, 0.2636, 0.3158, 0.8145, 0.8145, 0.8145, 0.8034, 0.7458, 0.7258, 0.7239, 0.6237, 0.6237, 0.5801, 0.5801, 0.5801, 0.5801, 0.5801, 0.5801, 0.5801, 0.5801, 0.5801, 0.5801, 0.5801, 0.5801, 0.5801, 0.5801, 0.5801, 0.5801, 0.5801, 0.5801, 0.5801, 0.5801, 0.5801, 0.5138, 0.5435, 0.4842, 0.392, 0.2258, 0.4464, 0.4451, 0.2588, -0.0409, -0.3, 0.4677, 0.1088, 0.4677, 1.001, 1.001, 0.871, 0.7205, 0.6562, 0.6293, 0.6293, 0.6293, 0.6293, 0.6293, 0.6293, 0.6293, 0.6293, 0.6293, 0.6293, 0.6293, 0.6293, 0.6293, 0.6293, 0.6293, 0.6293, 0.6293, 0.6293, 0.6293, 0.6293, 0.6293, 0.6293, 0.6293, 0.6293, 0.6293, 0.5394, 0.4052, 0.3792, 0.3271, 0.3137, 0.3753, 0.297, -0.1939, 0.1039, 0.1531, 0.3777, 0.1768, 0.3777, 0.1028, 0.4409, 0.3631, 0.1768, 1.2992, 1.1524, 1.1437, 0.8693, 0.8693, 0.8693, 0.8693, 0.8693, 0.8693, 0.8693, 0.8693, 0.8693, 0.8693, 0.8693, 0.8658, 0.865, 0.8648, 0.8646, 0.8643, 0.864, 0.8637, 0.8631, 0.8629, 0.8624, 0.7479, 0.7433, 0.7369, 0.7088, 0.6078, 0.6076, 0.5473, 0.4638, 0.222, 0.0735, 0.602, 0.602, 0.4033, 0.5867, 0.5867, -0.3192, 0.3874, 0.4087, 0.0636, 1.1504, 1.1504, 1.1504, 1.1504, 1.1504, 1.1504, 1.1504, 1.1504, 1.1504, 1.1504, 1.1504, 1.1504, 0.932, 0.9315, 0.871, 0.8595, 0.8595, 0.843, 0.6347, 0.6344, 0.6214, 0.4582, 0.4473, 0.4364, 0.0829, 0.0829, 0.0829, 0.0829, 0.0829, 0.0829, 0.0135, -0.0728, -0.1383, -0.6459, -0.7926, 0.0143]}, \"token.table\": {\"Topic\": [3, 3, 1, 1, 3, 1, 1, 4, 2, 4, 1, 3, 1, 2, 3, 2, 1, 3, 3, 4, 4, 3, 2, 3, 1, 2, 3, 4, 2, 3, 4, 1, 2, 3, 3, 4, 4, 1, 3, 4, 4, 1, 2, 3, 4, 1, 3, 1, 1, 3, 1, 4, 3, 1, 3, 4, 4, 3, 2, 1, 3, 1, 2, 4, 4, 2, 1, 2, 1, 3, 1, 2, 3, 2, 2, 3, 3, 4, 1, 4, 3, 1, 1, 2, 2, 4, 3, 2, 3, 2, 1, 2, 3, 1, 3, 3, 4, 1, 1, 2, 3, 4, 1, 4, 2, 4, 3, 2, 3, 4, 1, 4, 1, 2, 3, 2, 3, 2, 2, 1, 4, 1, 4, 2, 2, 3, 4, 2, 4, 3, 3, 4, 4, 1, 1, 3, 1, 4, 1, 2, 4, 3, 3, 2, 1, 4, 2, 3, 2, 4, 2, 1, 4, 3, 2, 3, 2, 2, 3, 2, 3, 4, 4, 1, 3, 4, 1, 1, 2, 3, 4, 1, 2, 1, 4, 3, 1, 2, 1, 2, 1, 2, 3, 1, 3, 2, 3, 1, 2, 1, 2, 4, 2, 1, 4, 2, 2, 2, 3, 4, 1, 2, 3, 2, 3, 3, 3, 1, 3, 2, 4], \"Freq\": [0.647914912307274, 0.6479148929748472, 0.7951550739488037, 0.4024366031562115, 0.4024366031562115, 0.6279070662523458, 0.522795408522858, 0.522795408522858, 0.5311524317610852, 0.5311524317610852, 0.6279071110471139, 0.6479148349775736, 0.23632842448349864, 0.4726568489669973, 0.23632842448349864, 0.6395790768162313, 0.3744101499336717, 0.3744101499336717, 0.6479148929748472, 0.693296558726103, 0.6939416497495641, 0.8380433113522927, 0.49870490105162263, 0.6479148543099971, 0.1268595115809094, 0.38057853474272824, 0.2537190231618188, 0.1268595115809094, 0.41207652439169346, 0.41207652439169346, 0.6146100213118656, 0.2644649455074757, 0.5289298910149514, 0.2644649455074757, 0.5366228737289952, 0.5366228737289952, 0.6935794472372809, 0.3100215155831741, 0.3100215155831741, 0.3100215155831741, 0.693548193839514, 0.42150499136303643, 0.21075249568151821, 0.42150499136303643, 0.21075249568151821, 0.6279070438549641, 0.6479148929748472, 0.6279069990602055, 0.6279069990602055, 0.5089157068627759, 0.627907021457584, 0.6939416780428257, 0.6479148349775736, 0.42857708187607557, 0.42857708187607557, 0.42857708187607557, 0.5672061684067772, 0.6479148929748472, 0.6395790768162313, 0.6279069766628288, 0.6479148929748472, 0.6279070438549641, 0.639579117747565, 0.614300288472519, 0.5681108903695112, 0.6395790768162313, 0.7951550313396464, 0.4565152283941647, 0.4024366697909593, 0.4024366697909593, 0.627907021457584, 0.3826724618716134, 0.3826724618716134, 0.4987048761656496, 0.6395790972818974, 0.6479148736424216, 0.4378030307655959, 0.4378030307655959, 0.627907021457584, 0.6939417629226244, 0.6479148929748472, 0.6279069990602055, 0.6279070662523458, 0.639579117747565, 0.639579117747565, 0.4799909152485104, 0.6479148543099971, 0.5037610433554297, 0.5037610433554297, 0.639579117747565, 0.3451859811275982, 0.3451859811275982, 0.3451859811275982, 0.4964917008524712, 0.4964917008524712, 0.5366358543892986, 0.5366358543892986, 0.6279070438549641, 0.2250053595831742, 0.2250053595831742, 0.4500107191663484, 0.2250053595831742, 0.6279070886497291, 0.6939417063360896, 0.498704950823576, 0.6939416214563048, 0.6479148543099971, 0.2866509194151838, 0.2866509194151838, 0.2866509194151838, 0.5230773969429992, 0.5230773969429992, 0.3451307059580495, 0.3451307059580495, 0.3451307059580495, 0.6395790972818974, 0.5782294615598363, 0.6395790768162313, 0.639579117747565, 0.5230773653242059, 0.5230773653242059, 0.6279070662523458, 0.6939416497495641, 0.639579117747565, 0.4340970312097117, 0.4340970312097117, 0.4340970312097117, 0.6395790563505662, 0.6939417063360896, 0.6479148543099971, 0.647914912307274, 0.6934234658181552, 0.6939416497495641, 0.627907021457584, 0.4105626867217358, 0.4105626867217358, 0.6279070662523458, 0.6939416497495641, 0.37425438766266245, 0.37425438766266245, 0.37425438766266245, 0.647914912307274, 0.838043149636183, 0.5715811596366801, 0.5622408933138046, 0.6939416497495641, 0.639579138213234, 0.6479148349775736, 0.5311525471407731, 0.5311525471407731, 0.45637125936667494, 0.6279071110471139, 0.6935609596761824, 0.6479148929748472, 0.503761093132063, 0.503761093132063, 0.639579117747565, 0.639579117747565, 0.647914912307274, 0.26409256753959864, 0.5281851350791973, 0.26409256753959864, 0.6934026942408611, 0.402436647906587, 0.402436647906587, 0.6939417629226244, 0.6279070438549641, 0.10954623020083461, 0.3286386906025038, 0.3286386906025038, 0.10954623020083461, 0.4505120021918246, 0.4505120021918246, 0.48465503711977265, 0.6936502849931697, 0.647914912307274, 0.399204953620772, 0.399204953620772, 0.6279070438549641, 0.6395790768162313, 0.37853089556584235, 0.37853089556584235, 0.37853089556584235, 0.7358603289697465, 0.24528677632324886, 0.639579117747565, 0.6479148929748472, 0.5182632631355197, 0.5182632631355197, 0.39920503401890045, 0.39920503401890045, 0.6933808535967221, 0.6395790563505662, 0.5226766773172, 0.5226766773172, 0.639579117747565, 0.5715811596366801, 0.6395790768162313, 0.6479148929748472, 0.6932428646941164, 0.4271744272025657, 0.21358721360128285, 0.4271744272025657, 0.4120765583740234, 0.4120765583740234, 0.647914912307274, 0.6479148543099971, 0.6279070886497291, 0.6479148349775736, 0.49850489487084176, 0.6934400614646227], \"Term\": [\"acid\", \"adult\", \"al\", \"antigen\", \"antigen\", \"appli\", \"approach\", \"approach\", \"assess\", \"assess\", \"bacteri\", \"base\", \"bcr\", \"bcr\", \"bcr\", \"beta\", \"bind\", \"bind\", \"biolog\", \"blood\", \"breadth\", \"bulk\", \"cancer\", \"captur\", \"cell\", \"cell\", \"cell\", \"cell\", \"chain\", \"chain\", \"clonal\", \"clone\", \"clone\", \"clone\", \"compar\", \"compar\", \"comput\", \"context\", \"context\", \"context\", \"control\", \"converg\", \"converg\", \"converg\", \"converg\", \"cost\", \"criterion\", \"critic\", \"current\", \"describ\", \"design\", \"determin\", \"differ\", \"diseas\", \"diseas\", \"diseas\", \"draw\", \"driven\", \"droplet\", \"effect\", \"elderli\", \"emerson\", \"enabl\", \"enrich\", \"epitop\", \"establish\", \"et\", \"evid\", \"exampl\", \"exampl\", \"exist\", \"expand\", \"expand\", \"express\", \"facilit\", \"fact\", \"far\", \"far\", \"feasibl\", \"field\", \"flu\", \"former\", \"frequenc\", \"function\", \"furthermor\", \"group\", \"groupspecif\", \"heavi\", \"heavi\", \"highli\", \"howev\", \"howev\", \"howev\", \"identif\", \"identif\", \"identifi\", \"identifi\", \"illustr\", \"immun\", \"immun\", \"immun\", \"immun\", \"impact\", \"import\", \"importantli\", \"includ\", \"inclus\", \"individu\", \"individu\", \"individu\", \"infecti\", \"infecti\", \"inform\", \"inform\", \"inform\", \"interest\", \"level\", \"light\", \"like\", \"limit\", \"limit\", \"manivel\", \"measur\", \"memori\", \"motif\", \"motif\", \"motif\", \"neoantigen\", \"neutral\", \"nevertheless\", \"newborn\", \"nonimmun\", \"number\", \"obviou\", \"often\", \"often\", \"parameswaran\", \"paramet\", \"pathogenspecif\", \"pathogenspecif\", \"pathogenspecif\", \"person\", \"popul\", \"possibl\", \"predict\", \"presenc\", \"preserv\", \"proof\", \"protect\", \"protect\", \"provid\", \"public\", \"pure\", \"readout\", \"receptor\", \"receptor\", \"recombinantli\", \"recov\", \"reduc\", \"repertoir\", \"repertoir\", \"repertoir\", \"repetit\", \"respons\", \"respons\", \"scientif\", \"select\", \"sequenc\", \"sequenc\", \"sequenc\", \"sequenc\", \"sever\", \"sever\", \"show\", \"significantli\", \"simpl\", \"singl\", \"singl\", \"small\", \"sort\", \"specif\", \"specif\", \"specif\", \"studi\", \"studi\", \"success\", \"summar\", \"tcr\", \"tcr\", \"technolog\", \"technolog\", \"tenth\", \"therebi\", \"therefor\", \"therefor\", \"thousand\", \"track\", \"treatment\", \"trial\", \"uniqu\", \"vaccin\", \"vaccin\", \"vaccin\", \"valid\", \"valid\", \"variabl\", \"vitro\", \"volum\", \"without\", \"yfd\", \"yield\"]}, \"R\": 30, \"lambda.step\": 0.01, \"plot.opts\": {\"xlab\": \"PC1\", \"ylab\": \"PC2\"}, \"topic.order\": [4, 2, 5, 3, 1]};\n",
              "\n",
              "function LDAvis_load_lib(url, callback){\n",
              "  var s = document.createElement('script');\n",
              "  s.src = url;\n",
              "  s.async = true;\n",
              "  s.onreadystatechange = s.onload = callback;\n",
              "  s.onerror = function(){console.warn(\"failed to load library \" + url);};\n",
              "  document.getElementsByTagName(\"head\")[0].appendChild(s);\n",
              "}\n",
              "\n",
              "if(typeof(LDAvis) !== \"undefined\"){\n",
              "   // already loaded: just create the visualization\n",
              "   !function(LDAvis){\n",
              "       new LDAvis(\"#\" + \"ldavis_el5801401109237750566684405689\", ldavis_el5801401109237750566684405689_data);\n",
              "   }(LDAvis);\n",
              "}else if(typeof define === \"function\" && define.amd){\n",
              "   // require.js is available: use it to load d3/LDAvis\n",
              "   require.config({paths: {d3: \"https://d3js.org/d3.v5\"}});\n",
              "   require([\"d3\"], function(d3){\n",
              "      window.d3 = d3;\n",
              "      LDAvis_load_lib(\"https://cdn.jsdelivr.net/gh/bmabey/pyLDAvis@3.3.1/pyLDAvis/js/ldavis.v3.0.0.js\", function(){\n",
              "        new LDAvis(\"#\" + \"ldavis_el5801401109237750566684405689\", ldavis_el5801401109237750566684405689_data);\n",
              "      });\n",
              "    });\n",
              "}else{\n",
              "    // require.js not available: dynamically load d3 & LDAvis\n",
              "    LDAvis_load_lib(\"https://d3js.org/d3.v5.js\", function(){\n",
              "         LDAvis_load_lib(\"https://cdn.jsdelivr.net/gh/bmabey/pyLDAvis@3.3.1/pyLDAvis/js/ldavis.v3.0.0.js\", function(){\n",
              "                 new LDAvis(\"#\" + \"ldavis_el5801401109237750566684405689\", ldavis_el5801401109237750566684405689_data);\n",
              "            })\n",
              "         });\n",
              "}\n",
              "</script>"
            ],
            "text/plain": [
              "<IPython.core.display.HTML object>"
            ]
          },
          "metadata": {
            "tags": []
          },
          "execution_count": 14
        }
      ]
    },
    {
      "cell_type": "code",
      "metadata": {
        "id": "aeSYkqn_HJeq"
      },
      "source": [
        ""
      ],
      "execution_count": 14,
      "outputs": []
    }
  ]
}