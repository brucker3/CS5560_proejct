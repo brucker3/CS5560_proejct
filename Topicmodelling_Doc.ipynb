{
  "nbformat": 4,
  "nbformat_minor": 0,
  "metadata": {
    "colab": {
      "name": "Topicmodelling_Doc.ipynb",
      "provenance": [],
      "include_colab_link": true
    },
    "kernelspec": {
      "display_name": "Python 3",
      "name": "python3"
    }
  },
  "cells": [
    {
      "cell_type": "markdown",
      "metadata": {
        "id": "view-in-github",
        "colab_type": "text"
      },
      "source": [
        "<a href=\"https://colab.research.google.com/github/brucker3/CS5560_proejct/blob/main/Topicmodelling_Doc.ipynb\" target=\"_parent\"><img src=\"https://colab.research.google.com/assets/colab-badge.svg\" alt=\"Open In Colab\"/></a>"
      ]
    },
    {
      "cell_type": "code",
      "metadata": {
        "colab": {
          "base_uri": "https://localhost:8080/"
        },
        "id": "wSYPerL2Tk84",
        "outputId": "44deee6a-d461-4355-c71d-4b2936778f3b"
      },
      "source": [
        "!pip install -U pyLDAvis\n",
        "!pip install -U gensim"
      ],
      "execution_count": 1,
      "outputs": [
        {
          "output_type": "stream",
          "text": [
            "Requirement already up-to-date: pyLDAvis in /usr/local/lib/python3.7/dist-packages (3.3.1)\n",
            "Requirement already satisfied, skipping upgrade: gensim in /usr/local/lib/python3.7/dist-packages (from pyLDAvis) (4.0.1)\n",
            "Requirement already satisfied, skipping upgrade: sklearn in /usr/local/lib/python3.7/dist-packages (from pyLDAvis) (0.0)\n",
            "Requirement already satisfied, skipping upgrade: scipy in /usr/local/lib/python3.7/dist-packages (from pyLDAvis) (1.4.1)\n",
            "Requirement already satisfied, skipping upgrade: joblib in /usr/local/lib/python3.7/dist-packages (from pyLDAvis) (1.0.1)\n",
            "Requirement already satisfied, skipping upgrade: scikit-learn in /usr/local/lib/python3.7/dist-packages (from pyLDAvis) (0.22.2.post1)\n",
            "Requirement already satisfied, skipping upgrade: jinja2 in /usr/local/lib/python3.7/dist-packages (from pyLDAvis) (2.11.3)\n",
            "Requirement already satisfied, skipping upgrade: setuptools in /usr/local/lib/python3.7/dist-packages (from pyLDAvis) (56.1.0)\n",
            "Requirement already satisfied, skipping upgrade: numexpr in /usr/local/lib/python3.7/dist-packages (from pyLDAvis) (2.7.3)\n",
            "Requirement already satisfied, skipping upgrade: numpy>=1.20.0 in /usr/local/lib/python3.7/dist-packages (from pyLDAvis) (1.20.3)\n",
            "Requirement already satisfied, skipping upgrade: future in /usr/local/lib/python3.7/dist-packages (from pyLDAvis) (0.16.0)\n",
            "Requirement already satisfied, skipping upgrade: funcy in /usr/local/lib/python3.7/dist-packages (from pyLDAvis) (1.16)\n",
            "Requirement already satisfied, skipping upgrade: pandas>=1.2.0 in /usr/local/lib/python3.7/dist-packages (from pyLDAvis) (1.2.4)\n",
            "Requirement already satisfied, skipping upgrade: smart-open>=1.8.1 in /usr/local/lib/python3.7/dist-packages (from gensim->pyLDAvis) (5.0.0)\n",
            "Requirement already satisfied, skipping upgrade: MarkupSafe>=0.23 in /usr/local/lib/python3.7/dist-packages (from jinja2->pyLDAvis) (1.1.1)\n",
            "Requirement already satisfied, skipping upgrade: pytz>=2017.3 in /usr/local/lib/python3.7/dist-packages (from pandas>=1.2.0->pyLDAvis) (2018.9)\n",
            "Requirement already satisfied, skipping upgrade: python-dateutil>=2.7.3 in /usr/local/lib/python3.7/dist-packages (from pandas>=1.2.0->pyLDAvis) (2.8.1)\n",
            "Requirement already satisfied, skipping upgrade: six>=1.5 in /usr/local/lib/python3.7/dist-packages (from python-dateutil>=2.7.3->pandas>=1.2.0->pyLDAvis) (1.15.0)\n",
            "Requirement already up-to-date: gensim in /usr/local/lib/python3.7/dist-packages (4.0.1)\n",
            "Requirement already satisfied, skipping upgrade: numpy>=1.11.3 in /usr/local/lib/python3.7/dist-packages (from gensim) (1.20.3)\n",
            "Requirement already satisfied, skipping upgrade: scipy>=0.18.1 in /usr/local/lib/python3.7/dist-packages (from gensim) (1.4.1)\n",
            "Requirement already satisfied, skipping upgrade: smart-open>=1.8.1 in /usr/local/lib/python3.7/dist-packages (from gensim) (5.0.0)\n"
          ],
          "name": "stdout"
        }
      ]
    },
    {
      "cell_type": "code",
      "metadata": {
        "colab": {
          "base_uri": "https://localhost:8080/"
        },
        "id": "nTl1a2SXTvtU",
        "outputId": "2f4f578f-24f6-47b5-f244-29d892c848dd"
      },
      "source": [
        "import re\n",
        "import string\n",
        "import nltk\n",
        "nltk.download('stopwords')\n",
        "nltk.download('punkt')\n",
        "from gensim import corpora, models, similarities\n",
        "from nltk.corpus import stopwords\n",
        "from nltk.stem.porter import PorterStemmer\n",
        "import pandas as pd\n",
        "import numpy as np\n",
        "import time\n",
        "import gensim\n",
        "import pyLDAvis\n",
        "import pyLDAvis.gensim_models as gensimvis\n",
        "from gensim.models import CoherenceModel"
      ],
      "execution_count": 2,
      "outputs": [
        {
          "output_type": "stream",
          "text": [
            "[nltk_data] Downloading package stopwords to /root/nltk_data...\n",
            "[nltk_data]   Package stopwords is already up-to-date!\n",
            "[nltk_data] Downloading package punkt to /root/nltk_data...\n",
            "[nltk_data]   Package punkt is already up-to-date!\n"
          ],
          "name": "stdout"
        },
        {
          "output_type": "stream",
          "text": [
            "/usr/local/lib/python3.7/dist-packages/gensim/similarities/__init__.py:15: UserWarning: The gensim.similarities.levenshtein submodule is disabled, because the optional Levenshtein package <https://pypi.org/project/python-Levenshtein/> is unavailable. Install Levenhstein (e.g. `pip install python-Levenshtein`) to suppress this warning.\n",
            "  warnings.warn(msg)\n",
            "/usr/local/lib/python3.7/dist-packages/past/types/oldstr.py:5: DeprecationWarning: Using or importing the ABCs from 'collections' instead of from 'collections.abc' is deprecated since Python 3.3,and in 3.9 it will stop working\n",
            "  from collections import Iterable\n",
            "/usr/local/lib/python3.7/dist-packages/past/builtins/misc.py:4: DeprecationWarning: Using or importing the ABCs from 'collections' instead of from 'collections.abc' is deprecated since Python 3.3,and in 3.9 it will stop working\n",
            "  from collections import Mapping\n",
            "/usr/local/lib/python3.7/dist-packages/sklearn/decomposition/_lda.py:29: DeprecationWarning: `np.float` is a deprecated alias for the builtin `float`. To silence this warning, use `float` by itself. Doing this will not modify any behavior and is safe. If you specifically wanted the numpy scalar type, use `np.float64` here.\n",
            "Deprecated in NumPy 1.20; for more details and guidance: https://numpy.org/devdocs/release/1.20.0-notes.html#deprecations\n",
            "  EPS = np.finfo(np.float).eps\n"
          ],
          "name": "stderr"
        }
      ]
    },
    {
      "cell_type": "code",
      "metadata": {
        "colab": {
          "base_uri": "https://localhost:8080/"
        },
        "id": "Xx-6g4rtTyVZ",
        "outputId": "bc444d1e-46f7-4367-a055-023cd81e9914"
      },
      "source": [
        "#read the csv file with amazon reviews\n",
        "# with open('/content/SpanishArticle.txt', 'r') as f:\n",
        "#     text = f.readlines()\n",
        "with open('./docsummary.txt', 'r') as f:\n",
        "    meta = f.readlines()\n",
        "\n",
        "text = meta[0].split('.')\n",
        "reviews_df = pd.DataFrame(text, columns=['text'])\n",
        "# reviews_df=pd.read_csv('/content/SpanishArticle.txt',error_bad_lines=False)\n",
        "print(reviews_df.head(6))\n",
        "print(\"----------\")\n",
        "print(reviews_df.dtypes)\n",
        "print(\"----------\")\n",
        "print(reviews_df.shape)\n"
      ],
      "execution_count": 3,
      "outputs": [
        {
          "output_type": "stream",
          "text": [
            "                                                text\n",
            "0  Often, 85% amino acid sequence similarity is u...\n",
            "1   Similarly, the T cell repertoire can be asses...\n",
            "2   Nevertheless, bulk sequencing of receptors fr...\n",
            "3   This has been most evident in the clinical di...\n",
            "4   Furthermore, sequencing can be used to track ...\n",
            "5   For example, influenza vaccine responses are ...\n",
            "----------\n",
            "text    object\n",
            "dtype: object\n",
            "----------\n",
            "(50, 1)\n"
          ],
          "name": "stdout"
        }
      ]
    },
    {
      "cell_type": "code",
      "metadata": {
        "id": "M_jKRFb4T2Qg"
      },
      "source": [
        "def initial_clean(text):\n",
        "    \"\"\"\n",
        "    Function to clean text-remove punctuations, lowercase text etc.\n",
        "    \"\"\"\n",
        "    text = re.sub(\"[^a-zA-Z ]\", \"\", text)\n",
        "    text = text.lower()  # lower case text\n",
        "    text = nltk.word_tokenize(text)\n",
        "    return (text)"
      ],
      "execution_count": 4,
      "outputs": []
    },
    {
      "cell_type": "code",
      "metadata": {
        "id": "F-vIQDzFT4Se"
      },
      "source": [
        "stop_words = stopwords.words('english')\n",
        "# adding some more stop words that doesn't convey much meaning in terms of reviews feel free to extend or reduce this list\n",
        "stop_words.extend(['news', 'say','use', 'not', 'would', 'say', 'could', '_', 'be', 'know', \n",
        "                   'good', 'go', 'get', 'do','took','time','year',\n",
        "                 'done', 'try', 'many', 'some','nice', 'thank', 'think', 'see', 'rather',\n",
        "                  'easy', 'easily', 'lot', 'lack', 'make', 'want', 'seem', 'run', 'need', \n",
        "                   'even', 'right', 'line','even', 'also', 'may', 'take', 'come',\n",
        "                   'new','said', 'like','people'])"
      ],
      "execution_count": 5,
      "outputs": []
    },
    {
      "cell_type": "code",
      "metadata": {
        "id": "KPXyKkSST5HX"
      },
      "source": [
        "def remove_stop_words(text):\n",
        "     return [word for word in text if word not in stop_words]"
      ],
      "execution_count": 6,
      "outputs": []
    },
    {
      "cell_type": "code",
      "metadata": {
        "id": "zzuMRDFZT7j2"
      },
      "source": [
        "stemmer = PorterStemmer()\n",
        "def stem_words(text):\n",
        "    \"\"\"\n",
        "    Function to stem words\n",
        "    \"\"\"\n",
        "    try:\n",
        "        text = [stemmer.stem(word) for word in text]\n",
        "        text = [word for word in text if len(word) > 1] # no single letter words\n",
        "    except IndexError:\n",
        "        pass\n",
        "\n",
        "    return text"
      ],
      "execution_count": 7,
      "outputs": []
    },
    {
      "cell_type": "code",
      "metadata": {
        "id": "NOxxvIhWT_Qw",
        "colab": {
          "base_uri": "https://localhost:8080/"
        },
        "outputId": "9b007e4c-8089-46eb-c62e-0e53cbdef3ed"
      },
      "source": [
        "def apply_all(text):\n",
        "    \"\"\"\n",
        "    This function applies all the functions above into one\n",
        "    \"\"\"\n",
        "    return stem_words(remove_stop_words(initial_clean(text)))\n",
        "\n",
        "print(apply_all)"
      ],
      "execution_count": 8,
      "outputs": [
        {
          "output_type": "stream",
          "text": [
            "<function apply_all at 0x7fb1f6348710>\n"
          ],
          "name": "stdout"
        }
      ]
    },
    {
      "cell_type": "code",
      "metadata": {
        "colab": {
          "base_uri": "https://localhost:8080/"
        },
        "id": "OlNodPZkUA0H",
        "outputId": "dcde964e-bc56-49fc-9cff-195a4d34e5ef"
      },
      "source": [
        "t1 = time.time()\n",
        "reviews_df['tokenized_reviews'] = reviews_df['text'].apply(apply_all)\n",
        "t2 = time.time()\n",
        "print(\"Time to clean and tokenize\", len(reviews_df), \"reviews:\", (t2-t1)/60, \"min\") #Time to clean and tokenize 3209 reviews: 0.21254388093948365 min\n",
        "\n",
        "print('\\n')\n",
        "print(\"reviews with their respective tokenize version:\" )\n",
        "print(reviews_df.head(5))"
      ],
      "execution_count": 9,
      "outputs": [
        {
          "output_type": "stream",
          "text": [
            "Time to clean and tokenize 50 reviews: 0.0010828296343485513 min\n",
            "\n",
            "\n",
            "reviews with their respective tokenize version:\n",
            "                                                text                                  tokenized_reviews\n",
            "0  Often, 85% amino acid sequence similarity is u...  [often, amino, acid, sequenc, similar, use, si...\n",
            "1   Similarly, the T cell repertoire can be asses...  [similarli, cell, repertoir, assess, sequenc, ...\n",
            "2   Nevertheless, bulk sequencing of receptors fr...  [nevertheless, bulk, sequenc, receptor, cell, ...\n",
            "3   This has been most evident in the clinical di...             [evid, clinic, diagnosi, cell, cancer]\n",
            "4   Furthermore, sequencing can be used to track ...  [furthermor, sequenc, use, track, expans, neoa...\n"
          ],
          "name": "stdout"
        }
      ]
    },
    {
      "cell_type": "code",
      "metadata": {
        "colab": {
          "base_uri": "https://localhost:8080/"
        },
        "id": "9KXMcXWKUDU0",
        "outputId": "bedb0576-f844-4f4e-9e12-9f81985d9a8a"
      },
      "source": [
        "#LDA\n",
        "#Create a Gensim dictionary from the tokenized data\n",
        "tokenized = reviews_df['tokenized_reviews']\n",
        "#Creating term dictionary of corpus, where each unique term is assigned an index.\n",
        "dictionary = corpora.Dictionary(tokenized)\n",
        "#Filter terms which occurs in less than 1 review and more than 80% of the reviews.\n",
        "dictionary.filter_extremes(no_below=1, no_above=0.8)\n",
        "#convert the dictionary to a bag of words corpus\n",
        "corpus = [dictionary.doc2bow(tokens) for tokens in tokenized]\n",
        "print(corpus[:1])\n",
        "\n",
        "print([[(dictionary[id], freq) for id, freq in cp] for cp in corpus[:1]])"
      ],
      "execution_count": 10,
      "outputs": [
        {
          "output_type": "stream",
          "text": [
            "[[(0, 1), (1, 1), (2, 1), (3, 1), (4, 1), (5, 1), (6, 1), (7, 1), (8, 1)]]\n",
            "[[('acid', 1), ('amino', 1), ('criterion', 1), ('inclus', 1), ('often', 1), ('sequenc', 1), ('similar', 1), ('simpl', 1), ('use', 1)]]\n"
          ],
          "name": "stdout"
        }
      ]
    },
    {
      "cell_type": "code",
      "metadata": {
        "colab": {
          "base_uri": "https://localhost:8080/"
        },
        "id": "8TTm1AaXUFai",
        "outputId": "ae4d7fdb-85d0-43b4-b85a-60f5ca9a4a8f"
      },
      "source": [
        "#LDA with num_topics=10, alpha=0.05, eta=0.61, num_words=5 \n",
        "ldamodel = gensim.models.ldamodel.LdaModel(corpus, num_topics = 5, id2word=dictionary, passes=7, alpha=0.05, eta=0.61)\n",
        "\n",
        "#saving the model\n",
        "ldamodel.save('model_combined.gensim')\n",
        "topics = ldamodel.print_topics(num_words=5)\n",
        "print('\\n')\n",
        "print(\"Now printing the topics and their composition\")\n",
        "print(\"This output shows the Topic-Words matrix for the 10 topics created and the 5 words within each topic\")\n",
        "for topic in topics:\n",
        "   print(topic)\n"
      ],
      "execution_count": 11,
      "outputs": [
        {
          "output_type": "stream",
          "text": [
            "\n",
            "\n",
            "Now printing the topics and their composition\n",
            "This output shows the Topic-Words matrix for the 10 topics created and the 5 words within each topic\n",
            "(0, '0.021*\"et\" + 0.021*\"al\" + 0.015*\"exampl\" + 0.015*\"respons\" + 0.015*\"studi\"')\n",
            "(1, '0.026*\"immun\" + 0.021*\"sequenc\" + 0.017*\"group\" + 0.017*\"converg\" + 0.017*\"individu\"')\n",
            "(2, '0.034*\"sequenc\" + 0.034*\"cell\" + 0.018*\"repertoir\" + 0.018*\"al\" + 0.018*\"et\"')\n",
            "(3, '0.025*\"cell\" + 0.014*\"technolog\" + 0.014*\"singl\" + 0.014*\"tcr\" + 0.009*\"inclus\"')\n",
            "(4, '0.026*\"sequenc\" + 0.017*\"individu\" + 0.012*\"context\" + 0.012*\"infect\" + 0.012*\"studi\"')\n"
          ],
          "name": "stdout"
        }
      ]
    },
    {
      "cell_type": "code",
      "metadata": {
        "colab": {
          "base_uri": "https://localhost:8080/"
        },
        "id": "4Cycg_KNUfBm",
        "outputId": "c4a6a91e-164c-4c08-dddc-62653eb72510"
      },
      "source": [
        "# Compute Coherence Score for num_topics=5, alpha=0.05, eta=0.61, num_words=5\n",
        "coherence_model_lda = CoherenceModel(model=ldamodel, texts=tokenized, dictionary=dictionary, coherence='c_v')\n",
        "coherence_lda = coherence_model_lda.get_coherence()\n",
        "print('\\nCoherence Score: ', coherence_lda)"
      ],
      "execution_count": 12,
      "outputs": [
        {
          "output_type": "stream",
          "text": [
            "\n",
            "Coherence Score:  0.4115182977698538\n"
          ],
          "name": "stdout"
        }
      ]
    },
    {
      "cell_type": "code",
      "metadata": {
        "colab": {
          "base_uri": "https://localhost:8080/"
        },
        "id": "WWZ8imhkUhY9",
        "outputId": "ff8f6da8-b4f1-4555-ca52-4d20bd5e5416"
      },
      "source": [
        "#finding the similarity of the first sentence with topics for num_topics=5, alpha=0.05, eta=0.61, num_words=5\n",
        "print('\\n')\n",
        "print(\"first line is:\")\n",
        "print(reviews_df.text[0])\n",
        "get_document_topics = ldamodel.get_document_topics(corpus[0])\n",
        "print('\\n')\n",
        "print(\"The similarity of this line with the topics and respective similarity score are \")\n",
        "print(get_document_topics)"
      ],
      "execution_count": 13,
      "outputs": [
        {
          "output_type": "stream",
          "text": [
            "\n",
            "\n",
            "first line is:\n",
            "Often, 85% amino acid sequence similarity is used as a simple inclusion criterion\n",
            "\n",
            "\n",
            "The similarity of this line with the topics and respective similarity score are \n",
            "[(3, 0.978378)]\n"
          ],
          "name": "stdout"
        }
      ]
    },
    {
      "cell_type": "code",
      "metadata": {
        "colab": {
          "base_uri": "https://localhost:8080/",
          "height": 881
        },
        "id": "GfRuWtYxUkmA",
        "outputId": "d7c7e4c5-aee0-426f-e457-7e991995818e"
      },
      "source": [
        "#visualizing topics for alpha=0.05, eta=0.61\n",
        "lda_viz = gensim.models.ldamodel.LdaModel.load('/content/model_combined.gensim')\n",
        "lda_display = pyLDAvis.gensim_models.prepare(lda_viz, corpus, dictionary, sort_topics=True)\n",
        "pyLDAvis.display(lda_display)\n"
      ],
      "execution_count": 14,
      "outputs": [
        {
          "output_type": "execute_result",
          "data": {
            "text/html": [
              "\n",
              "<link rel=\"stylesheet\" type=\"text/css\" href=\"https://cdn.jsdelivr.net/gh/bmabey/pyLDAvis@3.3.1/pyLDAvis/js/ldavis.v1.0.0.css\">\n",
              "\n",
              "\n",
              "<div id=\"ldavis_el4711404022311785763521346889\"></div>\n",
              "<script type=\"text/javascript\">\n",
              "\n",
              "var ldavis_el4711404022311785763521346889_data = {\"mdsDat\": {\"x\": [-0.05732131074468145, 0.023986085262369033, 0.03082813491864905, -0.007569999937022416, 0.010077090500685807], \"y\": [-0.0036186753179772322, -0.043422360528077075, 0.025327670643551976, 0.00937872251773733, 0.012334642684765014], \"topics\": [1, 2, 3, 4, 5], \"cluster\": [1, 1, 1, 1, 1], \"Freq\": [41.93068069900466, 18.807443608000984, 18.33378114949214, 12.370106105027237, 8.557988438474986]}, \"tinfo\": {\"Term\": [\"et\", \"al\", \"cell\", \"individu\", \"immun\", \"exampl\", \"respons\", \"studi\", \"vaccin\", \"group\", \"technolog\", \"singl\", \"howev\", \"tcr\", \"provid\", \"describ\", \"compar\", \"influenza\", \"motif\", \"infect\", \"epitop\", \"infecti\", \"draw\", \"trial\", \"flu\", \"elderli\", \"groupspecif\", \"adult\", \"affect\", \"mice\", \"clone\", \"chain\", \"bulk\", \"repertoir\", \"bcr\", \"cell\", \"expand\", \"assess\", \"receptor\", \"heavi\", \"yfd\", \"cancer\", \"importantli\", \"specif\", \"bind\", \"popul\", \"sequenc\", \"al\", \"et\", \"far\", \"antigen\", \"valid\", \"without\", \"includ\", \"base\", \"fact\", \"light\", \"furthermor\", \"success\", \"proof\", \"converg\", \"inform\", \"immun\", \"context\", \"tcr\", \"vaccin\", \"often\", \"group\", \"level\", \"predict\", \"provid\", \"immun\", \"nonimmun\", \"pure\", \"volum\", \"comput\", \"design\", \"control\", \"exist\", \"viral\", \"obviou\", \"least\", \"pattern\", \"bacteri\", \"determin\", \"effect\", \"later\", \"structur\", \"significantli\", \"person\", \"repertoiretailor\", \"scientif\", \"demonstr\", \"repeatedli\", \"field\", \"expos\", \"opportun\", \"individu\", \"converg\", \"tcr\", \"studi\", \"sequenc\", \"vaccin\", \"possibl\", \"valid\", \"bcr\", \"evid\", \"enrich\", \"bind\", \"identifi\", \"show\", \"limit\", \"respons\", \"infect\", \"epitop\", \"infecti\", \"draw\", \"motif\", \"accumul\", \"observ\", \"yield\", \"experienc\", \"blood\", \"repetit\", \"import\", \"current\", \"former\", \"summar\", \"appli\", \"dengu\", \"uniqu\", \"number\", \"cost\", \"critic\", \"low\", \"feasibl\", \"parameswaran\", \"strategi\", \"neutral\", \"defin\", \"forward\", \"must\", \"scheid\", \"individu\", \"diseas\", \"sequenc\", \"context\", \"studi\", \"vaccin\", \"converg\", \"al\", \"et\", \"cell\", \"evid\", \"howev\", \"sever\", \"approach\", \"protect\", \"singl\", \"technolog\", \"inclus\", \"criterion\", \"similar\", \"simpl\", \"besid\", \"highlight\", \"glanvil\", \"improv\", \"fold\", \"transcriptom\", \"acid\", \"amino\", \"impact\", \"day\", \"antibodi\", \"mean\", \"suffici\", \"power\", \"unknown\", \"mechan\", \"retrospect\", \"protect\", \"enrich\", \"express\", \"clonal\", \"identif\", \"use\", \"track\", \"tcr\", \"cell\", \"expand\", \"bcr\", \"sequenc\", \"inform\", \"pathogenspecif\", \"sever\", \"provid\", \"immun\", \"clone\", \"context\", \"al\", \"et\", \"exampl\", \"respons\", \"adult\", \"elderli\", \"flu\", \"groupspecif\", \"trial\", \"affect\", \"mice\", \"previou\", \"differ\", \"recent\", \"pogorelyy\", \"malherb\", \"dewitt\", \"describ\", \"compar\", \"influenza\", \"exposur\", \"studi\", \"howev\", \"popul\", \"et\", \"al\", \"vaccin\", \"retrospect\", \"mechan\", \"unknown\", \"power\", \"acid\", \"repertoir\", \"cell\", \"amino\", \"criterion\"], \"Freq\": [5.0, 5.0, 8.0, 3.0, 4.0, 1.0, 1.0, 3.0, 4.0, 2.0, 2.0, 2.0, 2.0, 3.0, 2.0, 1.0, 1.0, 1.0, 2.0, 1.0, 1.0, 1.0, 1.0, 1.0, 1.0, 1.0, 1.0, 1.0, 1.0, 1.0, 3.1551301135245424, 2.032163907126241, 2.032163907126241, 3.1580265534519096, 3.1548048078567783, 5.9698197707705205, 2.0321634127407275, 1.4692326663609925, 1.4692323367706501, 1.4692323367706501, 1.4692323367706501, 1.469232007180308, 1.4652296268596454, 2.032163907126241, 2.032163907126241, 1.4692326663609925, 5.972684570025034, 3.158026223861567, 3.158026223861567, 1.4692326663609925, 1.4692323367706501, 1.4647469418034746, 0.906302496764356, 0.9063024143667704, 0.9063024143667704, 0.9063024143667704, 0.9063024143667704, 0.9063022495715993, 0.9063022495715993, 0.9063022495715993, 2.5950949830963186, 1.4692323367706501, 2.032163577535899, 1.469232007180308, 1.464895916638155, 1.4692326663609925, 0.9063024143667704, 1.335711899571097, 0.9657064592983513, 0.965706089715049, 0.9657064592983513, 2.075723223616551, 0.5957014255672379, 0.5957014255672379, 0.5957013886089078, 0.5957013516505775, 0.5957013516505775, 0.5957013146922473, 0.5957013146922473, 0.5957013146922473, 0.5957013146922473, 0.595701277733917, 0.595701277733917, 0.595701277733917, 0.595701277733917, 0.595701277733917, 0.5957012407755868, 0.5957012407755868, 0.5957012407755868, 0.5957012407755868, 0.5957012407755868, 0.5957012407755868, 0.5957011668589264, 0.5957011668589264, 0.5957011299005962, 0.5957010929422659, 0.5957010559839357, 1.3357117517377761, 1.3357117517377761, 0.9685563900584683, 0.9657063114650304, 1.7057172659271824, 0.9657063114650304, 0.5984689392509588, 0.5986487784858214, 0.5978191378889869, 0.5957014255672379, 0.5957014255672379, 0.5957013516505775, 0.5957013146922473, 0.5957013146922473, 0.5957013146922473, 0.595701277733917, 0.9506226139084415, 0.9506225418533604, 0.9506225418533604, 0.9506223256881168, 0.950622397743198, 0.5863968962823114, 0.5863968962823114, 0.5863968962823114, 0.5863968602547708, 0.5863968602547708, 0.5863968602547708, 0.5863968602547708, 0.5863968602547708, 0.5863968602547708, 0.5863968602547708, 0.586396752172149, 0.586396752172149, 0.586396752172149, 0.586396752172149, 0.586396752172149, 0.586396752172149, 0.586396752172149, 0.5863967161446084, 0.5863966801170678, 0.5863966801170678, 0.5863966801170678, 0.5863966440895273, 0.5863966440895273, 0.5863966440895273, 0.5863965720344461, 1.3148490160578428, 0.9506224697982791, 2.043301676246483, 0.9506226139084415, 0.9506225418533604, 0.9506224697982791, 0.9506225418533604, 0.950622397743198, 0.950622397743198, 0.950622397743198, 0.5863968602547708, 0.5863968602547708, 0.5863968602547708, 0.5863968602547708, 0.5863968602547708, 0.7269570464816125, 0.7269572409486442, 0.4484278969743269, 0.448427848357569, 0.448427848357569, 0.4484277997408111, 0.4484277997408111, 0.4484277511240532, 0.4484277511240532, 0.4484277511240532, 0.4484277511240532, 0.4484277511240532, 0.44842770250729524, 0.44842770250729524, 0.44842770250729524, 0.44842770250729524, 0.44842770250729524, 0.44842770250729524, 0.44842770250729524, 0.44842760527377945, 0.4484272163397163, 0.4484271677229584, 0.4484262926213161, 0.44842770250729524, 0.4484277997408111, 0.44842770250729524, 0.4484277997408111, 0.448427848357569, 0.4484277997408111, 0.44842760527377945, 0.7269569978648547, 1.2840160261307945, 0.448427848357569, 0.448427848357569, 0.4484277997408111, 0.4484277997408111, 0.4484277997408111, 0.4484277997408111, 0.4484277997408111, 0.4484277997408111, 0.4484277511240532, 0.4484277511240532, 0.4484277511240532, 0.4484277511240532, 0.5530977609833075, 0.5530975928110832, 0.34118175473377055, 0.34118175473377055, 0.34118175473377055, 0.34118175473377055, 0.34118175473377055, 0.34118172109932565, 0.34118172109932565, 0.34118168746488076, 0.34118168746488076, 0.34118165383043586, 0.34118162019599096, 0.34118162019599096, 0.34118151929265633, 0.34118172109932565, 0.34118175473377055, 0.34118165383043586, 0.34118165383043586, 0.5530975928110832, 0.34118172109932565, 0.34118175473377055, 0.7650140363084037, 0.7650136999639549, 0.5530974919077485, 0.12926912874594462, 0.12926912874594462, 0.12926912874594462, 0.12926912874594462, 0.12926912874594462, 0.34118175473377055, 0.34118165383043586, 0.12926912874594462, 0.12926912874594462], \"Total\": [5.0, 5.0, 8.0, 3.0, 4.0, 1.0, 1.0, 3.0, 4.0, 2.0, 2.0, 2.0, 2.0, 3.0, 2.0, 1.0, 1.0, 1.0, 2.0, 1.0, 1.0, 1.0, 1.0, 1.0, 1.0, 1.0, 1.0, 1.0, 1.0, 1.0, 4.182613272713236, 2.779218606060264, 2.779218606060264, 4.4869913356471764, 4.552499307013577, 8.773226991526926, 3.057742557510709, 2.2162873652950155, 2.216287035704673, 2.216287035704673, 2.216287035704673, 2.2162867061143308, 2.2149148903847498, 3.1492160633336814, 3.1492161742086724, 2.428199991282842, 10.299400440685455, 5.547793856194942, 5.54779419253939, 2.5862846747351123, 2.5862843451447697, 2.58474663572115, 1.653357195698379, 1.6533571133007934, 1.6533571133007934, 1.6533571133007934, 1.6533571133007934, 1.6533569485056223, 1.6533569485056223, 1.6533569485056223, 5.18060180795501, 2.8648088901972915, 4.907762113803504, 3.223255284460916, 3.5118568174717213, 4.108562342053661, 2.2960997092392468, 2.2004515598895917, 1.8304461196168462, 1.8304457500335438, 2.108970516836047, 4.907762113803504, 1.4604410858857328, 1.4604410858857328, 1.4604410489274027, 1.4604410119690723, 1.4604410119690723, 1.460440975010742, 1.460440975010742, 1.460440975010742, 1.460440975010742, 1.460440938052412, 1.460440938052412, 1.460440938052412, 1.460440938052412, 1.460440938052412, 1.4604409010940818, 1.4604409010940818, 1.4604409010940818, 1.4604409010940818, 1.4604409010940818, 1.4604409010940818, 1.4604408271774212, 1.4604408271774212, 1.460440790219091, 1.4604407532607608, 1.4604407163024307, 3.293122043949815, 5.18060180795501, 3.5118568174717213, 3.545631274246828, 10.299400440685455, 4.108562342053661, 2.0219112580422998, 2.58474663572115, 4.552499307013577, 2.3875722426853074, 1.7389654831049337, 3.1492161742086724, 2.0233544796957004, 2.0233543149005295, 1.8246593430185922, 1.8842694021175506, 1.8188876735648065, 1.8188876015097253, 1.8188876015097253, 1.8188873853444818, 2.18888484075632, 1.4546619559386764, 1.4546619559386764, 1.4546619559386764, 1.454661919911136, 1.454661919911136, 1.454661919911136, 1.454661919911136, 1.454661919911136, 1.454661919911136, 1.454661919911136, 1.454661811828514, 1.454661811828514, 1.454661811828514, 1.454661811828514, 1.454661811828514, 1.454661811828514, 1.454661811828514, 1.4546617758009734, 1.454661739773433, 1.454661739773433, 1.454661739773433, 1.4546617037458924, 1.4546617037458924, 1.4546617037458924, 1.454661631690811, 3.293122043949815, 2.3818010341396025, 10.299400440685455, 3.223255284460916, 3.545631274246828, 4.108562342053661, 5.18060180795501, 5.547793856194942, 5.54779419253939, 8.773226991526926, 2.3875722426853074, 2.3150962695236195, 2.2960993274297814, 1.824659155434572, 1.7331862198968209, 2.2092803523870423, 2.210410622137485, 1.3689679382733806, 1.3689678896566229, 1.3689678896566229, 1.368967841039865, 1.368967841039865, 1.368967792423107, 1.368967792423107, 1.368967792423107, 1.368967792423107, 1.368967792423107, 1.368967743806349, 1.368967743806349, 1.368967743806349, 1.368967743806349, 1.368967743806349, 1.368967743806349, 1.368967743806349, 1.3689676465728333, 1.3689672576387701, 1.3689672090220122, 1.36896633392037, 1.7331862198968209, 1.7389654831049337, 1.9304299445285225, 1.9318812633272378, 1.9318815591367522, 1.9318815105199942, 1.9318809040650349, 3.5118568174717213, 8.773226991526926, 3.057742557510709, 4.552499307013577, 10.299400440685455, 2.8648088901972915, 2.6660967418140515, 2.2960993274297814, 2.108970516836047, 4.907762113803504, 4.182613272713236, 3.223255284460916, 5.547793856194942, 5.54779419253939, 1.8784904800934177, 1.8842694021175506, 1.30235606980849, 1.30235606980849, 1.30235606980849, 1.30235606980849, 1.30235606980849, 1.3023560361740452, 1.3023560361740452, 1.3023560025396002, 1.3023560025396002, 1.3023559689051551, 1.3023559352707104, 1.3023559352707104, 1.3023558343673758, 1.6665741519891109, 1.6723535640402378, 1.672353093553601, 1.8652693911925282, 3.545631274246828, 2.3150962695236195, 2.428199991282842, 5.54779419253939, 5.547793856194942, 4.108562342053661, 1.36896633392037, 1.3689672090220122, 1.3689672576387701, 1.3689676465728333, 1.368967743806349, 4.4869913356471764, 8.773226991526926, 1.368967743806349, 1.3689678896566229], \"Category\": [\"Default\", \"Default\", \"Default\", \"Default\", \"Default\", \"Default\", \"Default\", \"Default\", \"Default\", \"Default\", \"Default\", \"Default\", \"Default\", \"Default\", \"Default\", \"Default\", \"Default\", \"Default\", \"Default\", \"Default\", \"Default\", \"Default\", \"Default\", \"Default\", \"Default\", \"Default\", \"Default\", \"Default\", \"Default\", \"Default\", \"Topic1\", \"Topic1\", \"Topic1\", \"Topic1\", \"Topic1\", \"Topic1\", \"Topic1\", \"Topic1\", \"Topic1\", \"Topic1\", \"Topic1\", \"Topic1\", \"Topic1\", \"Topic1\", \"Topic1\", \"Topic1\", \"Topic1\", \"Topic1\", \"Topic1\", \"Topic1\", \"Topic1\", \"Topic1\", \"Topic1\", \"Topic1\", \"Topic1\", \"Topic1\", \"Topic1\", \"Topic1\", \"Topic1\", \"Topic1\", \"Topic1\", \"Topic1\", \"Topic1\", \"Topic1\", \"Topic1\", \"Topic1\", \"Topic1\", \"Topic2\", \"Topic2\", \"Topic2\", \"Topic2\", \"Topic2\", \"Topic2\", \"Topic2\", \"Topic2\", \"Topic2\", \"Topic2\", \"Topic2\", \"Topic2\", \"Topic2\", \"Topic2\", \"Topic2\", \"Topic2\", \"Topic2\", \"Topic2\", \"Topic2\", \"Topic2\", \"Topic2\", \"Topic2\", \"Topic2\", \"Topic2\", \"Topic2\", \"Topic2\", \"Topic2\", \"Topic2\", \"Topic2\", \"Topic2\", \"Topic2\", \"Topic2\", \"Topic2\", \"Topic2\", \"Topic2\", \"Topic2\", \"Topic2\", \"Topic2\", \"Topic2\", \"Topic2\", \"Topic2\", \"Topic2\", \"Topic2\", \"Topic2\", \"Topic2\", \"Topic2\", \"Topic3\", \"Topic3\", \"Topic3\", \"Topic3\", \"Topic3\", \"Topic3\", \"Topic3\", \"Topic3\", \"Topic3\", \"Topic3\", \"Topic3\", \"Topic3\", \"Topic3\", \"Topic3\", \"Topic3\", \"Topic3\", \"Topic3\", \"Topic3\", \"Topic3\", \"Topic3\", \"Topic3\", \"Topic3\", \"Topic3\", \"Topic3\", \"Topic3\", \"Topic3\", \"Topic3\", \"Topic3\", \"Topic3\", \"Topic3\", \"Topic3\", \"Topic3\", \"Topic3\", \"Topic3\", \"Topic3\", \"Topic3\", \"Topic3\", \"Topic3\", \"Topic3\", \"Topic3\", \"Topic3\", \"Topic3\", \"Topic3\", \"Topic3\", \"Topic3\", \"Topic4\", \"Topic4\", \"Topic4\", \"Topic4\", \"Topic4\", \"Topic4\", \"Topic4\", \"Topic4\", \"Topic4\", \"Topic4\", \"Topic4\", \"Topic4\", \"Topic4\", \"Topic4\", \"Topic4\", \"Topic4\", \"Topic4\", \"Topic4\", \"Topic4\", \"Topic4\", \"Topic4\", \"Topic4\", \"Topic4\", \"Topic4\", \"Topic4\", \"Topic4\", \"Topic4\", \"Topic4\", \"Topic4\", \"Topic4\", \"Topic4\", \"Topic4\", \"Topic4\", \"Topic4\", \"Topic4\", \"Topic4\", \"Topic4\", \"Topic4\", \"Topic4\", \"Topic4\", \"Topic4\", \"Topic4\", \"Topic4\", \"Topic4\", \"Topic5\", \"Topic5\", \"Topic5\", \"Topic5\", \"Topic5\", \"Topic5\", \"Topic5\", \"Topic5\", \"Topic5\", \"Topic5\", \"Topic5\", \"Topic5\", \"Topic5\", \"Topic5\", \"Topic5\", \"Topic5\", \"Topic5\", \"Topic5\", \"Topic5\", \"Topic5\", \"Topic5\", \"Topic5\", \"Topic5\", \"Topic5\", \"Topic5\", \"Topic5\", \"Topic5\", \"Topic5\", \"Topic5\", \"Topic5\", \"Topic5\", \"Topic5\", \"Topic5\", \"Topic5\"], \"logprob\": [30.0, 29.0, 28.0, 27.0, 26.0, 25.0, 24.0, 23.0, 22.0, 21.0, 20.0, 19.0, 18.0, 17.0, 16.0, 15.0, 14.0, 13.0, 12.0, 11.0, 10.0, 9.0, 8.0, 7.0, 6.0, 5.0, 4.0, 3.0, 2.0, 1.0, -4.0268, -4.4668, -4.4668, -4.0259, -4.0269, -3.3891, -4.4668, -4.7911, -4.7911, -4.7911, -4.7911, -4.7911, -4.7938, -4.4668, -4.4668, -4.7911, -3.3887, -4.0259, -4.0259, -4.7911, -4.7911, -4.7942, -5.2742, -5.2742, -5.2742, -5.2742, -5.2742, -5.2742, -5.2742, -5.2742, -4.2222, -4.7911, -4.4668, -4.7911, -4.7941, -4.7911, -5.2742, -4.0846, -4.409, -4.409, -4.409, -3.6438, -4.8921, -4.8921, -4.8921, -4.8921, -4.8921, -4.8921, -4.8921, -4.8921, -4.8921, -4.8921, -4.8921, -4.8921, -4.8921, -4.8921, -4.8921, -4.8921, -4.8921, -4.8921, -4.8921, -4.8921, -4.8921, -4.8921, -4.8921, -4.8921, -4.8921, -4.0846, -4.0846, -4.406, -4.409, -3.8401, -4.409, -4.8875, -4.8872, -4.8886, -4.8921, -4.8921, -4.8921, -4.8921, -4.8921, -4.8921, -4.8921, -4.3992, -4.3992, -4.3992, -4.3992, -4.3992, -4.8823, -4.8823, -4.8823, -4.8823, -4.8823, -4.8823, -4.8823, -4.8823, -4.8823, -4.8823, -4.8823, -4.8823, -4.8823, -4.8823, -4.8823, -4.8823, -4.8823, -4.8823, -4.8823, -4.8823, -4.8823, -4.8823, -4.8823, -4.8823, -4.8823, -4.0749, -4.3992, -3.634, -4.3992, -4.3992, -4.3992, -4.3992, -4.3992, -4.3992, -4.3992, -4.8823, -4.8823, -4.8823, -4.8823, -4.8823, -4.274, -4.274, -4.7571, -4.7571, -4.7571, -4.7571, -4.7571, -4.7571, -4.7571, -4.7571, -4.7571, -4.7571, -4.7571, -4.7571, -4.7571, -4.7571, -4.7571, -4.7571, -4.7571, -4.7571, -4.7571, -4.7571, -4.7571, -4.7571, -4.7571, -4.7571, -4.7571, -4.7571, -4.7571, -4.7571, -4.274, -3.7051, -4.7571, -4.7571, -4.7571, -4.7571, -4.7571, -4.7571, -4.7571, -4.7571, -4.7571, -4.7571, -4.7571, -4.7571, -4.1789, -4.1789, -4.662, -4.662, -4.662, -4.662, -4.662, -4.662, -4.662, -4.662, -4.662, -4.662, -4.662, -4.662, -4.662, -4.662, -4.662, -4.662, -4.662, -4.1789, -4.662, -4.662, -3.8546, -3.8546, -4.1789, -5.6326, -5.6326, -5.6326, -5.6326, -5.6326, -4.662, -4.662, -5.6326, -5.6326], \"loglift\": [30.0, 29.0, 28.0, 27.0, 26.0, 25.0, 24.0, 23.0, 22.0, 21.0, 20.0, 19.0, 18.0, 17.0, 16.0, 15.0, 14.0, 13.0, 12.0, 11.0, 10.0, 9.0, 8.0, 7.0, 6.0, 5.0, 4.0, 3.0, 2.0, 1.0, 0.5872, 0.5561, 0.5561, 0.5179, 0.5024, 0.4842, 0.4606, 0.4581, 0.4581, 0.4581, 0.4581, 0.4581, 0.456, 0.4311, 0.4311, 0.3667, 0.3243, 0.3057, 0.3057, 0.3037, 0.3037, 0.3012, 0.268, 0.268, 0.268, 0.268, 0.268, 0.268, 0.268, 0.268, 0.1779, 0.2014, -0.0126, 0.0835, -0.0052, -0.1592, -0.0604, 1.1717, 1.0315, 1.0315, 0.8898, 0.8104, 0.7742, 0.7742, 0.7742, 0.7742, 0.7742, 0.7742, 0.7742, 0.7742, 0.7742, 0.7742, 0.7742, 0.7742, 0.7742, 0.7742, 0.7742, 0.7742, 0.7742, 0.7742, 0.7742, 0.7742, 0.7742, 0.7742, 0.7742, 0.7742, 0.7742, 0.7685, 0.3155, 0.3828, 0.3703, -0.1272, 0.2229, 0.4535, 0.2082, -0.3592, 0.2826, 0.5996, 0.0057, 0.4481, 0.4481, 0.5515, 0.5194, 1.0476, 1.0476, 1.0476, 1.0476, 0.8624, 0.7879, 0.7879, 0.7879, 0.7879, 0.7879, 0.7879, 0.7879, 0.7879, 0.7879, 0.7879, 0.7879, 0.7879, 0.7879, 0.7879, 0.7879, 0.7879, 0.7879, 0.7879, 0.7879, 0.7879, 0.7879, 0.7879, 0.7879, 0.7879, 0.7879, 0.7783, 0.7779, 0.0789, 0.4754, 0.3801, 0.2327, 0.0009, -0.0676, -0.0676, -0.5259, 0.2924, 0.3232, 0.3315, 0.5613, 0.6127, 0.9783, 0.9778, 0.9738, 0.9738, 0.9738, 0.9738, 0.9738, 0.9738, 0.9738, 0.9738, 0.9738, 0.9738, 0.9738, 0.9738, 0.9738, 0.9738, 0.9738, 0.9738, 0.9738, 0.9738, 0.9738, 0.9738, 0.9738, 0.7379, 0.7346, 0.6301, 0.6294, 0.6294, 0.6294, 0.6294, 0.5149, 0.1682, 0.1702, -0.2278, -1.0442, 0.2354, 0.3073, 0.4567, 0.5417, -0.3029, -0.1431, 0.1175, -0.4255, -0.4255, 1.2356, 1.2325, 1.1188, 1.1188, 1.1188, 1.1188, 1.1188, 1.1188, 1.1188, 1.1188, 1.1188, 1.1188, 1.1188, 1.1188, 1.1188, 0.8722, 0.8687, 0.8687, 0.7596, 0.6004, 0.5435, 0.4958, 0.477, 0.477, 0.453, 0.0984, 0.0984, 0.0984, 0.0984, 0.0984, -0.1182, -0.7887, 0.0984, 0.0984]}, \"token.table\": {\"Topic\": [3, 1, 3, 5, 1, 2, 3, 2, 3, 1, 2, 1, 1, 2, 1, 2, 3, 1, 1, 1, 3, 4, 1, 1, 1, 2, 2, 1, 3, 2, 1, 2, 3, 3, 3, 3, 3, 2, 3, 3, 2, 2, 1, 3, 3, 2, 2, 3, 1, 3, 5, 1, 2, 3, 3, 5, 2, 1, 3, 2, 1, 1, 1, 1, 2, 3, 2, 3, 3, 1, 2, 1, 2, 3, 1, 1, 2, 1, 2, 3, 1, 1, 2, 3, 3, 3, 2, 1, 2, 2, 2, 2, 1, 2, 3, 3, 2, 3, 3, 3, 2, 3, 3, 2, 1, 3, 2, 3, 1, 2, 3, 2, 2, 1, 1, 2, 2, 1, 3, 2, 2, 1, 2, 1, 2, 2, 3, 2, 5, 3, 2, 1, 2, 3, 1, 3, 1, 2, 2, 1, 4, 1, 2, 3, 2, 1, 2, 3, 5, 1, 3, 1, 2, 4, 1, 4, 1, 3, 1, 1, 2, 3, 5, 1, 2, 2, 2, 1, 1, 3], \"Freq\": [0.6874449392984308, 0.5407554926811224, 0.18025183089370747, 0.18025183089370747, 0.38665508758822265, 0.38665508758822265, 0.6874450074020966, 0.548047561113864, 0.548047561113864, 0.45120502677543695, 0.6847247115200439, 0.6048300103802626, 0.6589786835064867, 0.2196595611688289, 0.6350786638210237, 0.31753933191051187, 0.6874449563243459, 0.719626730923171, 0.45120516097542, 0.6838988670639351, 0.11398314451065585, 0.11398314451065585, 0.719626730923171, 0.517630156150343, 0.7172549323580945, 0.5979596788038654, 0.6847246768643723, 0.3102453612101184, 0.3102453612101184, 0.6847246941922077, 0.5790833017494968, 0.19302776724983228, 0.19302776724983228, 0.6874450074020966, 0.6874450074020966, 0.6874449563243459, 0.6874450584798546, 0.6847247635035578, 0.6874450074020966, 0.6000333071327593, 0.6847246768643723, 0.6847247115200439, 0.4198503509178457, 0.4198503509178457, 0.5497866487268032, 0.6847247115200439, 0.5750545423216186, 0.5497865833875459, 0.540755459896902, 0.180251819965634, 0.180251819965634, 0.41883549411484944, 0.41883549411484944, 0.41883549411484944, 0.532342330502665, 0.532342330502665, 0.6847246941922077, 0.6540773012716247, 0.6874449563243459, 0.684724798159238, 0.5361155899098666, 0.5180193162846085, 0.6048300103802626, 0.38665503831376186, 0.38665503831376186, 0.6874450244280151, 0.6847247808313974, 0.6874449563243459, 0.6874450584798546, 0.6048300706655296, 0.4544521761934061, 0.4512050938754185, 0.43194748018222645, 0.43194748018222645, 0.5176300768908644, 0.49422877208861277, 0.49422877208861277, 0.4075177145148962, 0.4075177145148962, 0.6874449563243459, 0.45148461656072547, 0.6048300103802626, 0.3036632067242144, 0.3036632067242144, 0.5497865616077969, 0.5497865833875459, 0.5979598470291279, 0.34906342388903044, 0.34906342388903044, 0.6847247288478809, 0.6847247115200439, 0.5463149061220783, 0.6048300103802626, 0.5480475047718595, 0.5480475047718595, 0.6874450074020966, 0.45685363678359275, 0.45685363678359275, 0.6874450584798546, 0.6874450414539345, 0.6847246422087043, 0.6874450074020966, 0.6874449392984308, 0.6847246941922077, 0.43552115614845144, 0.43552115614845144, 0.6847248154870794, 0.6874450414539345, 0.37508016281494166, 0.37508016281494166, 0.37508016281494166, 0.6847247115200439, 0.6847247288478809, 0.4118276927724105, 0.4945815480389789, 0.4945815480389789, 0.5463150164279245, 0.6048300706655296, 0.5769720463502943, 0.47416499757437847, 0.6847246422087043, 0.4512050938754185, 0.6847247635035578, 0.66859946355731, 0.22286648785243665, 0.6847247288478809, 0.6874449563243459, 0.5307096739331411, 0.5307096739331411, 0.6874450925316977, 0.6847247288478809, 0.5825581823480088, 0.19418606078266962, 0.19418606078266962, 0.4355212285695779, 0.4355212285695779, 0.49422881234182714, 0.49422881234182714, 0.6847247288478809, 0.45263608075794387, 0.45263608075794387, 0.6350786861803474, 0.3175393430901737, 0.6874450414539345, 0.6847247288478809, 0.2820372234595721, 0.2820372234595721, 0.2820372234595721, 0.2820372234595721, 0.6048300706655296, 0.6874449563243459, 0.284749650106728, 0.284749650106728, 0.284749650106728, 0.45240463015554633, 0.45240463015554633, 0.5176302524114271, 0.6874450074020966, 0.5176300899172824, 0.24339414051586497, 0.24339414051586497, 0.24339414051586497, 0.24339414051586497, 0.3868851152294847, 0.3868851152294847, 0.6847246941922077, 0.6847246595365378, 0.6048299802376337, 0.4512050938754185, 0.6874449392984308], \"Term\": [\"accumul\", \"al\", \"al\", \"al\", \"antigen\", \"antigen\", \"appli\", \"approach\", \"approach\", \"assess\", \"bacteri\", \"base\", \"bcr\", \"bcr\", \"bind\", \"bind\", \"blood\", \"bulk\", \"cancer\", \"cell\", \"cell\", \"cell\", \"chain\", \"clonal\", \"clone\", \"compar\", \"comput\", \"context\", \"context\", \"control\", \"converg\", \"converg\", \"converg\", \"cost\", \"critic\", \"current\", \"defin\", \"demonstr\", \"dengu\", \"describ\", \"design\", \"determin\", \"diseas\", \"diseas\", \"draw\", \"effect\", \"enrich\", \"epitop\", \"et\", \"et\", \"et\", \"evid\", \"evid\", \"evid\", \"exampl\", \"exampl\", \"exist\", \"expand\", \"experienc\", \"expos\", \"exposur\", \"express\", \"fact\", \"far\", \"far\", \"feasibl\", \"field\", \"former\", \"forward\", \"furthermor\", \"group\", \"heavi\", \"howev\", \"howev\", \"identif\", \"identifi\", \"identifi\", \"immun\", \"immun\", \"import\", \"importantli\", \"includ\", \"individu\", \"individu\", \"infect\", \"infecti\", \"influenza\", \"inform\", \"inform\", \"later\", \"least\", \"level\", \"light\", \"limit\", \"limit\", \"low\", \"motif\", \"motif\", \"must\", \"neutral\", \"nonimmun\", \"number\", \"observ\", \"obviou\", \"often\", \"often\", \"opportun\", \"parameswaran\", \"pathogenspecif\", \"pathogenspecif\", \"pathogenspecif\", \"pattern\", \"person\", \"popul\", \"possibl\", \"possibl\", \"predict\", \"proof\", \"protect\", \"provid\", \"pure\", \"receptor\", \"repeatedli\", \"repertoir\", \"repertoir\", \"repertoiretailor\", \"repetit\", \"respons\", \"respons\", \"scheid\", \"scientif\", \"sequenc\", \"sequenc\", \"sequenc\", \"sever\", \"sever\", \"show\", \"show\", \"significantli\", \"singl\", \"singl\", \"specif\", \"specif\", \"strategi\", \"structur\", \"studi\", \"studi\", \"studi\", \"studi\", \"success\", \"summar\", \"tcr\", \"tcr\", \"tcr\", \"technolog\", \"technolog\", \"track\", \"uniqu\", \"use\", \"vaccin\", \"vaccin\", \"vaccin\", \"vaccin\", \"valid\", \"valid\", \"viral\", \"volum\", \"without\", \"yfd\", \"yield\"]}, \"R\": 30, \"lambda.step\": 0.01, \"plot.opts\": {\"xlab\": \"PC1\", \"ylab\": \"PC2\"}, \"topic.order\": [3, 2, 5, 4, 1]};\n",
              "\n",
              "function LDAvis_load_lib(url, callback){\n",
              "  var s = document.createElement('script');\n",
              "  s.src = url;\n",
              "  s.async = true;\n",
              "  s.onreadystatechange = s.onload = callback;\n",
              "  s.onerror = function(){console.warn(\"failed to load library \" + url);};\n",
              "  document.getElementsByTagName(\"head\")[0].appendChild(s);\n",
              "}\n",
              "\n",
              "if(typeof(LDAvis) !== \"undefined\"){\n",
              "   // already loaded: just create the visualization\n",
              "   !function(LDAvis){\n",
              "       new LDAvis(\"#\" + \"ldavis_el4711404022311785763521346889\", ldavis_el4711404022311785763521346889_data);\n",
              "   }(LDAvis);\n",
              "}else if(typeof define === \"function\" && define.amd){\n",
              "   // require.js is available: use it to load d3/LDAvis\n",
              "   require.config({paths: {d3: \"https://d3js.org/d3.v5\"}});\n",
              "   require([\"d3\"], function(d3){\n",
              "      window.d3 = d3;\n",
              "      LDAvis_load_lib(\"https://cdn.jsdelivr.net/gh/bmabey/pyLDAvis@3.3.1/pyLDAvis/js/ldavis.v3.0.0.js\", function(){\n",
              "        new LDAvis(\"#\" + \"ldavis_el4711404022311785763521346889\", ldavis_el4711404022311785763521346889_data);\n",
              "      });\n",
              "    });\n",
              "}else{\n",
              "    // require.js not available: dynamically load d3 & LDAvis\n",
              "    LDAvis_load_lib(\"https://d3js.org/d3.v5.js\", function(){\n",
              "         LDAvis_load_lib(\"https://cdn.jsdelivr.net/gh/bmabey/pyLDAvis@3.3.1/pyLDAvis/js/ldavis.v3.0.0.js\", function(){\n",
              "                 new LDAvis(\"#\" + \"ldavis_el4711404022311785763521346889\", ldavis_el4711404022311785763521346889_data);\n",
              "            })\n",
              "         });\n",
              "}\n",
              "</script>"
            ],
            "text/plain": [
              "<IPython.core.display.HTML object>"
            ]
          },
          "metadata": {
            "tags": []
          },
          "execution_count": 14
        }
      ]
    },
    {
      "cell_type": "code",
      "metadata": {
        "id": "aeSYkqn_HJeq"
      },
      "source": [
        ""
      ],
      "execution_count": 14,
      "outputs": []
    }
  ]
}