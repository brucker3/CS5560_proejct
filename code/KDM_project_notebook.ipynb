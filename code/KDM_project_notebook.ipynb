{
  "nbformat": 4,
  "nbformat_minor": 0,
  "metadata": {
    "colab": {
      "name": "KDM-project-notebook.ipynb",
      "provenance": [],
      "authorship_tag": "ABX9TyPvfZUS+ONJ5PvvQsOcp2Dg",
      "include_colab_link": true
    },
    "kernelspec": {
      "name": "python3",
      "display_name": "Python 3"
    },
    "language_info": {
      "name": "python"
    }
  },
  "cells": [
    {
      "cell_type": "markdown",
      "metadata": {
        "id": "view-in-github",
        "colab_type": "text"
      },
      "source": [
        "<a href=\"https://colab.research.google.com/github/brucker3/CS5560_proejct/blob/main/code/KDM_project_notebook.ipynb\" target=\"_parent\"><img src=\"https://colab.research.google.com/assets/colab-badge.svg\" alt=\"Open In Colab\"/></a>"
      ]
    },
    {
      "cell_type": "markdown",
      "metadata": {
        "id": "66hHm7wqcvRp"
      },
      "source": [
        "import Importing neede libraries for preprocessing and model budiling \n",
        "\n"
      ]
    },
    {
      "cell_type": "code",
      "metadata": {
        "id": "Vr6_8aLScjUl",
        "colab": {
          "base_uri": "https://localhost:8080/"
        },
        "outputId": "88f6d112-1860-4e86-8c19-8a1a3732a892"
      },
      "source": [
        "import nltk\n",
        "import io\n",
        "import re\n",
        "import pandas as pd\n",
        "import numpy as np\n",
        "import networkx as nx\n",
        "from sklearn.metrics.pairwise import cosine_similarity\n",
        "import pandas as pd\n",
        "from nltk.corpus import stopwords\n",
        "from nltk.cluster.util import cosine_distance\n",
        "from nltk.tokenize import sent_tokenize\n",
        "nltk.download('punkt') # one time execution\n",
        "from nltk.corpus import stopwords\n",
        "nltk.download('stopwords')\n",
        "stop_words = stopwords.words('english')\n",
        "\n",
        "!wget http://nlp.stanford.edu/data/glove.6B.zip\n",
        "!unzip glove*.zip"
      ],
      "execution_count": 2,
      "outputs": [
        {
          "output_type": "stream",
          "text": [
            "[nltk_data] Downloading package punkt to /root/nltk_data...\n",
            "[nltk_data]   Package punkt is already up-to-date!\n",
            "[nltk_data] Downloading package stopwords to /root/nltk_data...\n",
            "[nltk_data]   Package stopwords is already up-to-date!\n",
            "--2021-04-27 22:01:48--  http://nlp.stanford.edu/data/glove.6B.zip\n",
            "Resolving nlp.stanford.edu (nlp.stanford.edu)... 171.64.67.140\n",
            "Connecting to nlp.stanford.edu (nlp.stanford.edu)|171.64.67.140|:80... connected.\n",
            "HTTP request sent, awaiting response... 302 Found\n",
            "Location: https://nlp.stanford.edu/data/glove.6B.zip [following]\n",
            "--2021-04-27 22:01:48--  https://nlp.stanford.edu/data/glove.6B.zip\n",
            "Connecting to nlp.stanford.edu (nlp.stanford.edu)|171.64.67.140|:443... connected.\n",
            "HTTP request sent, awaiting response... 301 Moved Permanently\n",
            "Location: http://downloads.cs.stanford.edu/nlp/data/glove.6B.zip [following]\n",
            "--2021-04-27 22:01:49--  http://downloads.cs.stanford.edu/nlp/data/glove.6B.zip\n",
            "Resolving downloads.cs.stanford.edu (downloads.cs.stanford.edu)... 171.64.64.22\n",
            "Connecting to downloads.cs.stanford.edu (downloads.cs.stanford.edu)|171.64.64.22|:80... connected.\n",
            "HTTP request sent, awaiting response... 200 OK\n",
            "Length: 862182613 (822M) [application/zip]\n",
            "Saving to: ‘glove.6B.zip.1’\n",
            "\n",
            "glove.6B.zip.1      100%[===================>] 822.24M  5.23MB/s    in 2m 40s  \n",
            "\n",
            "2021-04-27 22:04:29 (5.13 MB/s) - ‘glove.6B.zip.1’ saved [862182613/862182613]\n",
            "\n",
            "Archive:  glove.6B.zip\n",
            "replace glove.6B.50d.txt? [y]es, [n]o, [A]ll, [N]one, [r]ename: n\n",
            "replace glove.6B.100d.txt? [y]es, [n]o, [A]ll, [N]one, [r]ename: no\n",
            "replace glove.6B.200d.txt? [y]es, [n]o, [A]ll, [N]one, [r]ename: no\n",
            "replace glove.6B.300d.txt? [y]es, [n]o, [A]ll, [N]one, [r]ename: no\n"
          ],
          "name": "stdout"
        }
      ]
    },
    {
      "cell_type": "markdown",
      "metadata": {
        "id": "vUg8efYkTeGG"
      },
      "source": [
        "read in dataset and look at it "
      ]
    },
    {
      "cell_type": "code",
      "metadata": {
        "id": "xGXlu-HCc3kU",
        "colab": {
          "base_uri": "https://localhost:8080/",
          "height": 321
        },
        "outputId": "c1debc91-6ee3-4b8c-8a74-878b9bda97a9"
      },
      "source": [
        "\n",
        "df = pd.read_csv(\"/content/ChristopherNolan.txt\")\n",
        "print(type(df)) # this type is pandas.core.frame.DataFrame\n",
        "df.head()"
      ],
      "execution_count": 3,
      "outputs": [
        {
          "output_type": "stream",
          "text": [
            "<class 'pandas.core.frame.DataFrame'>\n"
          ],
          "name": "stdout"
        },
        {
          "output_type": "execute_result",
          "data": {
            "text/html": [
              "<div>\n",
              "<style scoped>\n",
              "    .dataframe tbody tr th:only-of-type {\n",
              "        vertical-align: middle;\n",
              "    }\n",
              "\n",
              "    .dataframe tbody tr th {\n",
              "        vertical-align: top;\n",
              "    }\n",
              "\n",
              "    .dataframe thead th {\n",
              "        text-align: right;\n",
              "    }\n",
              "</style>\n",
              "<table border=\"1\" class=\"dataframe\">\n",
              "  <thead>\n",
              "    <tr style=\"text-align: right;\">\n",
              "      <th></th>\n",
              "      <th>LOS ANGELES—Visibly exhausted from his hours-long binge</th>\n",
              "      <th>Christopher Nolan was reportedly still no closer to understanding the end of Tenet Tuesday after watching dozens of YouTube explainer videos. “Wait</th>\n",
              "      <th>so what the hell was that turnstile thingy?” said Nolan</th>\n",
              "      <th>pausing a 35-minute long video and rubbing his eyes as he compared the elaborate diagram on screen to the copy he had scrawled down on a napkin in front of him. “It’s like some kind of time machine? That lets the nameless man run backward? And Robert Pattinson is a little boy? Either I’m stupid</th>\n",
              "      <th>or this plot makes no sense. I’ve watched</th>\n",
              "      <th>like</th>\n",
              "      <th>nine videos on the temporal pincer alone</th>\n",
              "      <th>and I still can’t make heads or tails of it. Jesus Christ</th>\n",
              "      <th>this is so convoluted. It’s almost worse than Inception.” At press time</th>\n",
              "      <th>Nolan admitted that The Prestige was the last one of his movies that he had really understood.</th>\n",
              "    </tr>\n",
              "  </thead>\n",
              "  <tbody>\n",
              "  </tbody>\n",
              "</table>\n",
              "</div>"
            ],
            "text/plain": [
              "Empty DataFrame\n",
              "Columns: [LOS ANGELES—Visibly exhausted from his hours-long binge,  Christopher Nolan was reportedly still no closer to understanding the end of Tenet Tuesday after watching dozens of YouTube explainer videos. “Wait,  so what the hell was that turnstile thingy?” said Nolan,  pausing a 35-minute long video and rubbing his eyes as he compared the elaborate diagram on screen to the copy he had scrawled down on a napkin in front of him. “It’s like some kind of time machine? That lets the nameless man run backward? And Robert Pattinson is a little boy? Either I’m stupid,  or this plot makes no sense. I’ve watched,  like,  nine videos on the temporal pincer alone,  and I still can’t make heads or tails of it. Jesus Christ,  this is so convoluted. It’s almost worse than Inception.” At press time,  Nolan admitted that The Prestige was the last one of his movies that he had really understood.]\n",
              "Index: []"
            ]
          },
          "metadata": {
            "tags": []
          },
          "execution_count": 3
        }
      ]
    },
    {
      "cell_type": "code",
      "metadata": {
        "id": "a_u01tb6jQ1H",
        "colab": {
          "base_uri": "https://localhost:8080/"
        },
        "outputId": "d8b0e58e-f04d-4739-cf27-e3c2d0149697"
      },
      "source": [
        "# sentence tokinization \n",
        "sentences = []\n",
        "for s in df:\n",
        "  sentences.append(s)\n",
        "  \n",
        "#checking tokinization output \n",
        "print(sentences[:9])\n",
        "# old code for loading the data set \n",
        "#df.text = df['text']\n",
        "#df2 =  df.text[:100] # this was used to greatly reduce the size of the data set becuase it kept crashing coblab\n"
      ],
      "execution_count": 5,
      "outputs": [
        {
          "output_type": "stream",
          "text": [
            "['LOS ANGELES—Visibly exhausted from his hours-long binge', ' Christopher Nolan was reportedly still no closer to understanding the end of Tenet Tuesday after watching dozens of YouTube explainer videos. “Wait', ' so what the hell was that turnstile thingy?” said Nolan', ' pausing a 35-minute long video and rubbing his eyes as he compared the elaborate diagram on screen to the copy he had scrawled down on a napkin in front of him. “It’s like some kind of time machine? That lets the nameless man run backward? And Robert Pattinson is a little boy? Either I’m stupid', ' or this plot makes no sense. I’ve watched', ' like', ' nine videos on the temporal pincer alone', ' and I still can’t make heads or tails of it. Jesus Christ', ' this is so convoluted. It’s almost worse than Inception.” At press time']\n"
          ],
          "name": "stdout"
        }
      ]
    },
    {
      "cell_type": "code",
      "metadata": {
        "id": "wjKZ60PoxGbT"
      },
      "source": [
        "# remove punctuations, numbers and special characters\n",
        "clean_sentences = pd.Series(sentences).str.replace(\"[^a-zA-Z]\", \" \")\n",
        "clean_sentences = [s.lower() for s in clean_sentences]\n",
        "\n",
        "#remove stopwords from the sentences\n",
        "def remove_stopwords(sen):\n",
        "    sen_new = \" \".join([i for i in sen if i not in stop_words])\n",
        "    return sen_new\n",
        "\n",
        "# remove stopwords from the sentences\n",
        "clean_sentences = [remove_stopwords(r.split()) for r in clean_sentences]"
      ],
      "execution_count": 6,
      "outputs": []
    },
    {
      "cell_type": "code",
      "metadata": {
        "id": "DtSB8YCe3q5X"
      },
      "source": [
        "# Extract word vectors\n",
        "word_embeddings = {}\n",
        "f = open('glove.6B.100d.txt', encoding='utf-8')\n",
        "for line in f:\n",
        "    values = line.split()\n",
        "    word = values[0]\n",
        "    coefs = np.asarray(values[1:], dtype='float32')\n",
        "    word_embeddings[word] = coefs\n",
        "f.close()"
      ],
      "execution_count": 7,
      "outputs": []
    },
    {
      "cell_type": "code",
      "metadata": {
        "id": "uZpXzTEy5EaG"
      },
      "source": [
        "sentence_vectors = []\n",
        "for i in clean_sentences:\n",
        "  if len(i) != 0:\n",
        "    v = sum([word_embeddings.get(w, np.zeros((100,))) for w in i.split()])/(len(i.split())+0.001)\n",
        "  else:\n",
        "    v = np.zeros((100,))\n",
        "  sentence_vectors.append(v)"
      ],
      "execution_count": 8,
      "outputs": []
    },
    {
      "cell_type": "code",
      "metadata": {
        "id": "oDxQ6pNp5U8e"
      },
      "source": [
        "# similarity matrix\n",
        "sim_mat = np.zeros([len(sentences), len(sentences)])\n",
        "\n",
        "for i in range(len(sentences)):\n",
        "  for j in range(len(sentences)):\n",
        "    if i != j: #ignore if both are same sentences\n",
        "        # trying different kinds of cosin simularity \n",
        "        # sim_mat[i][j] = sentence_similarity(sentences[i], sentences[ij], stop_words)\n",
        "        sim_mat[i][j] = cosine_similarity(sentence_vectors[i].reshape(1,100), sentence_vectors[j].reshape(1,100))[0,0]"
      ],
      "execution_count": 9,
      "outputs": []
    },
    {
      "cell_type": "code",
      "metadata": {
        "colab": {
          "base_uri": "https://localhost:8080/"
        },
        "id": "r4s14H-V5jdm",
        "outputId": "66892f80-42f0-4691-ff49-d0b55ca130fb"
      },
      "source": [
        "nx_graph = nx.from_numpy_array(sim_mat)\n",
        "scores = nx.pagerank(nx_graph)\n",
        "ranked_sentences = sorted(((scores[i],s) for i,s in enumerate(sentences)), reverse=True)\n",
        "\n",
        "#  evertyihng is compiling but the summary look the same as the original text  \n",
        "print(\"the total number of sentences is\", len(sentences))\n",
        "print(\"quick ouput of first 5 sentence to compare to first 10 from the ranking\")\n",
        "print(sentences[0])\n",
        "print(sentences[1])\n",
        "print(sentences[2])\n",
        "print(sentences[3])\n",
        "print(sentences[4])\n",
        "# Extract top 10 sentences as the summary\n",
        "for i in range(10):\n",
        "  print(\"--------------\")\n",
        "  print(\"ranked senctence number\", i)\n",
        "  print(ranked_sentences[i][1])\n",
        "  "
      ],
      "execution_count": 11,
      "outputs": [
        {
          "output_type": "stream",
          "text": [
            "the total number of sentences is 10\n",
            "quick ouput of first 5 sentence to compare to first 10 from the ranking\n",
            "LOS ANGELES—Visibly exhausted from his hours-long binge\n",
            " Christopher Nolan was reportedly still no closer to understanding the end of Tenet Tuesday after watching dozens of YouTube explainer videos. “Wait\n",
            " so what the hell was that turnstile thingy?” said Nolan\n",
            " pausing a 35-minute long video and rubbing his eyes as he compared the elaborate diagram on screen to the copy he had scrawled down on a napkin in front of him. “It’s like some kind of time machine? That lets the nameless man run backward? And Robert Pattinson is a little boy? Either I’m stupid\n",
            " or this plot makes no sense. I’ve watched\n",
            "--------------\n",
            "ranked senctence number 0\n",
            " pausing a 35-minute long video and rubbing his eyes as he compared the elaborate diagram on screen to the copy he had scrawled down on a napkin in front of him. “It’s like some kind of time machine? That lets the nameless man run backward? And Robert Pattinson is a little boy? Either I’m stupid\n",
            "--------------\n",
            "ranked senctence number 1\n",
            " Nolan admitted that The Prestige was the last one of his movies that he had really understood.\n",
            "--------------\n",
            "ranked senctence number 2\n",
            " Christopher Nolan was reportedly still no closer to understanding the end of Tenet Tuesday after watching dozens of YouTube explainer videos. “Wait\n",
            "--------------\n",
            "ranked senctence number 3\n",
            " or this plot makes no sense. I’ve watched\n",
            "--------------\n",
            "ranked senctence number 4\n",
            " this is so convoluted. It’s almost worse than Inception.” At press time\n",
            "--------------\n",
            "ranked senctence number 5\n",
            " like\n",
            "--------------\n",
            "ranked senctence number 6\n",
            " and I still can’t make heads or tails of it. Jesus Christ\n",
            "--------------\n",
            "ranked senctence number 7\n",
            "LOS ANGELES—Visibly exhausted from his hours-long binge\n",
            "--------------\n",
            "ranked senctence number 8\n",
            " nine videos on the temporal pincer alone\n",
            "--------------\n",
            "ranked senctence number 9\n",
            " so what the hell was that turnstile thingy?” said Nolan\n"
          ],
          "name": "stdout"
        }
      ]
    }
  ]
}