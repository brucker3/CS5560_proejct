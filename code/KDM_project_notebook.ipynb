{
  "nbformat": 4,
  "nbformat_minor": 0,
  "metadata": {
    "colab": {
      "name": "KDM-project-notebook.ipynb",
      "provenance": [],
      "authorship_tag": "ABX9TyOH3ZSnO+D5dZpUFTbjJU61",
      "include_colab_link": true
    },
    "kernelspec": {
      "name": "python3",
      "display_name": "Python 3"
    },
    "language_info": {
      "name": "python"
    }
  },
  "cells": [
    {
      "cell_type": "markdown",
      "metadata": {
        "id": "view-in-github",
        "colab_type": "text"
      },
      "source": [
        "<a href=\"https://colab.research.google.com/github/brucker3/CS5560_proejct/blob/main/code/KDM_project_notebook.ipynb\" target=\"_parent\"><img src=\"https://colab.research.google.com/assets/colab-badge.svg\" alt=\"Open In Colab\"/></a>"
      ]
    },
    {
      "cell_type": "markdown",
      "metadata": {
        "id": "66hHm7wqcvRp"
      },
      "source": [
        "Importing neede libraries for preprocessing and model budiling \n",
        "\n"
      ]
    },
    {
      "cell_type": "code",
      "metadata": {
        "id": "Vr6_8aLScjUl",
        "outputId": "9f3d6d54-aedc-410f-ea43-ac0102b90804",
        "colab": {
          "base_uri": "https://localhost:8080/"
        }
      },
      "source": [
        "from nltk.corpus import stopwords\n",
        "from nltk.cluster.util import cosine_distance\n",
        "from nltk.tokenize import sent_tokenize\n",
        "import numpy as np\n",
        "import networkx as nx\n",
        "from nltk.corpus import stopwords\n",
        "nltk.download('stopwords')\n",
        "stop_words = stopwords.words('english')\n",
        "\n",
        "import pandas as pd\n",
        "import io\n",
        "import nltk\n",
        "nltk.download('punkt') # one time execution\n",
        "import re"
      ],
      "execution_count": 38,
      "outputs": [
        {
          "output_type": "stream",
          "text": [
            "[nltk_data] Downloading package stopwords to /root/nltk_data...\n",
            "[nltk_data]   Package stopwords is already up-to-date!\n",
            "[nltk_data] Downloading package punkt to /root/nltk_data...\n",
            "[nltk_data]   Package punkt is already up-to-date!\n"
          ],
          "name": "stdout"
        }
      ]
    },
    {
      "cell_type": "code",
      "metadata": {
        "id": "xGXlu-HCc3kU",
        "outputId": "38752b84-78d6-4fbc-eda8-aae26a469580",
        "colab": {
          "base_uri": "https://localhost:8080/"
        }
      },
      "source": [
        "\n",
        "df = pd.read_csv(\"/content/news_summary_more.csv\")\n",
        "df.head()\n",
        "#print(df['text'][1])\n",
        "\n",
        "#from google.colab import files\n",
        "#uploaded = files.upload()\n",
        "\n",
        "\n",
        "#df = pd.read_csv(\"../content/news_summmary.csv\")\n",
        "#df = pd.read_csv(io.BytesIO(uploaded[\"/content/news_summary.csv\"]))\n",
        "#text = \"/content/news_summary.csv\"\n",
        "\n",
        "#io.BytesIO(uploaded[\"/content/news_summary.csv\"]))\n",
        "\n",
        "# opening and converting read in files to use able form \n",
        "#txt1 = open(text, \"r\")\n",
        "#print(txt1)\n",
        "#text1_sring = txt1.read()\n",
        "#print(\"_-------------\")\n",
        "#print(text1_string)"
      ],
      "execution_count": 27,
      "outputs": [
        {
          "output_type": "stream",
          "text": [
            "Kunal Shah's credit card bill payment platform, CRED, gave users a chance to win free food from Swiggy for one year. Pranav Kaushik, a Delhi techie, bagged this reward after spending 2000 CRED coins. Users get one CRED coin per rupee of bill paid, which can be used to avail rewards from brands like Ixigo, BookMyShow, UberEats, Cult.Fit and more.\n"
          ],
          "name": "stdout"
        }
      ]
    },
    {
      "cell_type": "code",
      "metadata": {
        "id": "a_u01tb6jQ1H",
        "outputId": "6ed7348b-c18a-46aa-99de-e42d68adca1b",
        "colab": {
          "base_uri": "https://localhost:8080/"
        }
      },
      "source": [
        "# sentence tokinization \n",
        "sentences = []\n",
        "for s in df['text']:\n",
        "  sentences.append(sent_tokenize(s))\n",
        "\n",
        "#checking tokinization output \n",
        "print(sentences[:9])"
      ],
      "execution_count": 32,
      "outputs": [
        {
          "output_type": "stream",
          "text": [
            "[[\"Saurav Kant, an alumnus of upGrad and IIIT-B's PG Program in Machine learning and Artificial Intelligence, was a Sr Systems Engineer at Infosys with almost 5 years of work experience.\", \"The program and upGrad's 360-degree career support helped him transition to a Data Scientist at Tech Mahindra with 90% salary hike.\", \"upGrad's Online Power Learning has powered 3 lakh+ careers.\"], [\"Kunal Shah's credit card bill payment platform, CRED, gave users a chance to win free food from Swiggy for one year.\", 'Pranav Kaushik, a Delhi techie, bagged this reward after spending 2000 CRED coins.', 'Users get one CRED coin per rupee of bill paid, which can be used to avail rewards from brands like Ixigo, BookMyShow, UberEats, Cult.Fit and more.'], ['New Zealand defeated India by 8 wickets in the fourth ODI at Hamilton on Thursday to win their first match of the five-match ODI series.', \"India lost an international match under Rohit Sharma's captaincy after 12 consecutive victories dating back to March 2018.\", 'The match witnessed India getting all out for 92, their seventh lowest total in ODI cricket history.'], ['With Aegon Life iTerm Insurance plan, customers can enjoy tax benefits on your premiums paid and save up to â\\x82¹46,800^ on taxes.', 'The plan provides life cover up to the age of 100 years.', 'Also, customers have options to insure against Critical Illnesses, Disability and Accidental Death Benefit Rider with a life cover up to the age of 80 years.'], ['Speaking about the sexual harassment allegations against Rajkumar Hirani, Sonam Kapoor said, \"I\\'ve known Hirani for many years...What if it\\'s not true, the [#MeToo] movement will get derailed.\"', '\"In the #MeToo movement, I always believe a woman.', 'But in this case, we need to reserve our judgment,\" she added.', \"Hirani has been accused by an assistant who worked in 'Sanju'.\"], ['Pakistani singer Rahat Fateh Ali Khan has denied receiving any notice from the Enforcement Directorate over allegedly smuggling foreign currency out of India.', '\"It would have been better if the authorities would have served the notice first if any and then publicised this,\" reads a press release issued on behalf of Rahat.', 'The statement further called the allegation \"bizarre\".'], ['India recorded their lowest ODI total in New Zealand after getting all out for 92 runs in 30.5 overs in the fourth ODI at Hamilton on Thursday.', \"Seven of India's batsmen were dismissed for single-digit scores, while their number ten batsman Yuzvendra Chahal top-scored with 18*(37).\", \"India's previous lowest ODI total in New Zealand was 108.\"], ['Weeks after ex-CBI Director Alok Verma told the Department of Personnel and Training to consider him retired, the Home Ministry asked him to join work on the last day of his fixed tenure as Director on Thursday.', 'The ministry directed him to immediately join as DG, Fire Services, the post he was transferred to after his removal as CBI chief.'], ['Andhra Pradesh CM N Chandrababu Naidu has said, \"When I met then US President Bill Clinton, I addressed him as Mr Clinton, not as \\'sir\\'.', '(PM Narendra) Modi is my junior in politics...I addressed him as sir 10 times.\"', '\"I did this...to satisfy his ego in the hope that he will do justice to the state,\" he added.']]\n"
          ],
          "name": "stdout"
        }
      ]
    },
    {
      "cell_type": "code",
      "metadata": {
        "id": "lTU5aBuPl7Ku",
        "outputId": "18024a79-228c-46d3-dc2f-09e0756d8f85",
        "colab": {
          "base_uri": "https://localhost:8080/"
        }
      },
      "source": [
        "# remove punctuations, numbers and special characters\n",
        "clean_sentences = pd.Series(sentences).str.replace(\"[^a-zA-Z]\", \" \")\n",
        "print(sentences)\n",
        "print(clean_sentences)\n",
        "\n",
        "# make alphabets lowercase\n",
        "#clean_sentences = [s.lower() for s in clean_sentences]\n",
        "\n",
        "#simple fuction to remove stop words \n",
        "def word_remover(sentenc):\n",
        "    sentenc_new = \" \".join([i for i in sentenc if i not in stop_words])\n",
        "    return sentenc_new\n",
        "\n",
        "\n",
        "#clean_sentences = [word_remover(r.split()) for r in clean_sentences]"
      ],
      "execution_count": 44,
      "outputs": [
        {
          "output_type": "stream",
          "text": [
            "IOPub data rate exceeded.\n",
            "The notebook server will temporarily stop sending output\n",
            "to the client in order to avoid crashing it.\n",
            "To change this limit, set the config variable\n",
            "`--NotebookApp.iopub_data_rate_limit`.\n",
            "\n",
            "Current values:\n",
            "NotebookApp.iopub_data_rate_limit=1000000.0 (bytes/sec)\n",
            "NotebookApp.rate_limit_window=3.0 (secs)\n",
            "\n"
          ],
          "name": "stderr"
        }
      ]
    }
  ]
}