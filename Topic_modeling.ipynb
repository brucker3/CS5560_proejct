{
  "nbformat": 4,
  "nbformat_minor": 0,
  "metadata": {
    "colab": {
      "name": "Topic modeling.ipynb",
      "provenance": [],
      "include_colab_link": true
    },
    "kernelspec": {
      "display_name": "Python 3",
      "name": "python3"
    }
  },
  "cells": [
    {
      "cell_type": "markdown",
      "metadata": {
        "id": "view-in-github",
        "colab_type": "text"
      },
      "source": [
        "<a href=\"https://colab.research.google.com/github/brucker3/CS5560_proejct/blob/main/Topic_modeling.ipynb\" target=\"_parent\"><img src=\"https://colab.research.google.com/assets/colab-badge.svg\" alt=\"Open In Colab\"/></a>"
      ]
    },
    {
      "cell_type": "markdown",
      "metadata": {
        "id": "0YzLqEqHucFQ"
      },
      "source": [
        "# Topic Modelling"
      ]
    },
    {
      "cell_type": "code",
      "metadata": {
        "colab": {
          "base_uri": "https://localhost:8080/"
        },
        "id": "wSYPerL2Tk84",
        "outputId": "9e2f913d-d05f-4375-be35-93e7ea76e41a"
      },
      "source": [
        "#installing pyLDAvis and gensim\n",
        "!pip install -U pyLDAvis\n",
        "!pip install -U gensim"
      ],
      "execution_count": 1,
      "outputs": [
        {
          "output_type": "stream",
          "text": [
            "Requirement already up-to-date: pyLDAvis in /usr/local/lib/python3.7/dist-packages (3.3.1)\n",
            "Requirement already satisfied, skipping upgrade: numpy>=1.20.0 in /usr/local/lib/python3.7/dist-packages (from pyLDAvis) (1.20.2)\n",
            "Requirement already satisfied, skipping upgrade: scipy in /usr/local/lib/python3.7/dist-packages (from pyLDAvis) (1.4.1)\n",
            "Requirement already satisfied, skipping upgrade: sklearn in /usr/local/lib/python3.7/dist-packages (from pyLDAvis) (0.0)\n",
            "Requirement already satisfied, skipping upgrade: numexpr in /usr/local/lib/python3.7/dist-packages (from pyLDAvis) (2.7.3)\n",
            "Requirement already satisfied, skipping upgrade: gensim in /usr/local/lib/python3.7/dist-packages (from pyLDAvis) (4.0.1)\n",
            "Requirement already satisfied, skipping upgrade: pandas>=1.2.0 in /usr/local/lib/python3.7/dist-packages (from pyLDAvis) (1.2.4)\n",
            "Requirement already satisfied, skipping upgrade: joblib in /usr/local/lib/python3.7/dist-packages (from pyLDAvis) (1.0.1)\n",
            "Requirement already satisfied, skipping upgrade: future in /usr/local/lib/python3.7/dist-packages (from pyLDAvis) (0.16.0)\n",
            "Requirement already satisfied, skipping upgrade: scikit-learn in /usr/local/lib/python3.7/dist-packages (from pyLDAvis) (0.22.2.post1)\n",
            "Requirement already satisfied, skipping upgrade: jinja2 in /usr/local/lib/python3.7/dist-packages (from pyLDAvis) (2.11.3)\n",
            "Requirement already satisfied, skipping upgrade: setuptools in /usr/local/lib/python3.7/dist-packages (from pyLDAvis) (56.0.0)\n",
            "Requirement already satisfied, skipping upgrade: funcy in /usr/local/lib/python3.7/dist-packages (from pyLDAvis) (1.15)\n",
            "Requirement already satisfied, skipping upgrade: smart-open>=1.8.1 in /usr/local/lib/python3.7/dist-packages (from gensim->pyLDAvis) (5.0.0)\n",
            "Requirement already satisfied, skipping upgrade: python-dateutil>=2.7.3 in /usr/local/lib/python3.7/dist-packages (from pandas>=1.2.0->pyLDAvis) (2.8.1)\n",
            "Requirement already satisfied, skipping upgrade: pytz>=2017.3 in /usr/local/lib/python3.7/dist-packages (from pandas>=1.2.0->pyLDAvis) (2018.9)\n",
            "Requirement already satisfied, skipping upgrade: MarkupSafe>=0.23 in /usr/local/lib/python3.7/dist-packages (from jinja2->pyLDAvis) (1.1.1)\n",
            "Requirement already satisfied, skipping upgrade: six>=1.5 in /usr/local/lib/python3.7/dist-packages (from python-dateutil>=2.7.3->pandas>=1.2.0->pyLDAvis) (1.15.0)\n",
            "Requirement already up-to-date: gensim in /usr/local/lib/python3.7/dist-packages (4.0.1)\n",
            "Requirement already satisfied, skipping upgrade: scipy>=0.18.1 in /usr/local/lib/python3.7/dist-packages (from gensim) (1.4.1)\n",
            "Requirement already satisfied, skipping upgrade: smart-open>=1.8.1 in /usr/local/lib/python3.7/dist-packages (from gensim) (5.0.0)\n",
            "Requirement already satisfied, skipping upgrade: numpy>=1.11.3 in /usr/local/lib/python3.7/dist-packages (from gensim) (1.20.2)\n"
          ],
          "name": "stdout"
        }
      ]
    },
    {
      "cell_type": "code",
      "metadata": {
        "colab": {
          "base_uri": "https://localhost:8080/"
        },
        "id": "nTl1a2SXTvtU",
        "outputId": "29ecdfa8-1ef1-4525-87b2-76ad3c4c5b83"
      },
      "source": [
        "#importing Libraries needed for completion of topic modeling\n",
        "import re\n",
        "import string\n",
        "import nltk\n",
        "nltk.download('stopwords')\n",
        "nltk.download('punkt')\n",
        "from gensim import corpora, models, similarities\n",
        "from nltk.corpus import stopwords\n",
        "from nltk.stem.porter import PorterStemmer\n",
        "import pandas as pd\n",
        "import numpy as np\n",
        "import time\n",
        "import gensim\n",
        "import pyLDAvis\n",
        "import pyLDAvis.gensim_models as gensimvis\n",
        "from gensim.models import CoherenceModel"
      ],
      "execution_count": 2,
      "outputs": [
        {
          "output_type": "stream",
          "text": [
            "[nltk_data] Downloading package stopwords to /root/nltk_data...\n",
            "[nltk_data]   Package stopwords is already up-to-date!\n",
            "[nltk_data] Downloading package punkt to /root/nltk_data...\n",
            "[nltk_data]   Package punkt is already up-to-date!\n"
          ],
          "name": "stdout"
        },
        {
          "output_type": "stream",
          "text": [
            "/usr/local/lib/python3.7/dist-packages/gensim/similarities/__init__.py:15: UserWarning: The gensim.similarities.levenshtein submodule is disabled, because the optional Levenshtein package <https://pypi.org/project/python-Levenshtein/> is unavailable. Install Levenhstein (e.g. `pip install python-Levenshtein`) to suppress this warning.\n",
            "  warnings.warn(msg)\n",
            "/usr/local/lib/python3.7/dist-packages/past/types/oldstr.py:5: DeprecationWarning: Using or importing the ABCs from 'collections' instead of from 'collections.abc' is deprecated since Python 3.3,and in 3.9 it will stop working\n",
            "  from collections import Iterable\n",
            "/usr/local/lib/python3.7/dist-packages/past/builtins/misc.py:4: DeprecationWarning: Using or importing the ABCs from 'collections' instead of from 'collections.abc' is deprecated since Python 3.3,and in 3.9 it will stop working\n",
            "  from collections import Mapping\n",
            "/usr/local/lib/python3.7/dist-packages/sklearn/decomposition/_lda.py:29: DeprecationWarning: `np.float` is a deprecated alias for the builtin `float`. To silence this warning, use `float` by itself. Doing this will not modify any behavior and is safe. If you specifically wanted the numpy scalar type, use `np.float64` here.\n",
            "Deprecated in NumPy 1.20; for more details and guidance: https://numpy.org/devdocs/release/1.20.0-notes.html#deprecations\n",
            "  EPS = np.finfo(np.float).eps\n"
          ],
          "name": "stderr"
        }
      ]
    },
    {
      "cell_type": "code",
      "metadata": {
        "colab": {
          "base_uri": "https://localhost:8080/"
        },
        "id": "Xx-6g4rtTyVZ",
        "outputId": "a4f074cb-ff62-4376-b114-53aae0be90fd"
      },
      "source": [
        "#read the text file \n",
        "# with open('/content/SpanishArticle.txt', 'r') as f:\n",
        "#     text = f.readlines()\n",
        "with open('./SpanishArticle.txt', 'r') as f:\n",
        "    meta = f.readlines()\n",
        "\n",
        "text = meta[0].split('.')\n",
        "file_df = pd.DataFrame(text, columns=['text'])\n",
        "# reviews_df=pd.read_csv('/content/SpanishArticle.txt',error_bad_lines=False)\n",
        "print(file_df.head(6))\n",
        "print(\"----------\")\n",
        "print(file_df.dtypes)\n",
        "print(\"----------\")\n",
        "print(file_df.shape)\n"
      ],
      "execution_count": 3,
      "outputs": [
        {
          "output_type": "stream",
          "text": [
            "                                                text\n",
            "0  Londres (CNN)– El organismo de control del gas...\n",
            "1   La Comisión Electoral del Reino Unido dijo en...\n",
            "2   Por lo tanto, continuaremos este trabajo como...\n",
            "3   Johnson ha sido presionado para que explique ...\n",
            "4   Los primeros ministros reciben £ 30,000 (US$ ...\n",
            "5   El líder del Reino Unido se enfrentó a un may...\n",
            "----------\n",
            "text    object\n",
            "dtype: object\n",
            "----------\n",
            "(32, 1)\n"
          ],
          "name": "stdout"
        }
      ]
    },
    {
      "cell_type": "markdown",
      "metadata": {
        "id": "1FJjut4Gx2xm"
      },
      "source": [
        "**Text Cleaning and Preprocessing**"
      ]
    },
    {
      "cell_type": "code",
      "metadata": {
        "id": "M_jKRFb4T2Qg"
      },
      "source": [
        "def initial_clean(text):\n",
        "    \"\"\"\n",
        "    Function to clean text-remove punctuations, lowercase text etc.\n",
        "    \"\"\"\n",
        "    text = re.sub(\"[^a-zA-Z ]\", \"\", text)\n",
        "    text = text.lower()  # lower case text\n",
        "    text = nltk.word_tokenize(text)\n",
        "    return (text)"
      ],
      "execution_count": 4,
      "outputs": []
    },
    {
      "cell_type": "markdown",
      "metadata": {
        "id": "acVoRLLcymDz"
      },
      "source": [
        "**Identifying and removing stopwords**"
      ]
    },
    {
      "cell_type": "code",
      "metadata": {
        "id": "F-vIQDzFT4Se"
      },
      "source": [
        "stop_words = stopwords.words('english')\n",
        "# adding some more stop words that doesn't convey much meaning in terms of reviews feel free to extend or reduce this list\n",
        "stop_words.extend(['news', 'say','use', 'not', 'would', 'say', 'could', '_', 'be', 'know', \n",
        "                   'good', 'go', 'get', 'do','took','time','year',\n",
        "                 'done', 'try', 'many', 'some','nice', 'thank', 'think', 'see', 'rather',\n",
        "                  'easy', 'easily', 'lot', 'lack', 'make', 'want', 'seem', 'run', 'need', \n",
        "                   'even', 'right', 'line','even', 'also', 'may', 'take', 'come',\n",
        "                   'new','said', 'like','people'])"
      ],
      "execution_count": 5,
      "outputs": []
    },
    {
      "cell_type": "code",
      "metadata": {
        "id": "KPXyKkSST5HX"
      },
      "source": [
        "def remove_stop_words(text):\n",
        "     return [word for word in text if word not in stop_words]"
      ],
      "execution_count": 6,
      "outputs": []
    },
    {
      "cell_type": "markdown",
      "metadata": {
        "id": "NwJrdDtkzVBR"
      },
      "source": [
        "**Stemming**"
      ]
    },
    {
      "cell_type": "code",
      "metadata": {
        "id": "zzuMRDFZT7j2"
      },
      "source": [
        "stemmer = PorterStemmer()\n",
        "def stem_words(text):\n",
        "    \"\"\"\n",
        "    Function to stem words\n",
        "    \"\"\"\n",
        "    try:\n",
        "        text = [stemmer.stem(word) for word in text]\n",
        "        text = [word for word in text if len(word) > 1] # no single letter words\n",
        "    except IndexError:\n",
        "        pass\n",
        "\n",
        "    return text"
      ],
      "execution_count": 7,
      "outputs": []
    },
    {
      "cell_type": "markdown",
      "metadata": {
        "id": "bBQ_RJAbzgEW"
      },
      "source": [
        "**Applying all functions into one**"
      ]
    },
    {
      "cell_type": "code",
      "metadata": {
        "id": "NOxxvIhWT_Qw",
        "colab": {
          "base_uri": "https://localhost:8080/"
        },
        "outputId": "128d4062-72bc-47f1-f37b-55e161578ff4"
      },
      "source": [
        "def apply_all(text):\n",
        "    \"\"\"\n",
        "    \n",
        "    \"\"\"\n",
        "    return stem_words(remove_stop_words(initial_clean(text)))\n",
        "\n",
        "print(apply_all)"
      ],
      "execution_count": 8,
      "outputs": [
        {
          "output_type": "stream",
          "text": [
            "<function apply_all at 0x7fb6f42dc5f0>\n"
          ],
          "name": "stdout"
        }
      ]
    },
    {
      "cell_type": "markdown",
      "metadata": {
        "id": "0QoQ3UDlzmo8"
      },
      "source": [
        "**Tokenization**"
      ]
    },
    {
      "cell_type": "code",
      "metadata": {
        "colab": {
          "base_uri": "https://localhost:8080/"
        },
        "id": "OlNodPZkUA0H",
        "outputId": "8f68e30f-8c10-43e4-9daf-5b853d48bb2b"
      },
      "source": [
        "t1 = time.time()\n",
        "file_df['tokenized_text'] = file_df['text'].apply(apply_all)\n",
        "t2 = time.time()\n",
        "print(\"Time to clean and tokenize\", len(file_df), \"SpanishArticle:\", (t2-t1)/60, \"min\") #Time to clean and tokenize 3209 reviews: 0.21254388093948365 min\n",
        "\n",
        "print('\\n')\n",
        "print(\"text with their respective tokenize version:\" )\n",
        "print(file_df.head(5))"
      ],
      "execution_count": 9,
      "outputs": [
        {
          "output_type": "stream",
          "text": [
            "Time to clean and tokenize 32 SpanishArticle: 0.0007640719413757324 min\n",
            "\n",
            "\n",
            "text with their respective tokenize version:\n",
            "                                                text                                     tokenized_text\n",
            "0  Londres (CNN)– El organismo de control del gas...  [londr, cnn, el, organismo, de, control, del, ...\n",
            "1   La Comisión Electoral del Reino Unido dijo en...  [la, comisin, elector, del, reino, unido, dijo...\n",
            "2   Por lo tanto, continuaremos este trabajo como...  [por, lo, tanto, continuaremo, est, trabajo, c...\n",
            "3   Johnson ha sido presionado para que explique ...  [johnson, ha, sido, presionado, para, que, exp...\n",
            "4   Los primeros ministros reciben £ 30,000 (US$ ...  [lo, primero, ministro, reciben, us, de, diner...\n"
          ],
          "name": "stdout"
        }
      ]
    },
    {
      "cell_type": "markdown",
      "metadata": {
        "id": "Y6MW58St0U8_"
      },
      "source": [
        "**LDA implementation**"
      ]
    },
    {
      "cell_type": "code",
      "metadata": {
        "colab": {
          "base_uri": "https://localhost:8080/"
        },
        "id": "9KXMcXWKUDU0",
        "outputId": "87daa9c7-8d2a-4de8-bdae-b4109a0b9138"
      },
      "source": [
        "\n",
        "#Creating a Gensim dictionary from the tokenized data\n",
        "tokenized = file_df['tokenized_text']\n",
        "#Creating term dictionary of corpus, where each unique term is assigned an index.\n",
        "dictionary = corpora.Dictionary(tokenized)\n",
        "#Filtering terms .\n",
        "dictionary.filter_extremes(no_below=1, no_above=0.8)\n",
        "#converting the dictionary to a bag of words corpus\n",
        "corpus = [dictionary.doc2bow(tokens) for tokens in tokenized]\n",
        "print(corpus[:1])\n",
        "\n",
        "print([[(dictionary[id], freq) for id, freq in cp] for cp in corpus[:1]])"
      ],
      "execution_count": 10,
      "outputs": [
        {
          "output_type": "stream",
          "text": [
            "[[(0, 1), (1, 1), (2, 1), (3, 1), (4, 1), (5, 1), (6, 1), (7, 4), (8, 3), (9, 1), (10, 1), (11, 1), (12, 1), (13, 1), (14, 1), (15, 1), (16, 1), (17, 1), (18, 1), (19, 1), (20, 1), (21, 1), (22, 1), (23, 1), (24, 1), (25, 1), (26, 2), (27, 1), (28, 1), (29, 1), (30, 1), (31, 1), (32, 1), (33, 1)]]\n",
            "[[('acusacion', 1), ('bori', 1), ('bretaa', 1), ('cnn', 1), ('control', 1), ('corrupcin', 1), ('dado', 1), ('de', 4), ('del', 3), ('departamento', 1), ('down', 1), ('el', 1), ('en', 1), ('enfrenta', 1), ('escndalo', 1), ('financiacin', 1), ('formal', 1), ('gasto', 1), ('gran', 1), ('iniciar', 1), ('investigacin', 1), ('johnson', 1), ('londr', 1), ('ministro', 1), ('mltipl', 1), ('organismo', 1), ('poltico', 2), ('primer', 1), ('que', 1), ('renovacion', 1), ('se', 1), ('sobr', 1), ('street', 1), ('una', 1)]]\n"
          ],
          "name": "stdout"
        }
      ]
    },
    {
      "cell_type": "code",
      "metadata": {
        "colab": {
          "base_uri": "https://localhost:8080/"
        },
        "id": "8TTm1AaXUFai",
        "outputId": "f07518c6-9bdd-4c90-d9e8-ec3e75f5486e"
      },
      "source": [
        "#choosing hyperparameter values; num_topics=10, alpha=0.05, eta=0.61, num_words=5 \n",
        "ldamodel = gensim.models.ldamodel.LdaModel(corpus, num_topics = 10, id2word=dictionary, passes=7, alpha=0.05, eta=0.61)\n",
        "\n",
        "#saving the model\n",
        "ldamodel.save('model_combined.gensim')\n",
        "topics = ldamodel.print_topics(num_words=5)\n",
        "print('\\n')\n",
        "print(\"Now printing the topics and their composition\")\n",
        "print(\"This output shows the Topic-Words matrix for the 10 topics created and the 5 words within each topic\")\n",
        "for topic in topics:\n",
        "   print(topic)\n"
      ],
      "execution_count": 11,
      "outputs": [
        {
          "output_type": "stream",
          "text": [
            "\n",
            "\n",
            "Now printing the topics and their composition\n",
            "This output shows the Topic-Words matrix for the 10 topics created and the 5 words within each topic\n",
            "(0, '0.007*\"est\" + 0.007*\"en\" + 0.007*\"para\" + 0.007*\"se\" + 0.007*\"mircol\"')\n",
            "(1, '0.023*\"del\" + 0.020*\"de\" + 0.014*\"que\" + 0.008*\"una\" + 0.008*\"johnson\"')\n",
            "(2, '0.016*\"de\" + 0.013*\"que\" + 0.013*\"lo\" + 0.013*\"el\" + 0.013*\"prstamo\"')\n",
            "(3, '0.040*\"de\" + 0.023*\"del\" + 0.021*\"que\" + 0.015*\"el\" + 0.012*\"su\"')\n",
            "(4, '0.045*\"de\" + 0.025*\"que\" + 0.024*\"el\" + 0.014*\"para\" + 0.014*\"ministro\"')\n",
            "(5, '0.016*\"de\" + 0.013*\"se\" + 0.009*\"que\" + 0.009*\"su\" + 0.009*\"un\"')\n",
            "(6, '0.021*\"que\" + 0.021*\"el\" + 0.015*\"en\" + 0.012*\"de\" + 0.012*\"se\"')\n",
            "(7, '0.011*\"comentario\" + 0.007*\"de\" + 0.007*\"el\" + 0.007*\"lder\" + 0.007*\"en\"')\n",
            "(8, '0.010*\"su\" + 0.010*\"han\" + 0.010*\"el\" + 0.006*\"acusacion\" + 0.006*\"comportamiento\"')\n",
            "(9, '0.013*\"para\" + 0.009*\"que\" + 0.009*\"est\" + 0.009*\"el\" + 0.009*\"en\"')\n"
          ],
          "name": "stdout"
        }
      ]
    },
    {
      "cell_type": "code",
      "metadata": {
        "colab": {
          "base_uri": "https://localhost:8080/"
        },
        "id": "4Cycg_KNUfBm",
        "outputId": "20b12de4-b04d-48f4-b88c-e5079a62e871"
      },
      "source": [
        "# Compute Coherence Score for num_topics=10, alpha=0.05, eta=0.61, num_words=5\n",
        "coherence_model_lda = CoherenceModel(model=ldamodel, texts=tokenized, dictionary=dictionary, coherence='c_v')\n",
        "coherence_lda = coherence_model_lda.get_coherence()\n",
        "print('\\nCoherence Score: ', coherence_lda)"
      ],
      "execution_count": 12,
      "outputs": [
        {
          "output_type": "stream",
          "text": [
            "\n",
            "Coherence Score:  0.3575608026648031\n"
          ],
          "name": "stdout"
        }
      ]
    },
    {
      "cell_type": "code",
      "metadata": {
        "colab": {
          "base_uri": "https://localhost:8080/",
          "height": 881
        },
        "id": "GfRuWtYxUkmA",
        "outputId": "dd284d58-2064-4513-add8-099bae25a1dd"
      },
      "source": [
        "#visualizing topics for alpha=0.05, eta=0.61\n",
        "lda_viz = gensim.models.ldamodel.LdaModel.load('/content/model_combined.gensim')\n",
        "lda_display = pyLDAvis.gensim_models.prepare(lda_viz, corpus, dictionary, sort_topics=True)\n",
        "pyLDAvis.display(lda_display)"
      ],
      "execution_count": 14,
      "outputs": [
        {
          "output_type": "execute_result",
          "data": {
            "text/html": [
              "\n",
              "<link rel=\"stylesheet\" type=\"text/css\" href=\"https://cdn.jsdelivr.net/gh/bmabey/pyLDAvis@3.3.1/pyLDAvis/js/ldavis.v1.0.0.css\">\n",
              "\n",
              "\n",
              "<div id=\"ldavis_el6081404237356508961743840823\"></div>\n",
              "<script type=\"text/javascript\">\n",
              "\n",
              "var ldavis_el6081404237356508961743840823_data = {\"mdsDat\": {\"x\": [-0.04207850003927073, -0.024804298216935094, -0.0009107268206034224, -0.00475557264848962, 0.0033166167348283363, 0.009046919546913626, 0.01473512480643049, 0.019494100367353315, 0.01148890389788753, 0.014467432371885618], \"y\": [-0.022111134183397548, 0.030151232970476508, 0.023126214881922527, -0.012963900946092479, 0.0008384362030364182, -0.006905377563286564, -0.005519011637234702, -0.0014191905834522206, -0.006969762982243861, 0.001772493840271971], \"topics\": [1, 2, 3, 4, 5, 6, 7, 8, 9, 10], \"cluster\": [1, 1, 1, 1, 1, 1, 1, 1, 1, 1], \"Freq\": [23.7303931110154, 18.544672848658074, 13.42850943922556, 11.490563705226668, 8.430834202498456, 8.187856801756572, 7.622171936919074, 4.18810490474701, 2.2508144602157616, 2.1260785897374213]}, \"tinfo\": {\"Term\": [\"del\", \"su\", \"para\", \"comentario\", \"primer\", \"ministro\", \"est\", \"al\", \"han\", \"prstamo\", \"con\", \"opinin\", \"en\", \"hizo\", \"el\", \"si\", \"se\", \"por\", \"oposicin\", \"ese\", \"como\", \"cnn\", \"oficina\", \"mircol\", \"eso\", \"contacto\", \"puso\", \"pedirl\", \"lder\", \"pregunt\", \"multa\", \"alto\", \"oposicin\", \"para\", \"us\", \"impon\", \"comunicacin\", \"medio\", \"hasta\", \"hecho\", \"al\", \"de\", \"ministro\", \"el\", \"keir\", \"municin\", \"sesin\", \"comenzara\", \"posiblement\", \"anuncio\", \"convenientement\", \"justo\", \"mucha\", \"seman\", \"esta\", \"hubiera\", \"produjo\", \"negar\", \"descubr\", \"dando\", \"ha\", \"comisin\", \"que\", \"una\", \"lo\", \"se\", \"primer\", \"en\", \"un\", \"si\", \"su\", \"johnson\", \"semana\", \"del\", \"durant\", \"partido\", \"lder\", \"princip\", \"asesor\", \"despu\", \"ex\", \"cualquier\", \"del\", \"su\", \"cubierto\", \"principio\", \"forma\", \"portavoz\", \"transparent\", \"histrico\", \"expuesto\", \"amplia\", \"personalment\", \"costo\", \"entra\", \"transaccin\", \"conform\", \"regulado\", \"declaracin\", \"rgimen\", \"declar\", \"determinar\", \"aadi\", \"relacionada\", \"dicha\", \"exigido\", \"dej\", \"por\", \"de\", \"semana\", \"que\", \"primer\", \"el\", \"ha\", \"ministro\", \"un\", \"en\", \"comisin\", \"si\", \"una\", \"johnson\", \"lo\", \"se\", \"investigacin\", \"remodelacin\", \"ms\", \"gasto\", \"delito\", \"formal\", \"poltico\", \"sobr\", \"pued\", \"departamento\", \"investigacin\", \"remitir\", \"aparent\", \"derecho\", \"fiscala\", \"infraccin\", \"penal\", \"gran\", \"corrupcin\", \"control\", \"londr\", \"iniciar\", \"bretaa\", \"organismo\", \"dado\", \"renovacion\", \"bori\", \"quin\", \"dominado\", \"motivo\", \"da\", \"comunicado\", \"problema\", \"hace\", \"unido\", \"reino\", \"del\", \"de\", \"un\", \"que\", \"una\", \"johnson\", \"para\", \"se\", \"en\", \"acusacion\", \"ministro\", \"el\", \"primer\", \"tambin\", \"cualquier\", \"momento\", \"pandemia\", \"starmer\", \"otro\", \"cierr\", \"octubr\", \"amontonaran\", \"cadver\", \"prefera\", \"mile\", \"infringi\", \"factura\", \"desafiando\", \"aprovech\", \"ley\", \"cree\", \"preguntando\", \"oportunidad\", \"proceso\", \"repetidament\", \"laborista\", \"maniobra\", \"enfadado\", \"hacer\", \"covid\", \"alterado\", \"intercambio\", \"vez\", \"acu\", \"pa\", \"por\", \"el\", \"en\", \"que\", \"se\", \"al\", \"si\", \"johnson\", \"primer\", \"lo\", \"ministro\", \"de\", \"del\", \"dijo\", \"acusacin\", \"pag\", \"tambin\", \"impon\", \"volvi\", \"ant\", \"engao\", \"juego\", \"mucho\", \"demuestra\", \"interpretara\", \"negacin\", \"porqu\", \"contento\", \"dejar\", \"potencialment\", \"guerra\", \"segundo\", \"muy\", \"confinamiento\", \"estaba\", \"inglaterra\", \"palabra\", \"poner\", \"daina\", \"actualment\", \"evitar\", \"enfrentan\", \"morir\", \"gent\", \"varia\", \"acusacin\", \"hizo\", \"hay\", \"tico\", \"cum\", \"se\", \"un\", \"su\", \"una\", \"de\", \"en\", \"el\", \"que\", \"como\", \"parlamento\", \"al\", \"comentario\", \"del\", \"si\", \"mircol\", \"comportamiento\", \"primer\", \"prstamo\", \"vece\", \"tendra\", \"registrado\", \"cuatro\", \"controlado\", \"pblicament\", \"revelado\", \"son\", \"donacion\", \"diciendo\", \"pero\", \"respondi\", \"abord\", \"mismo\", \"estn\", \"estrictament\", \"cuestin\", \"fuera\", \"dimitir\", \"legislacin\", \"acuerdo\", \"ese\", \"caso\", \"varia\", \"hizo\", \"elector\", \"haber\", \"obra\", \"declarado\", \"lo\", \"comisin\", \"si\", \"johnson\", \"el\", \"de\", \"que\", \"ao\", \"en\", \"por\", \"reino\", \"unido\", \"al\", \"us\", \"como\", \"encontrar\", \"centr\", \"sugiri\", \"mayora\", \"absolutament\", \"extrao\", \"es\", \"trabajo\", \"establec\", \"sensata\", \"innumer\", \"pagu\", \"tapiz\", \"continuaremo\", \"tanto\", \"seria\", \"hacerm\", \"dicho\", \"hablar\", \"yo\", \"hora\", \"media\", \"ocasion\", \"cada\", \"cuando\", \"le\", \"tien\", \"ya\", \"est\", \"para\", \"lo\", \"en\", \"el\", \"que\", \"de\", \"gent\", \"caso\", \"tema\", \"starmer\", \"se\", \"por\", \"si\", \"una\", \"han\", \"enrgicament\", \"defendido\", \"aliado\", \"rotundament\", \"negado\", \"sern\", \"mella\", \"prueba\", \"local\", \"vien\", \"punto\", \"qu\", \"eleccion\", \"pblica\", \"obstant\", \"todo\", \"opinin\", \"escndalo\", \"comportamiento\", \"acusacion\", \"hecho\", \"hasta\", \"su\", \"reino\", \"unido\", \"pedirl\", \"puso\", \"contacto\", \"sentido\", \"semana\", \"primer\", \"el\", \"ministro\", \"en\", \"comentario\", \"pregunt\", \"directament\", \"sentido\", \"ese\", \"eso\", \"hizo\", \"oposicin\", \"lder\", \"al\", \"pedirl\", \"puso\", \"contacto\", \"enrgicament\", \"defendido\", \"aliado\", \"rotundament\", \"negado\", \"punto\", \"local\", \"sern\", \"prueba\", \"vien\", \"mella\", \"qu\", \"obstant\", \"eleccion\", \"pblica\", \"todo\", \"encontrar\", \"si\", \"primer\", \"ministro\", \"en\", \"el\", \"de\", \"escrutinio\", \"pasada\", \"mayor\", \"enfrent\", \"lanzara\", \"tico\", \"comportamiento\", \"princip\", \"unido\", \"despu\", \"reino\", \"asesor\", \"ex\", \"semana\", \"que\", \"se\", \"su\", \"contacto\", \"puso\", \"pedirl\", \"opinin\", \"oficina\", \"cnn\", \"con\", \"est\", \"mircol\", \"sentido\", \"directament\", \"pregunt\", \"enrgicament\", \"defendido\", \"aliado\", \"rotundament\", \"negado\", \"sern\", \"mella\", \"prueba\", \"local\", \"vien\", \"punto\", \"qu\", \"eleccion\", \"pblica\", \"obstant\", \"todo\", \"encontrar\", \"centr\", \"su\", \"para\", \"primer\", \"ministro\", \"se\", \"en\", \"del\", \"razon\", \"sospechar\", \"comunicado\", \"motivo\", \"delito\", \"hay\", \"elector\", \"important\", \"comprueba\", \"haber\", \"facultada\", \"entr\", \"sancion\", \"infringido\", \"comisin\", \"que\", \"un\", \"dijo\", \"reino\", \"pued\", \"si\"], \"Freq\": [9.0, 5.0, 5.0, 2.0, 5.0, 6.0, 2.0, 4.0, 2.0, 2.0, 2.0, 1.0, 7.0, 2.0, 11.0, 4.0, 6.0, 4.0, 2.0, 1.0, 2.0, 2.0, 1.0, 2.0, 2.0, 1.0, 1.0, 1.0, 2.0, 1.0, 1.2006620401755357, 1.1929857405494209, 1.203746191045208, 2.5879095431270938, 1.202379283058744, 1.2006701833818267, 1.2042318624899875, 1.2030102930331985, 0.9349238156312406, 0.9236660984730204, 1.6696084899032828, 8.490628044386508, 2.5848726582591546, 4.528284067867692, 0.7425345481105156, 0.7425345481105156, 0.7425345481105156, 0.7425344595974037, 0.7425343710842918, 0.7425343710842918, 0.7425343710842918, 0.7425343710842918, 0.7425343710842918, 0.7425343710842918, 0.7425343710842918, 0.7425343710842918, 0.7425342825711799, 0.7425342825711799, 0.7425341940580681, 0.7425341940580681, 1.453563208106681, 1.66102130184301, 4.826939699121179, 1.9761925946385754, 2.133426401416712, 2.122149299886994, 1.6660079535390153, 2.1641933820732495, 1.1988773503010894, 1.200241956946645, 1.2080991773734029, 1.2055122046530518, 0.9279475662068317, 1.2062269480313264, 0.7473796673406555, 0.748463598908501, 0.7485066162808653, 1.047190716539019, 1.0470705671209917, 1.0469655660751855, 1.0468831838317367, 1.0541238290708042, 3.4653419059714654, 1.8519262711987265, 0.6504854214965909, 0.6504849373020452, 0.6504821013054193, 0.6504809945750287, 0.6504806487217816, 0.650478020237104, 0.6504766368241158, 0.6504760142882711, 0.6504719332199558, 0.6504689588820312, 0.6501103782354833, 0.6500992417609281, 0.649970861035621, 0.6499509398885905, 0.6499142794444026, 0.6498998227786756, 0.6498942891267228, 0.6498799016316452, 0.6498649607713723, 0.6498389526071938, 0.6497948217328694, 0.6497673609850532, 0.6478543775049366, 1.456606464264005, 5.875074958199917, 1.0514238911123361, 3.061906860106521, 1.4566374527149413, 2.2701664645223487, 1.0566790620307038, 1.4562048594735235, 1.0513681395689105, 1.4534157605479645, 1.0530812890428782, 1.0581627724605744, 1.055472725904972, 1.0487923629261358, 1.055721809413502, 1.0526778166448625, 0.6555642764296096, 0.6524688206978082, 0.6525407581731959, 0.650481893793471, 0.852971007466256, 0.8567314865773924, 0.8591159583076563, 0.8569965503171848, 0.8558806980883308, 0.8569600865222927, 0.8570175871219302, 0.5300767408152599, 0.5300766907276296, 0.5300766907276296, 0.5300766907276296, 0.5300766907276296, 0.5300764903771082, 0.5300419299121694, 0.5300153333804555, 0.5300114766329188, 0.5300074696224911, 0.5300021603336744, 0.5300004573542426, 0.5299935452612549, 0.5299834275599249, 0.5299743616988322, 0.5299682009202996, 0.5280912170607039, 0.5279978036301082, 0.5270404787513001, 0.5278287578776896, 0.5269060936390811, 0.5277580842312709, 0.5276547534498667, 0.8540465892403115, 0.8528314633281113, 2.500098223516238, 2.177773904010952, 0.8539586353614235, 1.508823548158461, 0.8605117002148852, 0.8593284300355852, 0.8548577083261388, 0.8579002313438919, 0.8571500188165657, 0.531577666746216, 0.5314507446909186, 0.5313189641354775, 0.5311435071663746, 0.5300767909028903, 0.5300764402894779, 0.7652734742814977, 0.7691647463323444, 0.7711532415529705, 0.47626329194905004, 0.47626324908985485, 0.47626324908985485, 0.4762632062306596, 0.476263077653074, 0.4762630347938788, 0.4762629490754884, 0.4757250233164989, 0.4756500625840893, 0.4756486053714524, 0.4756016316935102, 0.47547056827458023, 0.4753793639071888, 0.47537842100489436, 0.475275387499627, 0.4751679394972537, 0.4751469384916044, 0.4742656248606506, 0.4736249227515649, 0.47304435209334866, 0.47301897944978866, 0.4730134077544123, 0.47296394824314836, 0.4727673531147534, 0.4726441329285455, 0.47245186657886606, 0.4724508379581812, 1.063840999988984, 1.9454555024931328, 1.3668690535779997, 1.960231295757666, 1.0667189092284572, 0.7684252537783164, 0.7705004102916424, 0.7738499421151265, 0.7707381073882368, 0.7717595277283084, 0.773039731889014, 1.0756097063997028, 0.7757151742903495, 0.4814435971548141, 0.47626329194905004, 0.4769216949057544, 0.47626333480824523, 0.4762631633714644, 0.4762631633714644, 0.476263077653074, 0.38040181211239465, 0.38040178066582875, 0.38040178066582875, 0.38040171777269693, 0.38040171777269693, 0.380401686326131, 0.3804016548795651, 0.3798111827116245, 0.37970259771956516, 0.3796656794511963, 0.3796533838439286, 0.3796304278508202, 0.3795229434885674, 0.3794855220751441, 0.37945177990993134, 0.3794383207797253, 0.37939983018306134, 0.3793900188544999, 0.3793584465023344, 0.3792817483280996, 0.3792563709494167, 0.3792542011363695, 0.37922328916208786, 0.37917602497353725, 0.37933979868875456, 0.37955995609663395, 0.3804019064520923, 0.380401686326131, 0.37939071067894975, 0.3793503647348976, 0.8521236968864211, 0.6157399238947223, 0.6157633201397533, 0.6145984764456139, 1.085420737862318, 0.6157125024892559, 0.6157304270318199, 0.615871496326456, 0.38040178066582875, 0.38040174921926284, 0.3804018435589605, 0.38040181211239465, 0.3804016548795651, 0.3804016548795651, 0.3804014662001697, 0.37982042800199967, 0.3797178807505935, 0.8293785912361474, 0.5996319965352904, 0.5996313857298297, 0.36988573777743694, 0.3698857072371639, 0.3698856766968908, 0.3698856766968908, 0.3698856766968908, 0.3698856766968908, 0.36988561561634475, 0.36988561561634475, 0.36988561561634475, 0.36988561561634475, 0.3698855545357987, 0.3698855545357987, 0.36988552399552566, 0.36988552399552566, 0.36988549345525257, 0.36988546291497953, 0.3698853407538874, 0.3698853407538874, 0.36988524913306825, 0.36988561561634475, 0.3698855545357987, 0.36988561561634475, 0.36988552399552566, 0.36988552399552566, 0.36988552399552566, 0.36988573777743694, 0.36988540183443347, 0.8314567957360763, 0.5996318743741983, 0.5996318132936522, 0.6039601640307336, 0.830842325442481, 1.0736233865163636, 0.8380398126707205, 0.3717256365268229, 0.3734380296362605, 0.3718755892674567, 0.3698856766968908, 0.3698856766968908, 0.3698856766968908, 0.36988561561634475, 0.5663253463045976, 0.3506552064912678, 0.3506102581894988, 0.3505912667501683, 0.35055587102866137, 0.3504476368826561, 0.3503850049352829, 0.35053935302529154, 0.35052303403401047, 0.35009808636383943, 0.3499971019439259, 0.34993330435431835, 0.34986933618292043, 0.3498688812981461, 0.3498801965569089, 0.349809461974492, 0.34964058600200143, 0.3495927946703926, 0.3495873076228016, 0.3495598155242497, 0.3494758608530772, 0.34947466678054445, 0.3494375368108352, 0.34943148115727624, 0.3494056095857331, 0.3493395091419552, 0.34925200068348283, 0.3492346013408626, 0.3489420535703361, 0.5666258545586759, 0.7830001560027541, 0.5659981704306211, 0.5665266896778599, 0.5665710978039592, 0.5673744243155237, 0.5665104844077724, 0.3506052260266822, 0.3503172555341979, 0.3503244483996929, 0.3505965547856705, 0.35050810812735095, 0.3503706476345914, 0.3503371567430773, 0.35027230723242897, 0.3489858276448294, 0.21530767443629076, 0.21530051983055573, 0.21529399008121677, 0.21529038153552946, 0.21526830848333822, 0.20087072669747577, 0.20060577196413135, 0.2004446058781745, 0.20037805867199285, 0.20022162587323622, 0.1998246233619919, 0.19950736814829625, 0.19934829533126625, 0.19911836379892167, 0.19842736635332547, 0.19811603165398262, 0.19951094545116377, 0.19827877550233958, 0.21547015272067935, 0.21552721773105063, 0.16213153595302207, 0.15891179153675236, 0.34913463719555393, 0.19909671252479777, 0.1985118156952546, 0.08159972338836442, 0.08159972338836442, 0.08159972338836442, 0.08159972338836442, 0.16209555984601823, 0.21531165789581572, 0.3241520036816423, 0.21530164457206866, 0.20282359039211947, 0.1991092316010722, 0.12282160432907702, 0.12282159593365806, 0.12282156235198224, 0.12282163791075282, 0.12282159593365806, 0.12282159593365806, 0.12282157914282014, 0.12361972322729609, 0.12282159593365806, 0.046535668734000925, 0.046535668734000925, 0.046535668734000925, 0.046535668734000925, 0.046535668734000925, 0.046535668734000925, 0.046535668734000925, 0.046535668734000925, 0.046941226237380354, 0.04689211723421274, 0.046851550569830154, 0.04686297253731619, 0.046866674917074615, 0.04683422242511044, 0.04687498638183843, 0.04693435038925756, 0.04686876957410348, 0.046853901287137095, 0.04680224847202662, 0.046535668734000925, 0.12282159593365806, 0.12282159593365806, 0.12282163791075282, 0.12355790775754258, 0.12383219449016744, 0.12467532122939542, 0.04736461141290722, 0.04734156598788028, 0.04731208127651612, 0.0473077660311741, 0.04718443312903992, 0.04742698937573061, 0.04734507527300278, 0.0472894094476326, 0.0474690840063627, 0.04722602823224429, 0.0474585561509952, 0.04720508166195569, 0.04715750062503758, 0.04728880077975848, 0.0474576746320051, 0.04724851536191083, 0.04724290722205, 0.11645317351295059, 0.11645314972246834, 0.11645313386214684, 0.11645310214150384, 0.11645313386214684, 0.11645312593198609, 0.11656203875973059, 0.1181618614593336, 0.11741272296373584, 0.044122728455715854, 0.044122728455715854, 0.044122728455715854, 0.044122728455715854, 0.044122728455715854, 0.044122728455715854, 0.044122728455715854, 0.044122728455715854, 0.044122728455715854, 0.044122728455715854, 0.044122728455715854, 0.044122728455715854, 0.044122728455715854, 0.044122728455715854, 0.044122728455715854, 0.044122728455715854, 0.044122728455715854, 0.044122728455715854, 0.044122728455715854, 0.044122728455715854, 0.044122728455715854, 0.11655299044631451, 0.11758540221407343, 0.11645314972246834, 0.11645310214150384, 0.11752011320061628, 0.11759973201454921, 0.1173340319786107, 0.0451053150234807, 0.044916918194536026, 0.04481920671885131, 0.044789734276422855, 0.04551804023972961, 0.045003206273659946, 0.04492465803142831, 0.04475402476256429, 0.04474421515371618, 0.04486215646947489, 0.0446902900606142, 0.04466409673965599, 0.04458712659941366, 0.04458627014205263, 0.04594971854017171, 0.04671484820492244, 0.045588923981596086, 0.04515567550932542, 0.0450299190201473, 0.044878904968979505, 0.04487207313549313], \"Total\": [9.0, 5.0, 5.0, 2.0, 5.0, 6.0, 2.0, 4.0, 2.0, 2.0, 2.0, 1.0, 7.0, 2.0, 11.0, 4.0, 6.0, 4.0, 2.0, 1.0, 2.0, 2.0, 1.0, 2.0, 2.0, 1.0, 1.0, 1.0, 2.0, 1.0, 2.4187079136553407, 2.417448757764738, 2.497594338220154, 5.426931133864799, 2.6505578570968793, 2.7145265413150117, 2.7510634090561132, 2.750635306190263, 2.230170864554156, 2.222158808470514, 4.018365684481221, 20.619794170511742, 6.454978084508079, 11.780525462346617, 1.9600967848766424, 1.9600967848766424, 1.9600967848766424, 1.9600966963635305, 1.9600966078504185, 1.9600966078504185, 1.9600966078504185, 1.9600966078504185, 1.9600966078504185, 1.9600966078504185, 1.9600966078504185, 1.9600966078504185, 1.9600965193373066, 1.9600965193373066, 1.9600964308241946, 1.9600964308241946, 3.8696017115486034, 4.471456030986234, 13.570711793727053, 5.3968297432024634, 6.201985280912519, 6.690012593786101, 5.533914139502904, 7.841286666983368, 4.351318428315093, 4.80941022418741, 5.141669174686191, 5.3926042649525145, 3.2491257280463994, 9.068596058718715, 2.2576457776001924, 2.660690745123125, 2.734675577244125, 2.302306308554475, 2.3024422717506345, 2.3023188239702685, 2.302444627507794, 2.6359016235866193, 9.068596058718715, 5.141669174686191, 1.902955885825584, 1.9029558884531532, 1.902956548724446, 1.9029565926645096, 1.9029566893768215, 1.9029568269268897, 1.9029567933388574, 1.902957188703799, 1.90295793160008, 1.9029580330927929, 1.902609049721281, 1.9025998719964314, 1.9024945085627016, 1.9024781599530896, 1.9024480260311991, 1.902436170458198, 1.9024315963556961, 1.9024197980581037, 1.9024075296620033, 1.9023861289212207, 1.9023499599282898, 1.902327376229335, 1.9018906752635343, 4.284852864191689, 20.619794170511742, 3.2491257280463994, 13.570711793727053, 5.533914139502904, 11.780525462346617, 3.8696017115486034, 6.454978084508079, 4.351318428315093, 7.841286666983368, 4.471456030986234, 4.80941022418741, 5.3968297432024634, 5.3926042649525145, 6.201985280912519, 6.690012593786101, 2.781653357982798, 2.2328808617990354, 2.462587629790334, 2.2321857432900143, 2.152428163084688, 2.378294528875665, 2.387103454372715, 2.454199175416583, 2.61460875145356, 2.6186270448781346, 2.781653357982798, 1.8281385846496776, 1.8281385345620471, 1.8281385345620471, 1.8281385345620471, 1.8281385345620471, 1.828138334211526, 1.8281354681214395, 1.8281327227318558, 1.8281323590087282, 1.8281318878819048, 1.8281313145341578, 1.828131090196961, 1.8281304141168748, 1.8281293611353302, 1.8281282242253503, 1.8281276994309867, 1.828694327569103, 1.8287052365462197, 1.825769328406425, 1.8287833890213196, 1.8256644157366344, 1.828751943985794, 1.8288054173538049, 2.9604561702933605, 2.9580865865475197, 9.068596058718715, 20.619794170511742, 4.351318428315093, 13.570711793727053, 5.3968297432024634, 5.3926042649525145, 5.426931133864799, 6.690012593786101, 7.841286666983368, 2.5995241048752806, 6.454978084508079, 11.780525462346617, 5.533914139502904, 2.12395057134843, 2.6359016235866193, 2.094342201186049, 2.32876188942222, 2.770573301026309, 1.7947148047010821, 1.7947147618418868, 1.7947147618418868, 1.7947147189826915, 1.794714590405106, 1.7947145475459108, 1.7947144618275206, 1.7949117163157982, 1.7949391973151663, 1.794939469368765, 1.7949566514681514, 1.7950047573238588, 1.7950380601254077, 1.7950383277094781, 1.7950759354271257, 1.7951152156648162, 1.7951229204786725, 1.7958312501707199, 1.7961892415027578, 1.7965136731567606, 1.796527600334867, 1.7965308799506765, 1.796558559616399, 1.79666824198332, 1.7967372058912394, 1.7968446891948764, 1.796845275938483, 4.284852864191689, 11.780525462346617, 7.841286666983368, 13.570711793727053, 6.690012593786101, 4.018365684481221, 4.80941022418741, 5.3926042649525145, 5.533914139502904, 6.201985280912519, 6.454978084508079, 20.619794170511742, 9.068596058718715, 3.2039809963009898, 2.03131761980244, 2.814963461197661, 2.12395057134843, 2.7145265413150117, 2.2559080189723124, 2.255908375819481, 1.7351745297635652, 1.735174498316999, 1.735174498316999, 1.7351744354238674, 1.7351744354238674, 1.7351744039773016, 1.7351743725307354, 1.7354068276074766, 1.7354496199562308, 1.7354641041185048, 1.7354688383055552, 1.735477950917776, 1.735520090829275, 1.7355349108143026, 1.735548050671094, 1.7355534495337133, 1.7355686153110579, 1.7355725154713038, 1.7355849200585824, 1.7356147332302787, 1.7356248178938811, 1.735625766035823, 1.7356378918579165, 1.954160513440442, 1.9653320629380366, 2.03131761980244, 2.041200304982616, 2.0612822427896784, 2.13547280611351, 2.1378734360439844, 6.690012593786101, 4.351318428315093, 5.141669174686191, 5.3968297432024634, 20.619794170511742, 7.841286666983368, 11.780525462346617, 13.570711793727053, 2.1752058371403202, 2.1963681637716967, 4.018365684481221, 2.348941612505676, 9.068596058718715, 4.80941022418741, 2.996529156694113, 2.269481927783889, 5.533914139502904, 2.649329163231401, 1.958389137168616, 1.958388526363155, 1.7286428784107626, 1.7286428478704896, 1.7286428173302162, 1.7286428173302162, 1.7286428173302162, 1.7286428173302162, 1.7286427562496702, 1.7286427562496702, 1.7286427562496702, 1.7286427562496702, 1.7286426951691243, 1.7286426951691243, 1.7286426646288513, 1.7286426646288513, 1.7286426340885783, 1.728642603548305, 1.728642481387213, 1.728642481387213, 1.7286423897663936, 1.8049287254264224, 1.9482684484565538, 1.9653320629380366, 2.041200304982616, 2.0550296810549296, 2.0552514768828214, 2.1321641105205797, 2.189835973829687, 6.201985280912519, 4.471456030986234, 4.80941022418741, 5.3926042649525145, 11.780525462346617, 20.619794170511742, 13.570711793727053, 2.592416275633888, 7.841286666983368, 4.284852864191689, 2.9580865865475197, 2.9604561702933605, 4.018365684481221, 2.6505578570968793, 2.1752058371403202, 1.717404432768911, 1.7174067149994006, 1.71740760527782, 1.7174096061206527, 1.717415195572273, 1.7174182252119392, 1.7183399572408256, 1.7183539177013243, 1.7187146794378152, 1.718555258639097, 1.7187435488349392, 1.7187235995151235, 1.718761511933041, 1.718899795127017, 1.7189600005839356, 1.7188609070685343, 1.718920858261142, 1.7189046615604964, 1.7188785435519995, 1.7189432219841811, 1.718979102252785, 1.7191038636469718, 1.7191534537073037, 1.7190881652927525, 1.7192920976172879, 1.7191973109085459, 1.7192783515691579, 1.719330395705923, 2.7943332792214397, 5.426931133864799, 6.201985280912519, 7.841286666983368, 11.780525462346617, 13.570711793727053, 20.619794170511742, 1.954160513440442, 1.9482684484565538, 2.0135662373812058, 2.770573301026309, 6.690012593786101, 4.284852864191689, 4.80941022418741, 5.3968297432024634, 2.557744991896876, 1.6327397824562517, 1.6327483571751564, 1.6327563781225884, 1.6327608913943918, 1.6327873778103656, 1.6665498268259062, 1.6672859536846327, 1.6675350292230013, 1.6675510222484458, 1.6680622711832536, 1.66865770096231, 1.669768617017172, 1.6701893727060364, 1.6708272035099214, 1.6721122519700535, 1.6735408455410545, 1.7422890865693055, 2.0012855392065405, 2.269481927783889, 2.5995241048752806, 2.222158808470514, 2.230170864554156, 5.141669174686191, 2.9580865865475197, 2.9604561702933605, 1.5712333163555865, 1.571233332215908, 1.5712333560063902, 1.5751888045671367, 3.2491257280463994, 5.533914139502904, 11.780525462346617, 6.454978084508079, 7.841286666983368, 2.348941612505676, 1.5751888465442319, 1.5751888381488128, 1.5751888045671367, 1.8049287254264224, 2.036382446536964, 2.041200304982616, 2.497594338220154, 2.734675577244125, 4.018365684481221, 1.5712333163555865, 1.571233332215908, 1.5712333560063902, 1.6327397824562517, 1.6327483571751564, 1.6327563781225884, 1.6327608913943918, 1.6327873778103656, 1.66865770096231, 1.6675510222484458, 1.6665498268259062, 1.6675350292230013, 1.6680622711832536, 1.6672859536846327, 1.669768617017172, 1.6721122519700535, 1.6701893727060364, 1.6708272035099214, 1.6735408455410545, 1.717404432768911, 4.80941022418741, 5.533914139502904, 6.454978084508079, 7.841286666983368, 11.780525462346617, 20.619794170511742, 1.8991188930977114, 1.8992047879109815, 1.899363943773961, 1.8993432233554368, 1.899791805808014, 2.13547280611351, 2.269481927783889, 2.302306308554475, 2.9604561702933605, 2.3023188239702685, 2.9580865865475197, 2.3024422717506345, 2.302444627507794, 3.2491257280463994, 13.570711793727053, 6.690012593786101, 5.141669174686191, 1.5712333560063902, 1.571233332215908, 1.5712333163555865, 1.7422890865693055, 1.975290436598364, 2.304515261234183, 2.441241802844251, 2.7943332792214397, 2.996529156694113, 1.5751888045671367, 1.5751888381488128, 1.5751888465442319, 1.6327397824562517, 1.6327483571751564, 1.6327563781225884, 1.6327608913943918, 1.6327873778103656, 1.6665498268259062, 1.6672859536846327, 1.6675350292230013, 1.6675510222484458, 1.6680622711832536, 1.66865770096231, 1.669768617017172, 1.6701893727060364, 1.6708272035099214, 1.6721122519700535, 1.6735408455410545, 1.717404432768911, 1.7174067149994006, 5.141669174686191, 5.426931133864799, 5.533914139502904, 6.454978084508079, 6.690012593786101, 7.841286666983368, 9.068596058718715, 1.824647945126479, 1.8253172989672137, 1.8256644157366344, 1.825769328406425, 2.152428163084688, 2.0612822427896784, 2.0550296810549296, 1.9567015312118383, 1.956753946320628, 2.0552514768828214, 1.9570440716933284, 1.957184991127563, 1.9575990474753677, 1.9576036345743861, 4.471456030986234, 13.570711793727053, 4.351318428315093, 3.2039809963009898, 2.9580865865475197, 2.61460875145356, 4.80941022418741], \"Category\": [\"Default\", \"Default\", \"Default\", \"Default\", \"Default\", \"Default\", \"Default\", \"Default\", \"Default\", \"Default\", \"Default\", \"Default\", \"Default\", \"Default\", \"Default\", \"Default\", \"Default\", \"Default\", \"Default\", \"Default\", \"Default\", \"Default\", \"Default\", \"Default\", \"Default\", \"Default\", \"Default\", \"Default\", \"Default\", \"Default\", \"Topic1\", \"Topic1\", \"Topic1\", \"Topic1\", \"Topic1\", \"Topic1\", \"Topic1\", \"Topic1\", \"Topic1\", \"Topic1\", \"Topic1\", \"Topic1\", \"Topic1\", \"Topic1\", \"Topic1\", \"Topic1\", \"Topic1\", \"Topic1\", \"Topic1\", \"Topic1\", \"Topic1\", \"Topic1\", \"Topic1\", \"Topic1\", \"Topic1\", \"Topic1\", \"Topic1\", \"Topic1\", \"Topic1\", \"Topic1\", \"Topic1\", \"Topic1\", \"Topic1\", \"Topic1\", \"Topic1\", \"Topic1\", \"Topic1\", \"Topic1\", \"Topic1\", \"Topic1\", \"Topic1\", \"Topic1\", \"Topic1\", \"Topic1\", \"Topic1\", \"Topic1\", \"Topic1\", \"Topic2\", \"Topic2\", \"Topic2\", \"Topic2\", \"Topic2\", \"Topic2\", \"Topic2\", \"Topic2\", \"Topic2\", \"Topic2\", \"Topic2\", \"Topic2\", \"Topic2\", \"Topic2\", \"Topic2\", \"Topic2\", \"Topic2\", \"Topic2\", \"Topic2\", \"Topic2\", \"Topic2\", \"Topic2\", \"Topic2\", \"Topic2\", \"Topic2\", \"Topic2\", \"Topic2\", \"Topic2\", \"Topic2\", \"Topic2\", \"Topic2\", \"Topic2\", \"Topic2\", \"Topic2\", \"Topic2\", \"Topic2\", \"Topic2\", \"Topic2\", \"Topic2\", \"Topic2\", \"Topic2\", \"Topic2\", \"Topic2\", \"Topic2\", \"Topic2\", \"Topic2\", \"Topic2\", \"Topic2\", \"Topic2\", \"Topic2\", \"Topic3\", \"Topic3\", \"Topic3\", \"Topic3\", \"Topic3\", \"Topic3\", \"Topic3\", \"Topic3\", \"Topic3\", \"Topic3\", \"Topic3\", \"Topic3\", \"Topic3\", \"Topic3\", \"Topic3\", \"Topic3\", \"Topic3\", \"Topic3\", \"Topic3\", \"Topic3\", \"Topic3\", \"Topic3\", \"Topic3\", \"Topic3\", \"Topic3\", \"Topic3\", \"Topic3\", \"Topic3\", \"Topic3\", \"Topic3\", \"Topic3\", \"Topic3\", \"Topic3\", \"Topic3\", \"Topic3\", \"Topic3\", \"Topic3\", \"Topic3\", \"Topic3\", \"Topic3\", \"Topic3\", \"Topic3\", \"Topic3\", \"Topic3\", \"Topic3\", \"Topic3\", \"Topic3\", \"Topic4\", \"Topic4\", \"Topic4\", \"Topic4\", \"Topic4\", \"Topic4\", \"Topic4\", \"Topic4\", \"Topic4\", \"Topic4\", \"Topic4\", \"Topic4\", \"Topic4\", \"Topic4\", \"Topic4\", \"Topic4\", \"Topic4\", \"Topic4\", \"Topic4\", \"Topic4\", \"Topic4\", \"Topic4\", \"Topic4\", \"Topic4\", \"Topic4\", \"Topic4\", \"Topic4\", \"Topic4\", \"Topic4\", \"Topic4\", \"Topic4\", \"Topic4\", \"Topic4\", \"Topic4\", \"Topic4\", \"Topic4\", \"Topic4\", \"Topic4\", \"Topic4\", \"Topic4\", \"Topic4\", \"Topic4\", \"Topic4\", \"Topic4\", \"Topic4\", \"Topic4\", \"Topic4\", \"Topic4\", \"Topic4\", \"Topic4\", \"Topic5\", \"Topic5\", \"Topic5\", \"Topic5\", \"Topic5\", \"Topic5\", \"Topic5\", \"Topic5\", \"Topic5\", \"Topic5\", \"Topic5\", \"Topic5\", \"Topic5\", \"Topic5\", \"Topic5\", \"Topic5\", \"Topic5\", \"Topic5\", \"Topic5\", \"Topic5\", \"Topic5\", \"Topic5\", \"Topic5\", \"Topic5\", \"Topic5\", \"Topic5\", \"Topic5\", \"Topic5\", \"Topic5\", \"Topic5\", \"Topic5\", \"Topic5\", \"Topic5\", \"Topic5\", \"Topic5\", \"Topic5\", \"Topic5\", \"Topic5\", \"Topic5\", \"Topic5\", \"Topic5\", \"Topic5\", \"Topic5\", \"Topic5\", \"Topic5\", \"Topic5\", \"Topic5\", \"Topic6\", \"Topic6\", \"Topic6\", \"Topic6\", \"Topic6\", \"Topic6\", \"Topic6\", \"Topic6\", \"Topic6\", \"Topic6\", \"Topic6\", \"Topic6\", \"Topic6\", \"Topic6\", \"Topic6\", \"Topic6\", \"Topic6\", \"Topic6\", \"Topic6\", \"Topic6\", \"Topic6\", \"Topic6\", \"Topic6\", \"Topic6\", \"Topic6\", \"Topic6\", \"Topic6\", \"Topic6\", \"Topic6\", \"Topic6\", \"Topic6\", \"Topic6\", \"Topic6\", \"Topic6\", \"Topic6\", \"Topic6\", \"Topic6\", \"Topic6\", \"Topic6\", \"Topic6\", \"Topic6\", \"Topic6\", \"Topic6\", \"Topic6\", \"Topic7\", \"Topic7\", \"Topic7\", \"Topic7\", \"Topic7\", \"Topic7\", \"Topic7\", \"Topic7\", \"Topic7\", \"Topic7\", \"Topic7\", \"Topic7\", \"Topic7\", \"Topic7\", \"Topic7\", \"Topic7\", \"Topic7\", \"Topic7\", \"Topic7\", \"Topic7\", \"Topic7\", \"Topic7\", \"Topic7\", \"Topic7\", \"Topic7\", \"Topic7\", \"Topic7\", \"Topic7\", \"Topic7\", \"Topic7\", \"Topic7\", \"Topic7\", \"Topic7\", \"Topic7\", \"Topic7\", \"Topic7\", \"Topic7\", \"Topic7\", \"Topic7\", \"Topic7\", \"Topic7\", \"Topic7\", \"Topic7\", \"Topic7\", \"Topic8\", \"Topic8\", \"Topic8\", \"Topic8\", \"Topic8\", \"Topic8\", \"Topic8\", \"Topic8\", \"Topic8\", \"Topic8\", \"Topic8\", \"Topic8\", \"Topic8\", \"Topic8\", \"Topic8\", \"Topic8\", \"Topic8\", \"Topic8\", \"Topic8\", \"Topic8\", \"Topic8\", \"Topic8\", \"Topic8\", \"Topic8\", \"Topic8\", \"Topic8\", \"Topic8\", \"Topic8\", \"Topic8\", \"Topic8\", \"Topic8\", \"Topic8\", \"Topic8\", \"Topic8\", \"Topic8\", \"Topic9\", \"Topic9\", \"Topic9\", \"Topic9\", \"Topic9\", \"Topic9\", \"Topic9\", \"Topic9\", \"Topic9\", \"Topic9\", \"Topic9\", \"Topic9\", \"Topic9\", \"Topic9\", \"Topic9\", \"Topic9\", \"Topic9\", \"Topic9\", \"Topic9\", \"Topic9\", \"Topic9\", \"Topic9\", \"Topic9\", \"Topic9\", \"Topic9\", \"Topic9\", \"Topic9\", \"Topic9\", \"Topic9\", \"Topic9\", \"Topic9\", \"Topic9\", \"Topic9\", \"Topic9\", \"Topic9\", \"Topic9\", \"Topic9\", \"Topic9\", \"Topic9\", \"Topic9\", \"Topic9\", \"Topic9\", \"Topic9\", \"Topic9\", \"Topic9\", \"Topic9\", \"Topic9\", \"Topic9\", \"Topic9\", \"Topic9\", \"Topic9\", \"Topic9\", \"Topic9\", \"Topic10\", \"Topic10\", \"Topic10\", \"Topic10\", \"Topic10\", \"Topic10\", \"Topic10\", \"Topic10\", \"Topic10\", \"Topic10\", \"Topic10\", \"Topic10\", \"Topic10\", \"Topic10\", \"Topic10\", \"Topic10\", \"Topic10\", \"Topic10\", \"Topic10\", \"Topic10\", \"Topic10\", \"Topic10\", \"Topic10\", \"Topic10\", \"Topic10\", \"Topic10\", \"Topic10\", \"Topic10\", \"Topic10\", \"Topic10\", \"Topic10\", \"Topic10\", \"Topic10\", \"Topic10\", \"Topic10\", \"Topic10\", \"Topic10\", \"Topic10\", \"Topic10\", \"Topic10\", \"Topic10\", \"Topic10\", \"Topic10\", \"Topic10\", \"Topic10\", \"Topic10\", \"Topic10\", \"Topic10\", \"Topic10\", \"Topic10\", \"Topic10\", \"Topic10\", \"Topic10\", \"Topic10\", \"Topic10\", \"Topic10\", \"Topic10\", \"Topic10\"], \"logprob\": [30.0, 29.0, 28.0, 27.0, 26.0, 25.0, 24.0, 23.0, 22.0, 21.0, 20.0, 19.0, 18.0, 17.0, 16.0, 15.0, 14.0, 13.0, 12.0, 11.0, 10.0, 9.0, 8.0, 7.0, 6.0, 5.0, 4.0, 3.0, 2.0, 1.0, -5.0646, -5.071, -5.062, -4.2966, -5.0631, -5.0646, -5.0616, -5.0626, -5.3147, -5.3269, -4.7349, -3.1085, -4.2978, -3.7371, -5.5451, -5.5451, -5.5451, -5.5451, -5.5451, -5.5451, -5.5451, -5.5451, -5.5451, -5.5451, -5.5451, -5.5451, -5.5451, -5.5451, -5.5451, -5.5451, -4.8734, -4.74, -3.6732, -4.5663, -4.4897, -4.495, -4.737, -4.4754, -5.0661, -5.0649, -5.0584, -5.0605, -5.3222, -5.06, -5.5386, -5.5372, -5.5371, -4.9548, -4.9549, -4.955, -4.9551, -4.9482, -3.7581, -4.3846, -5.4309, -5.4309, -5.4309, -5.4309, -5.4309, -5.4309, -5.4309, -5.4309, -5.4309, -5.4309, -5.4315, -5.4315, -5.4317, -5.4317, -5.4318, -5.4318, -5.4318, -5.4318, -5.4319, -5.4319, -5.432, -5.432, -5.435, -4.6248, -3.2302, -4.9507, -3.8818, -4.6247, -4.181, -4.9457, -4.625, -4.9508, -4.627, -4.9492, -4.9443, -4.9469, -4.9532, -4.9466, -4.9495, -5.4231, -5.4279, -5.4278, -5.4309, -4.8371, -4.8327, -4.8299, -4.8324, -4.8337, -4.8324, -4.8324, -5.3128, -5.3128, -5.3128, -5.3128, -5.3128, -5.3128, -5.3129, -5.3129, -5.3129, -5.3129, -5.3129, -5.3129, -5.313, -5.313, -5.313, -5.313, -5.3166, -5.3167, -5.3185, -5.3171, -5.3188, -5.3172, -5.3174, -4.8358, -4.8373, -3.7617, -3.8998, -4.8359, -4.2667, -4.8283, -4.8297, -4.8349, -4.8313, -4.8322, -5.31, -5.3102, -5.3105, -5.3108, -5.3128, -5.3128, -4.7897, -4.7847, -4.7821, -5.264, -5.264, -5.264, -5.264, -5.264, -5.264, -5.264, -5.2651, -5.2653, -5.2653, -5.2654, -5.2657, -5.2659, -5.2659, -5.2661, -5.2663, -5.2663, -5.2682, -5.2696, -5.2708, -5.2708, -5.2708, -5.271, -5.2714, -5.2716, -5.272, -5.272, -4.4603, -3.8567, -4.2097, -3.8492, -4.4576, -4.7856, -4.7829, -4.7786, -4.7826, -4.7813, -4.7796, -4.4493, -4.7762, -5.2532, -5.264, -5.2626, -5.264, -5.264, -5.264, -5.264, -5.1791, -5.1791, -5.1791, -5.1791, -5.1791, -5.1791, -5.1791, -5.1807, -5.181, -5.1811, -5.1811, -5.1811, -5.1814, -5.1815, -5.1816, -5.1816, -5.1818, -5.1818, -5.1819, -5.1821, -5.1821, -5.1821, -5.1822, -5.1823, -5.1819, -5.1813, -5.1791, -5.1791, -5.1818, -5.1819, -4.3726, -4.6975, -4.6975, -4.6994, -4.1306, -4.6976, -4.6975, -4.6973, -5.1791, -5.1791, -5.1791, -5.1791, -5.1791, -5.1791, -5.1791, -5.1806, -5.1809, -4.3704, -4.6948, -4.6948, -5.1779, -5.1779, -5.1779, -5.1779, -5.1779, -5.1779, -5.1779, -5.1779, -5.1779, -5.1779, -5.1779, -5.1779, -5.1779, -5.1779, -5.1779, -5.1779, -5.1779, -5.1779, -5.1779, -5.1779, -5.1779, -5.1779, -5.1779, -5.1779, -5.1779, -5.1779, -5.1779, -4.3679, -4.6948, -4.6948, -4.6876, -4.3687, -4.1123, -4.36, -5.1729, -5.1683, -5.1725, -5.1779, -5.1779, -5.1779, -5.1779, -4.6803, -5.1597, -5.1598, -5.1599, -5.16, -5.1603, -5.1605, -5.16, -5.1601, -5.1613, -5.1616, -5.1618, -5.1619, -5.1619, -5.1619, -5.1621, -5.1626, -5.1627, -5.1628, -5.1628, -5.1631, -5.1631, -5.1632, -5.1632, -5.1633, -5.1635, -5.1637, -5.1638, -5.1646, -4.6798, -4.3564, -4.6809, -4.68, -4.6799, -4.6785, -4.68, -5.1598, -5.1607, -5.1606, -5.1599, -5.1601, -5.1605, -5.1606, -5.1608, -4.5657, -5.0486, -5.0487, -5.0487, -5.0487, -5.0488, -5.118, -5.1194, -5.1202, -5.1205, -5.1213, -5.1233, -5.1248, -5.1256, -5.1268, -5.1303, -5.1318, -5.1248, -5.131, -5.0479, -5.0476, -5.3323, -5.3523, -4.5652, -5.1269, -5.1298, -6.0189, -6.0189, -6.0189, -6.0189, -5.3325, -5.0486, -4.6395, -5.0487, -5.1084, -4.5059, -4.989, -4.989, -4.989, -4.989, -4.989, -4.989, -4.989, -4.9825, -4.989, -5.9595, -5.9595, -5.9595, -5.9595, -5.9595, -5.9595, -5.9595, -5.9595, -5.9508, -5.9519, -5.9528, -5.9525, -5.9524, -5.9531, -5.9523, -5.951, -5.9524, -5.9527, -5.9538, -5.9595, -4.989, -4.989, -4.989, -4.983, -4.9808, -4.974, -5.9419, -5.9423, -5.943, -5.9431, -5.9457, -5.9405, -5.9423, -5.9435, -5.9397, -5.9448, -5.9399, -5.9452, -5.9462, -5.9435, -5.9399, -5.9443, -5.9444, -4.9852, -4.9852, -4.9852, -4.9852, -4.9852, -4.9852, -4.9843, -4.9707, -4.977, -5.9558, -5.9558, -5.9558, -5.9558, -5.9558, -5.9558, -5.9558, -5.9558, -5.9558, -5.9558, -5.9558, -5.9558, -5.9558, -5.9558, -5.9558, -5.9558, -5.9558, -5.9558, -5.9558, -5.9558, -5.9558, -4.9844, -4.9756, -4.9852, -4.9852, -4.9761, -4.9754, -4.9777, -5.9337, -5.9379, -5.9401, -5.9407, -5.9246, -5.936, -5.9377, -5.9415, -5.9418, -5.9391, -5.943, -5.9436, -5.9453, -5.9453, -5.9152, -5.8987, -5.9231, -5.9326, -5.9354, -5.9388, -5.9389], \"loglift\": [30.0, 29.0, 28.0, 27.0, 26.0, 25.0, 24.0, 23.0, 22.0, 21.0, 20.0, 19.0, 18.0, 17.0, 16.0, 15.0, 14.0, 13.0, 12.0, 11.0, 10.0, 9.0, 8.0, 7.0, 6.0, 5.0, 4.0, 3.0, 2.0, 1.0, 0.7381, 0.7322, 0.7085, 0.6979, 0.6479, 0.6227, 0.6123, 0.6114, 0.569, 0.5605, 0.5601, 0.5511, 0.5232, 0.4823, 0.4677, 0.4677, 0.4677, 0.4677, 0.4677, 0.4677, 0.4677, 0.4677, 0.4677, 0.4677, 0.4677, 0.4677, 0.4677, 0.4677, 0.4677, 0.4677, 0.4593, 0.4481, 0.4047, 0.4338, 0.3713, 0.2902, 0.2379, 0.1511, 0.1493, 0.0504, -0.0099, -0.0597, 0.1852, -0.5789, 0.3329, 0.1701, 0.1427, 0.8972, 0.897, 0.897, 0.8968, 0.7685, 0.723, 0.6638, 0.6115, 0.6115, 0.6115, 0.6115, 0.6115, 0.6115, 0.6115, 0.6115, 0.6115, 0.6115, 0.6111, 0.6111, 0.611, 0.611, 0.6109, 0.6109, 0.6109, 0.6109, 0.6109, 0.6108, 0.6108, 0.6108, 0.608, 0.606, 0.4295, 0.5567, 0.1961, 0.3502, 0.0384, 0.387, 0.196, 0.2646, -0.0005, 0.239, 0.1709, 0.0532, 0.0476, -0.0857, -0.1643, 0.2397, 0.4547, 0.3569, 0.452, 1.0822, 0.9868, 0.9859, 0.9557, 0.8911, 0.8908, 0.8304, 0.7698, 0.7698, 0.7698, 0.7698, 0.7698, 0.7698, 0.7697, 0.7696, 0.7696, 0.7696, 0.7696, 0.7696, 0.7696, 0.7696, 0.7696, 0.7696, 0.7657, 0.7655, 0.7653, 0.7652, 0.7651, 0.765, 0.7648, 0.7647, 0.7641, 0.7193, -0.2402, 0.3794, -0.1888, 0.1718, 0.1712, 0.1596, -0.0461, -0.2058, 0.4206, -0.4892, -1.0911, -0.3358, 0.6198, 0.4038, 1.1569, 1.0559, 0.8847, 0.837, 0.837, 0.837, 0.837, 0.837, 0.837, 0.837, 0.8358, 0.8356, 0.8356, 0.8355, 0.8352, 0.835, 0.835, 0.8347, 0.8345, 0.8344, 0.8322, 0.8306, 0.8292, 0.8292, 0.8292, 0.829, 0.8286, 0.8283, 0.8278, 0.8278, 0.7704, 0.3627, 0.4168, 0.2288, 0.3276, 0.5094, 0.3324, 0.2222, 0.1923, 0.0797, 0.0414, -0.7897, -0.2951, 0.2683, 0.7132, 0.3883, 0.6686, 0.4232, 0.6083, 0.6083, 0.9556, 0.9556, 0.9556, 0.9556, 0.9556, 0.9556, 0.9556, 0.954, 0.9536, 0.9535, 0.9535, 0.9534, 0.9531, 0.953, 0.9529, 0.9529, 0.9528, 0.9527, 0.9527, 0.9524, 0.9524, 0.9524, 0.9523, 0.8336, 0.8283, 0.7958, 0.7932, 0.7834, 0.7454, 0.7442, 0.4126, 0.5179, 0.351, 0.3007, -0.471, -0.0711, -0.4781, -0.6194, 0.7296, 0.7199, 0.1159, 0.6528, -0.6981, -0.0638, 0.4093, 0.6857, -0.2059, 1.3411, 1.319, 1.319, 0.9606, 0.9606, 0.9606, 0.9606, 0.9606, 0.9606, 0.9606, 0.9606, 0.9606, 0.9606, 0.9606, 0.9606, 0.9606, 0.9606, 0.9606, 0.9606, 0.9606, 0.9606, 0.9606, 0.9174, 0.841, 0.8323, 0.7944, 0.7877, 0.7876, 0.7508, 0.7241, 0.4931, 0.4934, 0.4205, 0.3132, -0.1492, -0.4527, -0.2821, 0.5603, -0.5419, 0.0582, 0.4234, 0.4226, 0.1171, 0.5332, 1.2284, 0.9853, 0.9852, 0.9852, 0.9851, 0.9847, 0.9846, 0.9845, 0.9844, 0.983, 0.9828, 0.9825, 0.9823, 0.9823, 0.9823, 0.982, 0.9816, 0.9814, 0.9814, 0.9814, 0.9811, 0.9811, 0.9809, 0.9808, 0.9808, 0.9805, 0.9803, 0.9802, 0.9793, 0.9785, 0.6381, 0.1801, -0.0535, -0.4605, -0.6005, -1.0204, 0.8561, 0.8583, 0.8253, 0.5069, -0.3749, 0.0703, -0.0453, -0.1607, 1.1811, 1.147, 1.1469, 1.1469, 1.1469, 1.1468, 1.0571, 1.0553, 1.0544, 1.054, 1.0529, 1.0506, 1.0483, 1.0473, 1.0457, 1.0415, 1.0391, 1.0058, 0.8611, 0.8184, 0.6829, 0.5551, 0.5314, 0.4832, 0.4744, 0.4707, 0.2151, 0.2151, 0.2151, 0.2126, 0.175, -0.0736, -0.4201, -0.2276, -0.4819, 1.326, 1.2425, 1.2425, 1.2425, 1.1063, 0.9857, 0.9833, 0.7815, 0.6973, 0.306, 0.2745, 0.2745, 0.2745, 0.2361, 0.2361, 0.2361, 0.2361, 0.2361, 0.223, 0.2226, 0.2224, 0.222, 0.2218, 0.2215, 0.2209, 0.2208, 0.2205, 0.2198, 0.2171, 0.1855, 0.1263, -0.014, -0.168, -0.3566, -0.7614, -1.3144, 0.1026, 0.1021, 0.1014, 0.1013, 0.0984, -0.0134, -0.076, -0.0915, -0.3391, -0.0928, -0.3386, -0.0933, -0.0944, -0.436, -1.862, -1.1591, -0.896, 1.2488, 1.2488, 1.2488, 1.1454, 1.0199, 0.8658, 0.8091, 0.6876, 0.6114, 0.2757, 0.2757, 0.2757, 0.2399, 0.2398, 0.2398, 0.2398, 0.2398, 0.2194, 0.2189, 0.2188, 0.2188, 0.2184, 0.2181, 0.2174, 0.2172, 0.2168, 0.216, 0.2152, 0.1893, 0.1893, 0.0641, 0.0189, -0.0103, -0.1642, -0.1909, -0.349, -0.4967, 0.1507, 0.1462, 0.1438, 0.1431, -0.0054, 0.0265, 0.0278, 0.0731, 0.0728, 0.0263, 0.0715, 0.0708, 0.0689, 0.0688, -0.727, -1.8207, -0.7077, -0.4111, -0.3341, -0.214, -0.8236]}, \"token.table\": {\"Topic\": [2, 2, 3, 1, 4, 1, 2, 1, 1, 1, 2, 3, 2, 3, 3, 2, 3, 1, 1, 1, 2, 3, 6, 7, 2, 1, 1, 3, 3, 2, 2, 3, 1, 3, 2, 2, 3, 2, 2, 3, 3, 1, 1, 2, 3, 4, 5, 6, 7, 2, 2, 1, 2, 1, 2, 3, 4, 3, 1, 3, 3, 1, 2, 2, 2, 1, 2, 3, 3, 1, 1, 2, 3, 4, 5, 6, 7, 3, 1, 2, 3, 4, 5, 7, 2, 1, 2, 3, 2, 1, 1, 3, 7, 1, 2, 2, 2, 1, 3, 2, 3, 2, 3, 3, 1, 2, 3, 3, 3, 1, 3, 1, 3, 1, 2, 1, 1, 1, 3, 1, 3, 2, 3, 1, 2, 3, 4, 6, 1, 1, 2, 1, 2, 1, 2, 3, 4, 6, 7, 3, 2, 1, 3, 1, 2, 3, 4, 1, 2, 3, 4, 3, 2, 3, 1, 1, 1, 1, 2, 2, 1, 3, 1, 3, 4, 1, 3, 7, 1, 1, 2, 2, 3, 2, 3, 2, 4, 2, 1, 1, 2, 3, 4, 2, 2, 3, 1, 1, 6, 1, 3, 1, 2, 3, 4, 5, 6, 7, 3, 3, 2, 2, 3, 2, 3, 2, 3, 3, 2, 1, 1, 2, 3, 4, 5, 1, 1, 2, 1, 1, 2, 4, 6, 3, 3, 1, 4, 1, 2, 5, 3, 6, 2, 2, 2, 1, 2, 3, 5, 1, 2, 3, 5, 2, 3, 1, 6, 1], \"Freq\": [0.5256497277308758, 0.38468579619036763, 0.38468579619036763, 0.49771478183877726, 0.24885739091938863, 0.41365923343278505, 0.5254978966085679, 0.44328041454110034, 0.5101789350559977, 0.3857405191438569, 0.3857405191438569, 0.547004497249199, 0.43432142133129875, 0.5470077392904525, 0.5470067247159289, 0.4339307345113653, 0.4339307345113653, 0.4257236513142932, 0.5101789120175806, 0.44728159824013203, 0.22364079912006601, 0.22364079912006601, 0.22364079912006601, 0.4597266074435838, 0.440629197244361, 0.5110504577646795, 0.36349580191722985, 0.36349580191722985, 0.5477457912748502, 0.40962759151302275, 0.5256256958951651, 0.5470063450669578, 0.5101789350559977, 0.5470062362352214, 0.5254976634323063, 0.3793768291850436, 0.3793768291850436, 0.5254982563960788, 0.46775453735486056, 0.5468116158552565, 0.5470072420799402, 0.5101789811328381, 0.38797671469683037, 0.29098253602262275, 0.09699417867420759, 0.048497089337103796, 0.048497089337103796, 0.048497089337103796, 0.048497089337103796, 0.5256430780037522, 0.5256385385130098, 0.4566552070341385, 0.5257925773580207, 0.11027065198681792, 0.33081195596045376, 0.33081195596045376, 0.11027065198681792, 0.4645915794777931, 0.3818795051230894, 0.3818795051230894, 0.547004497249199, 0.5101789811328381, 0.4343447091639267, 0.5256463379012092, 0.5256656351693016, 0.31211171388173164, 0.31211171388173164, 0.31211171388173164, 0.5468349846739915, 0.4429392821149158, 0.4244292850926895, 0.1697717140370758, 0.0848858570185379, 0.1697717140370758, 0.0848858570185379, 0.0848858570185379, 0.0848858570185379, 0.48661097658047436, 0.2550601814395115, 0.12753009071975574, 0.12753009071975574, 0.12753009071975574, 0.12753009071975574, 0.12753009071975574, 0.5264977849729392, 0.5109379054781559, 0.5255940520972993, 0.4996788216420506, 0.526559976647312, 0.49106689251843744, 0.35786711894245526, 0.35786711894245526, 0.35786711894245526, 0.5101789350559977, 0.43432097695327304, 0.5256718756695457, 0.525498005787844, 0.5109746962084263, 0.547004497249199, 0.5254980733376708, 0.42046936906201793, 0.4479913927440921, 0.4479913927440921, 0.5470054147724527, 0.2584245290711852, 0.2584245290711852, 0.2584245290711852, 0.48655846316027934, 0.5468050293983451, 0.3909693902903039, 0.3909693902903039, 0.44839613676861245, 0.48513492196324826, 0.4500128416511727, 0.5254979965125711, 0.5101789350559977, 0.36838836709828776, 0.5110641475200731, 0.547004497249199, 0.5108286388206547, 0.5470066575905784, 0.35949842460786735, 0.35949842460786735, 0.18543915905329383, 0.18543915905329383, 0.18543915905329383, 0.18543915905329383, 0.18543915905329383, 0.5101789350559977, 0.5101788889791656, 0.5263734673151108, 0.36567408884667485, 0.36567408884667485, 0.3224773857744037, 0.16123869288720186, 0.16123869288720186, 0.16123869288720186, 0.16123869288720186, 0.16123869288720186, 0.5470064860356502, 0.5264920413372909, 0.3635523756091966, 0.3635523756091966, 0.46475758100557885, 0.1549191936685263, 0.1549191936685263, 0.1549191936685263, 0.33371942928238973, 0.33371942928238973, 0.33371942928238973, 0.477476889609391, 0.547714316612397, 0.4060769200262492, 0.4060769200262492, 0.5101789350559977, 0.4134438864462645, 0.5101788889791656, 0.5101789580944168, 0.4690070501917624, 0.5062546658819926, 0.4003852766228739, 0.547006927010224, 0.355244397941328, 0.355244397941328, 0.4294127298038642, 0.5527986123279852, 0.1842662041093284, 0.1842662041093284, 0.45529707473211484, 0.37584225142773003, 0.37584225142773003, 0.5265361620638835, 0.5470045571968704, 0.5254976914592966, 0.41891774659711206, 0.23338024237820448, 0.23338024237820448, 0.5254980612037006, 0.5101789350559977, 0.36140784796846426, 0.18070392398423213, 0.18070392398423213, 0.18070392398423213, 0.434347070276613, 0.5254982556704797, 0.5468210181750971, 0.5101789580944168, 0.37745404152811823, 0.37745404152811823, 0.3824664013092063, 0.3824664013092063, 0.36844051189055593, 0.22106430713433356, 0.14737620475622237, 0.14737620475622237, 0.07368810237811119, 0.07368810237811119, 0.07368810237811119, 0.5468382467885201, 0.5480509282192971, 0.5256302127666251, 0.33805636540448025, 0.33805636540448025, 0.5256556409854957, 0.5470044822622832, 0.4478519284697969, 0.4478519284697969, 0.5470075822628576, 0.5256418141793172, 0.5108298358081331, 0.29895309940935905, 0.14947654970467952, 0.14947654970467952, 0.14947654970467952, 0.14947654970467952, 0.5101789350559977, 0.30777510127355695, 0.30777510127355695, 0.5101788889791656, 0.20792570260919224, 0.20792570260919224, 0.20792570260919224, 0.20792570260919224, 0.40746489120234386, 0.5478499549452646, 0.36093612813982145, 0.36093612813982145, 0.1944893702852892, 0.3889787405705784, 0.1944893702852892, 0.4708207495455655, 0.51062390661421, 0.4682803719799958, 0.5255965874478287, 0.5254980344967699, 0.22981540341721615, 0.22981540341721615, 0.22981540341721615, 0.22981540341721615, 0.37058793683811964, 0.18529396841905982, 0.18529396841905982, 0.18529396841905982, 0.33778578113551566, 0.33778578113551566, 0.37727906875245, 0.5106237473548142, 0.44328048466069725], \"Term\": [\"aadi\", \"acusacion\", \"acusacion\", \"al\", \"al\", \"alto\", \"amplia\", \"ant\", \"anuncio\", \"ao\", \"ao\", \"aparent\", \"asesor\", \"bori\", \"bretaa\", \"cnn\", \"cnn\", \"comentario\", \"comenzara\", \"comisin\", \"comisin\", \"comisin\", \"comisin\", \"como\", \"comportamiento\", \"comprueba\", \"comunicacin\", \"comunicacin\", \"comunicado\", \"con\", \"conform\", \"control\", \"convenientement\", \"corrupcin\", \"costo\", \"cualquier\", \"cualquier\", \"cubierto\", \"cum\", \"da\", \"dado\", \"dando\", \"de\", \"de\", \"de\", \"de\", \"de\", \"de\", \"de\", \"declar\", \"declaracin\", \"declarado\", \"dej\", \"del\", \"del\", \"del\", \"del\", \"delito\", \"departamento\", \"departamento\", \"derecho\", \"descubr\", \"despu\", \"determinar\", \"dicha\", \"dijo\", \"dijo\", \"dijo\", \"dominado\", \"durant\", \"el\", \"el\", \"el\", \"el\", \"el\", \"el\", \"el\", \"elector\", \"en\", \"en\", \"en\", \"en\", \"en\", \"en\", \"enfrent\", \"entr\", \"entra\", \"escndalo\", \"escrutinio\", \"eso\", \"est\", \"est\", \"est\", \"esta\", \"ex\", \"exigido\", \"expuesto\", \"facultada\", \"fiscala\", \"forma\", \"formal\", \"gasto\", \"gasto\", \"gran\", \"ha\", \"ha\", \"ha\", \"haber\", \"hace\", \"han\", \"han\", \"hasta\", \"hay\", \"hecho\", \"histrico\", \"hubiera\", \"impon\", \"important\", \"infraccin\", \"infringido\", \"iniciar\", \"investigacin\", \"investigacin\", \"johnson\", \"johnson\", \"johnson\", \"johnson\", \"johnson\", \"justo\", \"keir\", \"lanzara\", \"lder\", \"lder\", \"lo\", \"lo\", \"lo\", \"lo\", \"lo\", \"lo\", \"londr\", \"mayor\", \"medio\", \"medio\", \"ministro\", \"ministro\", \"ministro\", \"ministro\", \"mircol\", \"mircol\", \"mircol\", \"momento\", \"motivo\", \"ms\", \"ms\", \"mucha\", \"multa\", \"municin\", \"negar\", \"obra\", \"oficina\", \"oposicin\", \"organismo\", \"pag\", \"pag\", \"pandemia\", \"para\", \"para\", \"para\", \"parlamento\", \"partido\", \"partido\", \"pasada\", \"penal\", \"personalment\", \"poltico\", \"por\", \"por\", \"portavoz\", \"posiblement\", \"primer\", \"primer\", \"primer\", \"primer\", \"princip\", \"principio\", \"problema\", \"produjo\", \"prstamo\", \"prstamo\", \"pued\", \"pued\", \"que\", \"que\", \"que\", \"que\", \"que\", \"que\", \"que\", \"quin\", \"razon\", \"regulado\", \"reino\", \"reino\", \"relacionada\", \"remitir\", \"remodelacin\", \"remodelacin\", \"renovacion\", \"rgimen\", \"sancion\", \"se\", \"se\", \"se\", \"se\", \"se\", \"seman\", \"semana\", \"semana\", \"sesin\", \"si\", \"si\", \"si\", \"si\", \"sobr\", \"sospechar\", \"starmer\", \"starmer\", \"su\", \"su\", \"su\", \"tambin\", \"tendra\", \"tico\", \"transaccin\", \"transparent\", \"un\", \"un\", \"un\", \"un\", \"una\", \"una\", \"una\", \"una\", \"unido\", \"unido\", \"us\", \"vece\", \"volvi\"]}, \"R\": 30, \"lambda.step\": 0.01, \"plot.opts\": {\"xlab\": \"PC1\", \"ylab\": \"PC2\"}, \"topic.order\": [5, 4, 2, 7, 6, 3, 10, 9, 8, 1]};\n",
              "\n",
              "function LDAvis_load_lib(url, callback){\n",
              "  var s = document.createElement('script');\n",
              "  s.src = url;\n",
              "  s.async = true;\n",
              "  s.onreadystatechange = s.onload = callback;\n",
              "  s.onerror = function(){console.warn(\"failed to load library \" + url);};\n",
              "  document.getElementsByTagName(\"head\")[0].appendChild(s);\n",
              "}\n",
              "\n",
              "if(typeof(LDAvis) !== \"undefined\"){\n",
              "   // already loaded: just create the visualization\n",
              "   !function(LDAvis){\n",
              "       new LDAvis(\"#\" + \"ldavis_el6081404237356508961743840823\", ldavis_el6081404237356508961743840823_data);\n",
              "   }(LDAvis);\n",
              "}else if(typeof define === \"function\" && define.amd){\n",
              "   // require.js is available: use it to load d3/LDAvis\n",
              "   require.config({paths: {d3: \"https://d3js.org/d3.v5\"}});\n",
              "   require([\"d3\"], function(d3){\n",
              "      window.d3 = d3;\n",
              "      LDAvis_load_lib(\"https://cdn.jsdelivr.net/gh/bmabey/pyLDAvis@3.3.1/pyLDAvis/js/ldavis.v3.0.0.js\", function(){\n",
              "        new LDAvis(\"#\" + \"ldavis_el6081404237356508961743840823\", ldavis_el6081404237356508961743840823_data);\n",
              "      });\n",
              "    });\n",
              "}else{\n",
              "    // require.js not available: dynamically load d3 & LDAvis\n",
              "    LDAvis_load_lib(\"https://d3js.org/d3.v5.js\", function(){\n",
              "         LDAvis_load_lib(\"https://cdn.jsdelivr.net/gh/bmabey/pyLDAvis@3.3.1/pyLDAvis/js/ldavis.v3.0.0.js\", function(){\n",
              "                 new LDAvis(\"#\" + \"ldavis_el6081404237356508961743840823\", ldavis_el6081404237356508961743840823_data);\n",
              "            })\n",
              "         });\n",
              "}\n",
              "</script>"
            ],
            "text/plain": [
              "<IPython.core.display.HTML object>"
            ]
          },
          "metadata": {
            "tags": []
          },
          "execution_count": 14
        }
      ]
    },
    {
      "cell_type": "code",
      "metadata": {
        "id": "aeSYkqn_HJeq"
      },
      "source": [
        ""
      ],
      "execution_count": null,
      "outputs": []
    }
  ]
}